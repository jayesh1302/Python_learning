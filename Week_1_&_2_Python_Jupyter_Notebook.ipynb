{
  "nbformat": 4,
  "nbformat_minor": 0,
  "metadata": {
    "kernelspec": {
      "display_name": "Python 3",
      "language": "python",
      "name": "python3"
    },
    "language_info": {
      "codemirror_mode": {
        "name": "ipython",
        "version": 3
      },
      "file_extension": ".py",
      "mimetype": "text/x-python",
      "name": "python",
      "nbconvert_exporter": "python",
      "pygments_lexer": "ipython3",
      "version": "3.6.3"
    },
    "colab": {
      "name": "Week 1 & 2_Python Jupyter Notebook.ipynb",
      "provenance": [],
      "include_colab_link": true
    }
  },
  "cells": [
    {
      "cell_type": "markdown",
      "metadata": {
        "id": "view-in-github",
        "colab_type": "text"
      },
      "source": [
        "<a href=\"https://colab.research.google.com/github/jayesh1302/Python_learning/blob/master/Week_1_%26_2_Python_Jupyter_Notebook.ipynb\" target=\"_parent\"><img src=\"https://colab.research.google.com/assets/colab-badge.svg\" alt=\"Open In Colab\"/></a>"
      ]
    },
    {
      "cell_type": "markdown",
      "metadata": {
        "id": "1tXnaBo-amrq",
        "colab_type": "text"
      },
      "source": [
        "# Week 1: Intro to Python for Data Science (Data Types, Data Structures)"
      ]
    },
    {
      "cell_type": "code",
      "metadata": {
        "id": "pyhZacu5amrv",
        "colab_type": "code",
        "colab": {
          "base_uri": "https://localhost:8080/",
          "height": 34
        },
        "outputId": "b8532ce5-efa6-44ed-ba7b-a3650ac8f381"
      },
      "source": [
        "#First Program\n",
        "print(\"learning python for data science\")"
      ],
      "execution_count": 4,
      "outputs": [
        {
          "output_type": "stream",
          "text": [
            "learning python for data science\n"
          ],
          "name": "stdout"
        }
      ]
    },
    {
      "cell_type": "markdown",
      "metadata": {
        "id": "r5pWHnMFamr9",
        "colab_type": "text"
      },
      "source": [
        "## data types in python\n",
        "#type is used to get data type of different variables in python"
      ]
    },
    {
      "cell_type": "code",
      "metadata": {
        "id": "tYLtyLC0amr_",
        "colab_type": "code",
        "colab": {}
      },
      "source": [
        "# 1: (int for Integer)\n",
        "# 2.34: (float for Real number)\n",
        "# \"hello\": (Str for String)\n",
        "# TRUE/FALSE: (bool for Boolean)"
      ],
      "execution_count": 0,
      "outputs": []
    },
    {
      "cell_type": "code",
      "metadata": {
        "id": "lgK9MnJVamsK",
        "colab_type": "code",
        "colab": {
          "base_uri": "https://localhost:8080/",
          "height": 34
        },
        "outputId": "068ba47a-a921-4886-8790-df76abda8bea"
      },
      "source": [
        "# Trying to get multiple outputs but able to get only one\n",
        "type(\"Hello\")\n",
        "type(3.44)"
      ],
      "execution_count": 6,
      "outputs": [
        {
          "output_type": "execute_result",
          "data": {
            "text/plain": [
              "float"
            ]
          },
          "metadata": {
            "tags": []
          },
          "execution_count": 6
        }
      ]
    },
    {
      "cell_type": "code",
      "metadata": {
        "id": "VDc794htamsa",
        "colab_type": "code",
        "colab": {}
      },
      "source": [
        "# code for getting multiple outputs from a jupyter cell\n",
        "from IPython.core.interactiveshell import InteractiveShell\n",
        "InteractiveShell.ast_node_interactivity = \"all\""
      ],
      "execution_count": 0,
      "outputs": []
    },
    {
      "cell_type": "code",
      "metadata": {
        "id": "pWloqaRgamsm",
        "colab_type": "code",
        "colab": {
          "base_uri": "https://localhost:8080/",
          "height": 34
        },
        "outputId": "d08c627c-0014-434d-84a1-0eac0443680b"
      },
      "source": [
        "# able to get multiple outputs after using core.interactiveshell\n",
        "type(\"Hello\")\n",
        "type(3.44)"
      ],
      "execution_count": 8,
      "outputs": [
        {
          "output_type": "execute_result",
          "data": {
            "text/plain": [
              "str"
            ]
          },
          "metadata": {
            "tags": []
          },
          "execution_count": 8
        },
        {
          "output_type": "execute_result",
          "data": {
            "text/plain": [
              "float"
            ]
          },
          "metadata": {
            "tags": []
          },
          "execution_count": 8
        }
      ]
    },
    {
      "cell_type": "code",
      "metadata": {
        "id": "oJ3q6ITSamsx",
        "colab_type": "code",
        "colab": {
          "base_uri": "https://localhost:8080/",
          "height": 34
        },
        "outputId": "511d4b8c-ffc8-42c7-c2c6-dd9eb5191115"
      },
      "source": [
        "type(3)"
      ],
      "execution_count": 9,
      "outputs": [
        {
          "output_type": "execute_result",
          "data": {
            "text/plain": [
              "int"
            ]
          },
          "metadata": {
            "tags": []
          },
          "execution_count": 9
        }
      ]
    },
    {
      "cell_type": "code",
      "metadata": {
        "id": "E7sOHp9yams8",
        "colab_type": "code",
        "colab": {
          "base_uri": "https://localhost:8080/",
          "height": 34
        },
        "outputId": "8035e6ed-1aa1-4897-be01-5cc04411dc61"
      },
      "source": [
        "type(True)"
      ],
      "execution_count": 10,
      "outputs": [
        {
          "output_type": "execute_result",
          "data": {
            "text/plain": [
              "bool"
            ]
          },
          "metadata": {
            "tags": []
          },
          "execution_count": 10
        }
      ]
    },
    {
      "cell_type": "markdown",
      "metadata": {
        "id": "rpP7FRHKamtJ",
        "colab_type": "text"
      },
      "source": [
        "### Operations and Variables"
      ]
    },
    {
      "cell_type": "markdown",
      "metadata": {
        "id": "jgSmuyFhamtL",
        "colab_type": "text"
      },
      "source": [
        "#### Operations\n",
        "#normal mathematical operations can be directly used in python"
      ]
    },
    {
      "cell_type": "code",
      "metadata": {
        "id": "ElCiI_pYamtN",
        "colab_type": "code",
        "colab": {
          "base_uri": "https://localhost:8080/",
          "height": 34
        },
        "outputId": "78c6899b-b7a8-403e-f941-1dc54aaf2ccb"
      },
      "source": [
        "30+44+12"
      ],
      "execution_count": 11,
      "outputs": [
        {
          "output_type": "execute_result",
          "data": {
            "text/plain": [
              "86"
            ]
          },
          "metadata": {
            "tags": []
          },
          "execution_count": 11
        }
      ]
    },
    {
      "cell_type": "code",
      "metadata": {
        "scrolled": true,
        "id": "pRYicvHTamtX",
        "colab_type": "code",
        "colab": {
          "base_uri": "https://localhost:8080/",
          "height": 34
        },
        "outputId": "d90e51ea-7100-4579-d532-462e1647757d"
      },
      "source": [
        "12-33"
      ],
      "execution_count": 12,
      "outputs": [
        {
          "output_type": "execute_result",
          "data": {
            "text/plain": [
              "-21"
            ]
          },
          "metadata": {
            "tags": []
          },
          "execution_count": 12
        }
      ]
    },
    {
      "cell_type": "code",
      "metadata": {
        "id": "YU-sTtxFamti",
        "colab_type": "code",
        "colab": {
          "base_uri": "https://localhost:8080/",
          "height": 34
        },
        "outputId": "06e7127b-6158-4a84-f5b1-8c045e6acaa2"
      },
      "source": [
        "8*2"
      ],
      "execution_count": 13,
      "outputs": [
        {
          "output_type": "execute_result",
          "data": {
            "text/plain": [
              "16"
            ]
          },
          "metadata": {
            "tags": []
          },
          "execution_count": 13
        }
      ]
    },
    {
      "cell_type": "code",
      "metadata": {
        "id": "lThBxyCdamts",
        "colab_type": "code",
        "colab": {
          "base_uri": "https://localhost:8080/",
          "height": 34
        },
        "outputId": "8acee910-d5ce-404b-dc57-3b608ada1694"
      },
      "source": [
        "4/3"
      ],
      "execution_count": 14,
      "outputs": [
        {
          "output_type": "execute_result",
          "data": {
            "text/plain": [
              "1.3333333333333333"
            ]
          },
          "metadata": {
            "tags": []
          },
          "execution_count": 14
        }
      ]
    },
    {
      "cell_type": "markdown",
      "metadata": {
        "id": "Qrc5Y9aWamt4",
        "colab_type": "text"
      },
      "source": [
        "#### Variables\n",
        "#Variable is a memory location in python to store values"
      ]
    },
    {
      "cell_type": "code",
      "metadata": {
        "id": "ZGFHmqPtamt5",
        "colab_type": "code",
        "colab": {
          "base_uri": "https://localhost:8080/",
          "height": 0
        },
        "outputId": "9dcc7bd5-db8d-4c4d-d087-cad60e168fad"
      },
      "source": [
        "var = 38\n",
        "print(var)"
      ],
      "execution_count": 15,
      "outputs": [
        {
          "output_type": "stream",
          "text": [
            "38\n"
          ],
          "name": "stdout"
        }
      ]
    },
    {
      "cell_type": "code",
      "metadata": {
        "id": "QdVOxslxamuD",
        "colab_type": "code",
        "colab": {
          "base_uri": "https://localhost:8080/",
          "height": 0
        },
        "outputId": "a410f4f8-bbf9-4cc9-92a6-34e4a4a2d5bd"
      },
      "source": [
        "time_in_mins = 233\n",
        "time_in_hours = time_in_mins/60\n",
        "print(time_in_hours)"
      ],
      "execution_count": 16,
      "outputs": [
        {
          "output_type": "stream",
          "text": [
            "3.8833333333333333\n"
          ],
          "name": "stdout"
        }
      ]
    },
    {
      "cell_type": "code",
      "metadata": {
        "id": "5O3oQImkamuM",
        "colab_type": "code",
        "colab": {
          "base_uri": "https://localhost:8080/",
          "height": 0
        },
        "outputId": "db315cea-b606-4930-cbfe-8dd4eee207b2"
      },
      "source": [
        "x = 3 \n",
        "y = 6\n",
        "z = y/x\n",
        "print(z)"
      ],
      "execution_count": 17,
      "outputs": [
        {
          "output_type": "stream",
          "text": [
            "2.0\n"
          ],
          "name": "stdout"
        }
      ]
    },
    {
      "cell_type": "markdown",
      "metadata": {
        "id": "Dlbx8omXamuV",
        "colab_type": "text"
      },
      "source": [
        "### String operations"
      ]
    },
    {
      "cell_type": "code",
      "metadata": {
        "scrolled": true,
        "id": "420nYJ3NamuW",
        "colab_type": "code",
        "colab": {
          "base_uri": "https://localhost:8080/",
          "height": 34
        },
        "outputId": "691adeed-aabc-4950-d83e-c3c89999e418"
      },
      "source": [
        "# Define a string and assign its value to a variable named Place\n",
        "Place = \"UnitedStates\"\n",
        "print(Place)"
      ],
      "execution_count": 18,
      "outputs": [
        {
          "output_type": "stream",
          "text": [
            "UnitedStates\n"
          ],
          "name": "stdout"
        }
      ]
    },
    {
      "cell_type": "code",
      "metadata": {
        "id": "VUrAsBVGamuf",
        "colab_type": "code",
        "colab": {
          "base_uri": "https://localhost:8080/",
          "height": 34
        },
        "outputId": "31f8594f-7c5d-485a-f88d-cdc8bd5e2112"
      },
      "source": [
        "# Indexing in Python starts from 0. \n",
        "# Reason: Index n signifies a memory location that is n-elements away from the starting element.\n",
        "\n",
        "print(Place[0])"
      ],
      "execution_count": 19,
      "outputs": [
        {
          "output_type": "stream",
          "text": [
            "U\n"
          ],
          "name": "stdout"
        }
      ]
    },
    {
      "cell_type": "code",
      "metadata": {
        "id": "dls4j5s7amuo",
        "colab_type": "code",
        "colab": {
          "base_uri": "https://localhost:8080/",
          "height": 248
        },
        "outputId": "bb1a5ec4-3454-461e-e353-608c32744fbd"
      },
      "source": [
        "# Negative indexing (counting backwards)\n",
        "print(Place[-1])\n",
        "print(Place[-7:-1])\n",
        "print(Place[-9])\n",
        "print(Place[-13])"
      ],
      "execution_count": 20,
      "outputs": [
        {
          "output_type": "stream",
          "text": [
            "s\n",
            "dState\n",
            "t\n"
          ],
          "name": "stdout"
        },
        {
          "output_type": "error",
          "ename": "IndexError",
          "evalue": "ignored",
          "traceback": [
            "\u001b[0;31m---------------------------------------------------------------------------\u001b[0m",
            "\u001b[0;31mIndexError\u001b[0m                                Traceback (most recent call last)",
            "\u001b[0;32m<ipython-input-20-415e704a9747>\u001b[0m in \u001b[0;36m<module>\u001b[0;34m()\u001b[0m\n\u001b[1;32m      3\u001b[0m \u001b[0mprint\u001b[0m\u001b[0;34m(\u001b[0m\u001b[0mPlace\u001b[0m\u001b[0;34m[\u001b[0m\u001b[0;34m-\u001b[0m\u001b[0;36m7\u001b[0m\u001b[0;34m:\u001b[0m\u001b[0;34m-\u001b[0m\u001b[0;36m1\u001b[0m\u001b[0;34m]\u001b[0m\u001b[0;34m)\u001b[0m\u001b[0;34m\u001b[0m\u001b[0;34m\u001b[0m\u001b[0m\n\u001b[1;32m      4\u001b[0m \u001b[0mprint\u001b[0m\u001b[0;34m(\u001b[0m\u001b[0mPlace\u001b[0m\u001b[0;34m[\u001b[0m\u001b[0;34m-\u001b[0m\u001b[0;36m9\u001b[0m\u001b[0;34m]\u001b[0m\u001b[0;34m)\u001b[0m\u001b[0;34m\u001b[0m\u001b[0;34m\u001b[0m\u001b[0m\n\u001b[0;32m----> 5\u001b[0;31m \u001b[0mprint\u001b[0m\u001b[0;34m(\u001b[0m\u001b[0mPlace\u001b[0m\u001b[0;34m[\u001b[0m\u001b[0;34m-\u001b[0m\u001b[0;36m13\u001b[0m\u001b[0;34m]\u001b[0m\u001b[0;34m)\u001b[0m\u001b[0;34m\u001b[0m\u001b[0;34m\u001b[0m\u001b[0m\n\u001b[0m",
            "\u001b[0;31mIndexError\u001b[0m: string index out of range"
          ]
        }
      ]
    },
    {
      "cell_type": "code",
      "metadata": {
        "scrolled": true,
        "id": "wPrjdjtwamuz",
        "colab_type": "code",
        "colab": {
          "base_uri": "https://localhost:8080/",
          "height": 34
        },
        "outputId": "4f71cdac-d72c-4fd3-cb5e-76291b82cf9b"
      },
      "source": [
        "#Getting length of string\n",
        "len(Place)"
      ],
      "execution_count": 21,
      "outputs": [
        {
          "output_type": "execute_result",
          "data": {
            "text/plain": [
              "12"
            ]
          },
          "metadata": {
            "tags": []
          },
          "execution_count": 21
        }
      ]
    },
    {
      "cell_type": "code",
      "metadata": {
        "id": "AVcSxqmVamu7",
        "colab_type": "code",
        "colab": {
          "base_uri": "https://localhost:8080/",
          "height": 34
        },
        "outputId": "b7ed5369-e6c6-4a80-fa5c-3fcf1f9f9809"
      },
      "source": [
        "#accessing elements of string in python with indexing\n",
        "Place[0:3]\n",
        "Place[4:6]"
      ],
      "execution_count": 22,
      "outputs": [
        {
          "output_type": "execute_result",
          "data": {
            "text/plain": [
              "'Uni'"
            ]
          },
          "metadata": {
            "tags": []
          },
          "execution_count": 22
        },
        {
          "output_type": "execute_result",
          "data": {
            "text/plain": [
              "'ed'"
            ]
          },
          "metadata": {
            "tags": []
          },
          "execution_count": 22
        }
      ]
    },
    {
      "cell_type": "code",
      "metadata": {
        "id": "UKka-5tTamvF",
        "colab_type": "code",
        "colab": {
          "base_uri": "https://localhost:8080/",
          "height": 34
        },
        "outputId": "8e132582-0f6f-470a-8b7b-a1d145a43171"
      },
      "source": [
        "# adding a string variable and string together to get a new variable\n",
        "fact = Place + \" America\"\n",
        "fact"
      ],
      "execution_count": 23,
      "outputs": [
        {
          "output_type": "execute_result",
          "data": {
            "text/plain": [
              "'UnitedStates America'"
            ]
          },
          "metadata": {
            "tags": []
          },
          "execution_count": 23
        }
      ]
    },
    {
      "cell_type": "code",
      "metadata": {
        "id": "M0mLKz07amvO",
        "colab_type": "code",
        "colab": {
          "base_uri": "https://localhost:8080/",
          "height": 51
        },
        "outputId": "4bbe006a-6644-4ed9-822c-4d72e12ba9be"
      },
      "source": [
        "#Using .upper() method to uppercase string. Method is function specific to an object\n",
        "X=fact\n",
        "print(\"before upper:\",X)\n",
        "Y= X.upper()\n",
        "print(\"After upper:\",Y)"
      ],
      "execution_count": 24,
      "outputs": [
        {
          "output_type": "stream",
          "text": [
            "before upper: UnitedStates America\n",
            "After upper: UNITEDSTATES AMERICA\n"
          ],
          "name": "stdout"
        }
      ]
    },
    {
      "cell_type": "code",
      "metadata": {
        "scrolled": true,
        "id": "GXiz2_J0amvX",
        "colab_type": "code",
        "colab": {
          "base_uri": "https://localhost:8080/",
          "height": 34
        },
        "outputId": "ea4666e0-9c92-46dd-9ef0-065bec234c89"
      },
      "source": [
        "# Using .replace() method to replace part of a string\n",
        "X\n",
        "Y=X.replace('UnitedStates ', 'Z')\n",
        "Y"
      ],
      "execution_count": 25,
      "outputs": [
        {
          "output_type": "execute_result",
          "data": {
            "text/plain": [
              "'UnitedStates America'"
            ]
          },
          "metadata": {
            "tags": []
          },
          "execution_count": 25
        },
        {
          "output_type": "execute_result",
          "data": {
            "text/plain": [
              "'ZAmerica'"
            ]
          },
          "metadata": {
            "tags": []
          },
          "execution_count": 25
        }
      ]
    },
    {
      "cell_type": "code",
      "metadata": {
        "id": "k403zanEamvl",
        "colab_type": "code",
        "colab": {
          "base_uri": "https://localhost:8080/",
          "height": 34
        },
        "outputId": "bcc2e72e-7079-42f5-9d41-e0b65357b7be"
      },
      "source": [
        "Y\n",
        "Y = Y.replace('i',\"\")"
      ],
      "execution_count": 26,
      "outputs": [
        {
          "output_type": "execute_result",
          "data": {
            "text/plain": [
              "'ZAmerica'"
            ]
          },
          "metadata": {
            "tags": []
          },
          "execution_count": 26
        }
      ]
    },
    {
      "cell_type": "code",
      "metadata": {
        "id": "0bE4a4M2amvv",
        "colab_type": "code",
        "colab": {
          "base_uri": "https://localhost:8080/",
          "height": 34
        },
        "outputId": "db6e219d-ffb7-41c0-a5ff-1084fd80de83"
      },
      "source": [
        "# Using .find() method to find position of character/string inside a string\n",
        "len(X)\n",
        "X.find('America')"
      ],
      "execution_count": 27,
      "outputs": [
        {
          "output_type": "execute_result",
          "data": {
            "text/plain": [
              "20"
            ]
          },
          "metadata": {
            "tags": []
          },
          "execution_count": 27
        },
        {
          "output_type": "execute_result",
          "data": {
            "text/plain": [
              "13"
            ]
          },
          "metadata": {
            "tags": []
          },
          "execution_count": 27
        }
      ]
    },
    {
      "cell_type": "markdown",
      "metadata": {
        "id": "DbgpmnEVamv9",
        "colab_type": "text"
      },
      "source": [
        "## Python : Data Structures\n",
        "\n",
        "#In python, everything is an object. An object is collection of data points / variables.\n",
        "#Data structures for organizing, manipulating, storing data\n",
        "#4 major data structures : list, dictionaries, tuples, sets"
      ]
    },
    {
      "cell_type": "markdown",
      "metadata": {
        "id": "XhoGLJqpamv_",
        "colab_type": "text"
      },
      "source": [
        "### Lists \n",
        "#In list order stays same and elements can be accessed using their position."
      ]
    },
    {
      "cell_type": "code",
      "metadata": {
        "id": "UHmIBexyamwA",
        "colab_type": "code",
        "colab": {}
      },
      "source": [
        "metros = ['Bengaluru','Mumbai','Delhi']"
      ],
      "execution_count": 0,
      "outputs": []
    },
    {
      "cell_type": "code",
      "metadata": {
        "id": "EFsgz5MYamwH",
        "colab_type": "code",
        "colab": {
          "base_uri": "https://localhost:8080/",
          "height": 0
        },
        "outputId": "02f85394-5999-4eaa-8fcb-905bb4962a5d"
      },
      "source": [
        "#accessing elements of list using indexing\n",
        "metros[1]"
      ],
      "execution_count": 29,
      "outputs": [
        {
          "output_type": "execute_result",
          "data": {
            "text/plain": [
              "'Mumbai'"
            ]
          },
          "metadata": {
            "tags": []
          },
          "execution_count": 29
        }
      ]
    },
    {
      "cell_type": "code",
      "metadata": {
        "scrolled": true,
        "id": "7-3OCOVUamwP",
        "colab_type": "code",
        "colab": {
          "base_uri": "https://localhost:8080/",
          "height": 0
        },
        "outputId": "c16854de-db2d-498f-fc81-2204b293b6a5"
      },
      "source": [
        "type(metros)"
      ],
      "execution_count": 30,
      "outputs": [
        {
          "output_type": "execute_result",
          "data": {
            "text/plain": [
              "list"
            ]
          },
          "metadata": {
            "tags": []
          },
          "execution_count": 30
        }
      ]
    },
    {
      "cell_type": "code",
      "metadata": {
        "id": "yJaFPcLvamwW",
        "colab_type": "code",
        "colab": {
          "base_uri": "https://localhost:8080/",
          "height": 0
        },
        "outputId": "573dc3a8-62c8-4741-c626-b399467646eb"
      },
      "source": [
        "len(metros)"
      ],
      "execution_count": 31,
      "outputs": [
        {
          "output_type": "execute_result",
          "data": {
            "text/plain": [
              "3"
            ]
          },
          "metadata": {
            "tags": []
          },
          "execution_count": 31
        }
      ]
    },
    {
      "cell_type": "code",
      "metadata": {
        "id": "Sg3yHW1mamwf",
        "colab_type": "code",
        "colab": {
          "base_uri": "https://localhost:8080/",
          "height": 0
        },
        "outputId": "ae64b91a-d4d6-47be-e762-3cb142b6aebc"
      },
      "source": [
        "# Using .append() method to add elements to a list\n",
        "metros.append(\"Pune\")\n",
        "metros"
      ],
      "execution_count": 32,
      "outputs": [
        {
          "output_type": "execute_result",
          "data": {
            "text/plain": [
              "['Bengaluru', 'Mumbai', 'Delhi', 'Pune']"
            ]
          },
          "metadata": {
            "tags": []
          },
          "execution_count": 32
        }
      ]
    },
    {
      "cell_type": "code",
      "metadata": {
        "id": "k9LRiDDdamwr",
        "colab_type": "code",
        "colab": {
          "base_uri": "https://localhost:8080/",
          "height": 0
        },
        "outputId": "894d2748-620a-4d67-9772-5d2b918c4421"
      },
      "source": [
        "# Using .pop() method to delete elements of a list\n",
        "metros.pop(1)"
      ],
      "execution_count": 33,
      "outputs": [
        {
          "output_type": "execute_result",
          "data": {
            "text/plain": [
              "'Mumbai'"
            ]
          },
          "metadata": {
            "tags": []
          },
          "execution_count": 33
        }
      ]
    },
    {
      "cell_type": "code",
      "metadata": {
        "id": "Cc_Ervfiamwy",
        "colab_type": "code",
        "colab": {
          "base_uri": "https://localhost:8080/",
          "height": 0
        },
        "outputId": "596fc5f1-872c-4ead-d048-a65687a94dce"
      },
      "source": [
        "# calling the list again to confirm that element at index 1 is deleted\n",
        "metros"
      ],
      "execution_count": 34,
      "outputs": [
        {
          "output_type": "execute_result",
          "data": {
            "text/plain": [
              "['Bengaluru', 'Delhi', 'Pune']"
            ]
          },
          "metadata": {
            "tags": []
          },
          "execution_count": 34
        }
      ]
    },
    {
      "cell_type": "markdown",
      "metadata": {
        "id": "gp2zC9BZamw5",
        "colab_type": "text"
      },
      "source": [
        "### Dictionaries\n",
        "#Unordered and values are accessed by keys. Dictionaries have key-value pairs.\n",
        "#Keys are unique. Values can be duplicate."
      ]
    },
    {
      "cell_type": "code",
      "metadata": {
        "id": "slkvjv-hamw7",
        "colab_type": "code",
        "colab": {}
      },
      "source": [
        "Planet_locations = { \n",
        "  'Mars': 4, # a key-value pair\n",
        "  'Earth': 3,\n",
        "  'Venus': 2,\n",
        "}"
      ],
      "execution_count": 0,
      "outputs": []
    },
    {
      "cell_type": "code",
      "metadata": {
        "id": "BHDMfQ6vamxC",
        "colab_type": "code",
        "colab": {
          "base_uri": "https://localhost:8080/",
          "height": 0
        },
        "outputId": "f10429bb-4fb0-4cda-8745-841477ebb1a8"
      },
      "source": [
        "# Accessing keys using .keys() method\n",
        "Planet_locations.keys()"
      ],
      "execution_count": 36,
      "outputs": [
        {
          "output_type": "execute_result",
          "data": {
            "text/plain": [
              "dict_keys(['Mars', 'Earth', 'Venus'])"
            ]
          },
          "metadata": {
            "tags": []
          },
          "execution_count": 36
        }
      ]
    },
    {
      "cell_type": "code",
      "metadata": {
        "id": "Gf2vAQ4XamxK",
        "colab_type": "code",
        "colab": {
          "base_uri": "https://localhost:8080/",
          "height": 0
        },
        "outputId": "713208c4-7cc2-4896-b690-78268d609af1"
      },
      "source": [
        "# getting the data type of dictionary\n",
        "type(Planet_locations)"
      ],
      "execution_count": 37,
      "outputs": [
        {
          "output_type": "execute_result",
          "data": {
            "text/plain": [
              "dict"
            ]
          },
          "metadata": {
            "tags": []
          },
          "execution_count": 37
        }
      ]
    },
    {
      "cell_type": "code",
      "metadata": {
        "id": "OJF3wAKgamxS",
        "colab_type": "code",
        "colab": {
          "base_uri": "https://localhost:8080/",
          "height": 0
        },
        "outputId": "7c25f0f9-5226-4d1f-8088-c9b8539b7081"
      },
      "source": [
        "# Accessing values using .values() method\n",
        "Planet_locations.values()"
      ],
      "execution_count": 38,
      "outputs": [
        {
          "output_type": "execute_result",
          "data": {
            "text/plain": [
              "dict_values([4, 3, 2])"
            ]
          },
          "metadata": {
            "tags": []
          },
          "execution_count": 38
        }
      ]
    },
    {
      "cell_type": "code",
      "metadata": {
        "id": "aiLGvhRsamxb",
        "colab_type": "code",
        "colab": {
          "base_uri": "https://localhost:8080/",
          "height": 0
        },
        "outputId": "8cfa090c-ba59-4f06-d5b2-3e906084d905"
      },
      "source": [
        "type(Planet_locations.keys())"
      ],
      "execution_count": 39,
      "outputs": [
        {
          "output_type": "execute_result",
          "data": {
            "text/plain": [
              "dict_keys"
            ]
          },
          "metadata": {
            "tags": []
          },
          "execution_count": 39
        }
      ]
    },
    {
      "cell_type": "markdown",
      "metadata": {
        "id": "zdfwVZVpamxk",
        "colab_type": "text"
      },
      "source": [
        "### Tuples\n",
        "#work like lists except they are immutable which means they can’t be changed in place."
      ]
    },
    {
      "cell_type": "code",
      "metadata": {
        "id": "s5rnjlzZamxl",
        "colab_type": "code",
        "colab": {
          "base_uri": "https://localhost:8080/",
          "height": 0
        },
        "outputId": "e8832343-8d0e-41c5-f5cf-6911fc7b7b85"
      },
      "source": [
        "p = (1, ) \n",
        "q = ('t', 4, 3, 2) \n",
        "r = ('A', ('B', 'C'))   #Nested Tuple\n",
        "len(p) "
      ],
      "execution_count": 40,
      "outputs": [
        {
          "output_type": "execute_result",
          "data": {
            "text/plain": [
              "1"
            ]
          },
          "metadata": {
            "tags": []
          },
          "execution_count": 40
        }
      ]
    },
    {
      "cell_type": "code",
      "metadata": {
        "id": "aIoYO8aTamxt",
        "colab_type": "code",
        "colab": {
          "base_uri": "https://localhost:8080/",
          "height": 0
        },
        "outputId": "c3831b65-0c9a-4ac6-ed2d-bbe75e0f4663"
      },
      "source": [
        "type(p)"
      ],
      "execution_count": 41,
      "outputs": [
        {
          "output_type": "execute_result",
          "data": {
            "text/plain": [
              "tuple"
            ]
          },
          "metadata": {
            "tags": []
          },
          "execution_count": 41
        }
      ]
    },
    {
      "cell_type": "code",
      "metadata": {
        "scrolled": true,
        "id": "EBBrpslIamx4",
        "colab_type": "code",
        "colab": {
          "base_uri": "https://localhost:8080/",
          "height": 0
        },
        "outputId": "ee55b0b9-0fd7-4ba6-dbf9-b6c6f6f093da"
      },
      "source": [
        "# Accessing elements of a nested tuple\n",
        "r[1]\n",
        "r[1][0]"
      ],
      "execution_count": 42,
      "outputs": [
        {
          "output_type": "execute_result",
          "data": {
            "text/plain": [
              "('B', 'C')"
            ]
          },
          "metadata": {
            "tags": []
          },
          "execution_count": 42
        },
        {
          "output_type": "execute_result",
          "data": {
            "text/plain": [
              "'B'"
            ]
          },
          "metadata": {
            "tags": []
          },
          "execution_count": 42
        }
      ]
    },
    {
      "cell_type": "markdown",
      "metadata": {
        "id": "sCb2-1lcamyO",
        "colab_type": "text"
      },
      "source": [
        "### Sets\n",
        "#Collection of unique items in an unordered and unindexed manner. \n",
        "#Set operations like union, intersection work on them"
      ]
    },
    {
      "cell_type": "code",
      "metadata": {
        "id": "giEuVNSjamyP",
        "colab_type": "code",
        "colab": {}
      },
      "source": [
        "# Defining 2 sets\n",
        "Planets = {'venus','Earth','Mars'}\n",
        "locations = {2,3,4}"
      ],
      "execution_count": 0,
      "outputs": []
    },
    {
      "cell_type": "code",
      "metadata": {
        "id": "r9WGilC0amyX",
        "colab_type": "code",
        "colab": {
          "base_uri": "https://localhost:8080/",
          "height": 0
        },
        "outputId": "d8ee0412-3146-47c7-bf34-6202d7c469ed"
      },
      "source": [
        "Planet_locations = Planets.union(locations)\n",
        "Planets\n",
        "locations\n",
        "Planet_locations"
      ],
      "execution_count": 44,
      "outputs": [
        {
          "output_type": "execute_result",
          "data": {
            "text/plain": [
              "{'Earth', 'Mars', 'venus'}"
            ]
          },
          "metadata": {
            "tags": []
          },
          "execution_count": 44
        },
        {
          "output_type": "execute_result",
          "data": {
            "text/plain": [
              "{2, 3, 4}"
            ]
          },
          "metadata": {
            "tags": []
          },
          "execution_count": 44
        },
        {
          "output_type": "execute_result",
          "data": {
            "text/plain": [
              "{2, 3, 4, 'Earth', 'Mars', 'venus'}"
            ]
          },
          "metadata": {
            "tags": []
          },
          "execution_count": 44
        }
      ]
    },
    {
      "cell_type": "markdown",
      "metadata": {
        "id": "L09QhLj-amyi",
        "colab_type": "text"
      },
      "source": [
        "## NumPy and pandas libraries"
      ]
    },
    {
      "cell_type": "markdown",
      "metadata": {
        "id": "YaXviqM_amyj",
        "colab_type": "text"
      },
      "source": [
        "### NumPy\n",
        "#Numpy(Numerical Python) is a mathematical library and its helpful as its allow to use arrays in python."
      ]
    },
    {
      "cell_type": "code",
      "metadata": {
        "id": "KudKLnoaamyo",
        "colab_type": "code",
        "colab": {
          "base_uri": "https://localhost:8080/",
          "height": 0
        },
        "outputId": "d28ebdc7-52dd-4fc7-dbcd-d454f4de0dd9"
      },
      "source": [
        "# use .array() method to define an array using NumPy\n",
        "# use .arange(start,stop,step,dtype) to create large n-dimensional array/matrices using NumPy\n",
        "import numpy as np\n",
        "b = np.array([1,2,3,4,5])\n",
        "b\n",
        "c = np.arange(1,10,0.3,float)\n",
        "c"
      ],
      "execution_count": 45,
      "outputs": [
        {
          "output_type": "execute_result",
          "data": {
            "text/plain": [
              "array([1, 2, 3, 4, 5])"
            ]
          },
          "metadata": {
            "tags": []
          },
          "execution_count": 45
        },
        {
          "output_type": "execute_result",
          "data": {
            "text/plain": [
              "array([1. , 1.3, 1.6, 1.9, 2.2, 2.5, 2.8, 3.1, 3.4, 3.7, 4. , 4.3, 4.6,\n",
              "       4.9, 5.2, 5.5, 5.8, 6.1, 6.4, 6.7, 7. , 7.3, 7.6, 7.9, 8.2, 8.5,\n",
              "       8.8, 9.1, 9.4, 9.7])"
            ]
          },
          "metadata": {
            "tags": []
          },
          "execution_count": 45
        }
      ]
    },
    {
      "cell_type": "code",
      "metadata": {
        "id": "_7zA6DnSamyw",
        "colab_type": "code",
        "colab": {
          "base_uri": "https://localhost:8080/",
          "height": 0
        },
        "outputId": "f2c14410-4046-4e2d-ea87-4f7bf5c0e3ec"
      },
      "source": [
        "#use .random() to get random values\n",
        "a = np.random.randint(0,50,size=(50, 5))\n",
        "a"
      ],
      "execution_count": 46,
      "outputs": [
        {
          "output_type": "execute_result",
          "data": {
            "text/plain": [
              "array([[24,  2, 45, 45, 20],\n",
              "       [45, 29,  1, 28,  6],\n",
              "       [39, 10, 46, 15, 31],\n",
              "       [33, 32, 35, 38, 42],\n",
              "       [15, 34, 23, 43,  9],\n",
              "       [ 2, 13,  3,  8, 36],\n",
              "       [36, 26,  2, 36, 18],\n",
              "       [ 2, 13, 42,  8, 14],\n",
              "       [ 6, 46, 45,  4, 26],\n",
              "       [38,  6, 43, 27, 15],\n",
              "       [11,  0, 29, 20, 45],\n",
              "       [49, 48, 27, 13,  2],\n",
              "       [44, 28,  7, 40, 45],\n",
              "       [23, 38, 49, 21, 29],\n",
              "       [ 1, 15,  3, 26, 20],\n",
              "       [26, 14,  0, 42, 11],\n",
              "       [31, 49, 17, 22, 45],\n",
              "       [15,  4, 18, 47, 49],\n",
              "       [40,  0,  4, 36, 25],\n",
              "       [19,  6, 39, 16, 25],\n",
              "       [ 0, 13, 37,  8, 41],\n",
              "       [10, 24, 16, 39,  7],\n",
              "       [31, 10, 25, 38,  3],\n",
              "       [ 9,  2, 37, 45, 13],\n",
              "       [46,  0, 46, 23, 44],\n",
              "       [ 3, 11, 46, 39, 40],\n",
              "       [10, 48, 48, 29, 21],\n",
              "       [ 5, 48, 15,  5, 36],\n",
              "       [29, 22, 25, 11, 49],\n",
              "       [10,  6, 33, 23, 20],\n",
              "       [18,  1, 35, 39, 24],\n",
              "       [27,  7, 25, 24,  9],\n",
              "       [39, 40,  0,  6, 41],\n",
              "       [ 4, 12, 16, 23, 12],\n",
              "       [25, 36, 45,  4,  3],\n",
              "       [29, 31, 18, 44, 16],\n",
              "       [44, 41, 37, 36, 41],\n",
              "       [16, 41, 34, 20, 47],\n",
              "       [46, 29, 33, 23, 21],\n",
              "       [ 8,  5, 19,  4, 11],\n",
              "       [38, 14,  9, 31, 37],\n",
              "       [49,  1, 28, 19, 27],\n",
              "       [37, 42, 20,  6, 13],\n",
              "       [44, 10,  6, 25, 14],\n",
              "       [15,  2, 13,  3,  2],\n",
              "       [15, 27, 22, 28, 45],\n",
              "       [ 8,  6, 39, 27, 33],\n",
              "       [26, 32, 42,  6, 47],\n",
              "       [31, 40,  4, 26, 31],\n",
              "       [40, 36, 22, 32, 19]])"
            ]
          },
          "metadata": {
            "tags": []
          },
          "execution_count": 46
        }
      ]
    },
    {
      "cell_type": "code",
      "metadata": {
        "id": "cd2f8ouWamy7",
        "colab_type": "code",
        "colab": {
          "base_uri": "https://localhost:8080/",
          "height": 0
        },
        "outputId": "8246b3d5-c4b7-4e16-985b-bcc6da6b5c77"
      },
      "source": [
        "type(a)\n",
        "a.shape"
      ],
      "execution_count": 47,
      "outputs": [
        {
          "output_type": "execute_result",
          "data": {
            "text/plain": [
              "numpy.ndarray"
            ]
          },
          "metadata": {
            "tags": []
          },
          "execution_count": 47
        },
        {
          "output_type": "execute_result",
          "data": {
            "text/plain": [
              "(50, 5)"
            ]
          },
          "metadata": {
            "tags": []
          },
          "execution_count": 47
        }
      ]
    },
    {
      "cell_type": "markdown",
      "metadata": {
        "id": "g3Ya6H4FamzE",
        "colab_type": "text"
      },
      "source": [
        "### pandas DataFrame\n",
        "#pandas is a python library mainly used for data manipulation. DataFrame is its key data structure. \n",
        "#Its similar to data table, database, spreadsheet "
      ]
    },
    {
      "cell_type": "code",
      "metadata": {
        "id": "VHoSCm88amzH",
        "colab_type": "code",
        "colab": {
          "base_uri": "https://localhost:8080/",
          "height": 0
        },
        "outputId": "29b4af18-1682-4464-e35d-ada2d2ed93c8"
      },
      "source": [
        "import pandas as pd \n",
        "\n",
        "# Create the pandas DataFrame \n",
        "\n",
        "df = pd.DataFrame(a, columns=list('PQRST'))\n",
        "df"
      ],
      "execution_count": 48,
      "outputs": [
        {
          "output_type": "execute_result",
          "data": {
            "text/html": [
              "<div>\n",
              "<style scoped>\n",
              "    .dataframe tbody tr th:only-of-type {\n",
              "        vertical-align: middle;\n",
              "    }\n",
              "\n",
              "    .dataframe tbody tr th {\n",
              "        vertical-align: top;\n",
              "    }\n",
              "\n",
              "    .dataframe thead th {\n",
              "        text-align: right;\n",
              "    }\n",
              "</style>\n",
              "<table border=\"1\" class=\"dataframe\">\n",
              "  <thead>\n",
              "    <tr style=\"text-align: right;\">\n",
              "      <th></th>\n",
              "      <th>P</th>\n",
              "      <th>Q</th>\n",
              "      <th>R</th>\n",
              "      <th>S</th>\n",
              "      <th>T</th>\n",
              "    </tr>\n",
              "  </thead>\n",
              "  <tbody>\n",
              "    <tr>\n",
              "      <th>0</th>\n",
              "      <td>24</td>\n",
              "      <td>2</td>\n",
              "      <td>45</td>\n",
              "      <td>45</td>\n",
              "      <td>20</td>\n",
              "    </tr>\n",
              "    <tr>\n",
              "      <th>1</th>\n",
              "      <td>45</td>\n",
              "      <td>29</td>\n",
              "      <td>1</td>\n",
              "      <td>28</td>\n",
              "      <td>6</td>\n",
              "    </tr>\n",
              "    <tr>\n",
              "      <th>2</th>\n",
              "      <td>39</td>\n",
              "      <td>10</td>\n",
              "      <td>46</td>\n",
              "      <td>15</td>\n",
              "      <td>31</td>\n",
              "    </tr>\n",
              "    <tr>\n",
              "      <th>3</th>\n",
              "      <td>33</td>\n",
              "      <td>32</td>\n",
              "      <td>35</td>\n",
              "      <td>38</td>\n",
              "      <td>42</td>\n",
              "    </tr>\n",
              "    <tr>\n",
              "      <th>4</th>\n",
              "      <td>15</td>\n",
              "      <td>34</td>\n",
              "      <td>23</td>\n",
              "      <td>43</td>\n",
              "      <td>9</td>\n",
              "    </tr>\n",
              "    <tr>\n",
              "      <th>5</th>\n",
              "      <td>2</td>\n",
              "      <td>13</td>\n",
              "      <td>3</td>\n",
              "      <td>8</td>\n",
              "      <td>36</td>\n",
              "    </tr>\n",
              "    <tr>\n",
              "      <th>6</th>\n",
              "      <td>36</td>\n",
              "      <td>26</td>\n",
              "      <td>2</td>\n",
              "      <td>36</td>\n",
              "      <td>18</td>\n",
              "    </tr>\n",
              "    <tr>\n",
              "      <th>7</th>\n",
              "      <td>2</td>\n",
              "      <td>13</td>\n",
              "      <td>42</td>\n",
              "      <td>8</td>\n",
              "      <td>14</td>\n",
              "    </tr>\n",
              "    <tr>\n",
              "      <th>8</th>\n",
              "      <td>6</td>\n",
              "      <td>46</td>\n",
              "      <td>45</td>\n",
              "      <td>4</td>\n",
              "      <td>26</td>\n",
              "    </tr>\n",
              "    <tr>\n",
              "      <th>9</th>\n",
              "      <td>38</td>\n",
              "      <td>6</td>\n",
              "      <td>43</td>\n",
              "      <td>27</td>\n",
              "      <td>15</td>\n",
              "    </tr>\n",
              "    <tr>\n",
              "      <th>10</th>\n",
              "      <td>11</td>\n",
              "      <td>0</td>\n",
              "      <td>29</td>\n",
              "      <td>20</td>\n",
              "      <td>45</td>\n",
              "    </tr>\n",
              "    <tr>\n",
              "      <th>11</th>\n",
              "      <td>49</td>\n",
              "      <td>48</td>\n",
              "      <td>27</td>\n",
              "      <td>13</td>\n",
              "      <td>2</td>\n",
              "    </tr>\n",
              "    <tr>\n",
              "      <th>12</th>\n",
              "      <td>44</td>\n",
              "      <td>28</td>\n",
              "      <td>7</td>\n",
              "      <td>40</td>\n",
              "      <td>45</td>\n",
              "    </tr>\n",
              "    <tr>\n",
              "      <th>13</th>\n",
              "      <td>23</td>\n",
              "      <td>38</td>\n",
              "      <td>49</td>\n",
              "      <td>21</td>\n",
              "      <td>29</td>\n",
              "    </tr>\n",
              "    <tr>\n",
              "      <th>14</th>\n",
              "      <td>1</td>\n",
              "      <td>15</td>\n",
              "      <td>3</td>\n",
              "      <td>26</td>\n",
              "      <td>20</td>\n",
              "    </tr>\n",
              "    <tr>\n",
              "      <th>15</th>\n",
              "      <td>26</td>\n",
              "      <td>14</td>\n",
              "      <td>0</td>\n",
              "      <td>42</td>\n",
              "      <td>11</td>\n",
              "    </tr>\n",
              "    <tr>\n",
              "      <th>16</th>\n",
              "      <td>31</td>\n",
              "      <td>49</td>\n",
              "      <td>17</td>\n",
              "      <td>22</td>\n",
              "      <td>45</td>\n",
              "    </tr>\n",
              "    <tr>\n",
              "      <th>17</th>\n",
              "      <td>15</td>\n",
              "      <td>4</td>\n",
              "      <td>18</td>\n",
              "      <td>47</td>\n",
              "      <td>49</td>\n",
              "    </tr>\n",
              "    <tr>\n",
              "      <th>18</th>\n",
              "      <td>40</td>\n",
              "      <td>0</td>\n",
              "      <td>4</td>\n",
              "      <td>36</td>\n",
              "      <td>25</td>\n",
              "    </tr>\n",
              "    <tr>\n",
              "      <th>19</th>\n",
              "      <td>19</td>\n",
              "      <td>6</td>\n",
              "      <td>39</td>\n",
              "      <td>16</td>\n",
              "      <td>25</td>\n",
              "    </tr>\n",
              "    <tr>\n",
              "      <th>20</th>\n",
              "      <td>0</td>\n",
              "      <td>13</td>\n",
              "      <td>37</td>\n",
              "      <td>8</td>\n",
              "      <td>41</td>\n",
              "    </tr>\n",
              "    <tr>\n",
              "      <th>21</th>\n",
              "      <td>10</td>\n",
              "      <td>24</td>\n",
              "      <td>16</td>\n",
              "      <td>39</td>\n",
              "      <td>7</td>\n",
              "    </tr>\n",
              "    <tr>\n",
              "      <th>22</th>\n",
              "      <td>31</td>\n",
              "      <td>10</td>\n",
              "      <td>25</td>\n",
              "      <td>38</td>\n",
              "      <td>3</td>\n",
              "    </tr>\n",
              "    <tr>\n",
              "      <th>23</th>\n",
              "      <td>9</td>\n",
              "      <td>2</td>\n",
              "      <td>37</td>\n",
              "      <td>45</td>\n",
              "      <td>13</td>\n",
              "    </tr>\n",
              "    <tr>\n",
              "      <th>24</th>\n",
              "      <td>46</td>\n",
              "      <td>0</td>\n",
              "      <td>46</td>\n",
              "      <td>23</td>\n",
              "      <td>44</td>\n",
              "    </tr>\n",
              "    <tr>\n",
              "      <th>25</th>\n",
              "      <td>3</td>\n",
              "      <td>11</td>\n",
              "      <td>46</td>\n",
              "      <td>39</td>\n",
              "      <td>40</td>\n",
              "    </tr>\n",
              "    <tr>\n",
              "      <th>26</th>\n",
              "      <td>10</td>\n",
              "      <td>48</td>\n",
              "      <td>48</td>\n",
              "      <td>29</td>\n",
              "      <td>21</td>\n",
              "    </tr>\n",
              "    <tr>\n",
              "      <th>27</th>\n",
              "      <td>5</td>\n",
              "      <td>48</td>\n",
              "      <td>15</td>\n",
              "      <td>5</td>\n",
              "      <td>36</td>\n",
              "    </tr>\n",
              "    <tr>\n",
              "      <th>28</th>\n",
              "      <td>29</td>\n",
              "      <td>22</td>\n",
              "      <td>25</td>\n",
              "      <td>11</td>\n",
              "      <td>49</td>\n",
              "    </tr>\n",
              "    <tr>\n",
              "      <th>29</th>\n",
              "      <td>10</td>\n",
              "      <td>6</td>\n",
              "      <td>33</td>\n",
              "      <td>23</td>\n",
              "      <td>20</td>\n",
              "    </tr>\n",
              "    <tr>\n",
              "      <th>30</th>\n",
              "      <td>18</td>\n",
              "      <td>1</td>\n",
              "      <td>35</td>\n",
              "      <td>39</td>\n",
              "      <td>24</td>\n",
              "    </tr>\n",
              "    <tr>\n",
              "      <th>31</th>\n",
              "      <td>27</td>\n",
              "      <td>7</td>\n",
              "      <td>25</td>\n",
              "      <td>24</td>\n",
              "      <td>9</td>\n",
              "    </tr>\n",
              "    <tr>\n",
              "      <th>32</th>\n",
              "      <td>39</td>\n",
              "      <td>40</td>\n",
              "      <td>0</td>\n",
              "      <td>6</td>\n",
              "      <td>41</td>\n",
              "    </tr>\n",
              "    <tr>\n",
              "      <th>33</th>\n",
              "      <td>4</td>\n",
              "      <td>12</td>\n",
              "      <td>16</td>\n",
              "      <td>23</td>\n",
              "      <td>12</td>\n",
              "    </tr>\n",
              "    <tr>\n",
              "      <th>34</th>\n",
              "      <td>25</td>\n",
              "      <td>36</td>\n",
              "      <td>45</td>\n",
              "      <td>4</td>\n",
              "      <td>3</td>\n",
              "    </tr>\n",
              "    <tr>\n",
              "      <th>35</th>\n",
              "      <td>29</td>\n",
              "      <td>31</td>\n",
              "      <td>18</td>\n",
              "      <td>44</td>\n",
              "      <td>16</td>\n",
              "    </tr>\n",
              "    <tr>\n",
              "      <th>36</th>\n",
              "      <td>44</td>\n",
              "      <td>41</td>\n",
              "      <td>37</td>\n",
              "      <td>36</td>\n",
              "      <td>41</td>\n",
              "    </tr>\n",
              "    <tr>\n",
              "      <th>37</th>\n",
              "      <td>16</td>\n",
              "      <td>41</td>\n",
              "      <td>34</td>\n",
              "      <td>20</td>\n",
              "      <td>47</td>\n",
              "    </tr>\n",
              "    <tr>\n",
              "      <th>38</th>\n",
              "      <td>46</td>\n",
              "      <td>29</td>\n",
              "      <td>33</td>\n",
              "      <td>23</td>\n",
              "      <td>21</td>\n",
              "    </tr>\n",
              "    <tr>\n",
              "      <th>39</th>\n",
              "      <td>8</td>\n",
              "      <td>5</td>\n",
              "      <td>19</td>\n",
              "      <td>4</td>\n",
              "      <td>11</td>\n",
              "    </tr>\n",
              "    <tr>\n",
              "      <th>40</th>\n",
              "      <td>38</td>\n",
              "      <td>14</td>\n",
              "      <td>9</td>\n",
              "      <td>31</td>\n",
              "      <td>37</td>\n",
              "    </tr>\n",
              "    <tr>\n",
              "      <th>41</th>\n",
              "      <td>49</td>\n",
              "      <td>1</td>\n",
              "      <td>28</td>\n",
              "      <td>19</td>\n",
              "      <td>27</td>\n",
              "    </tr>\n",
              "    <tr>\n",
              "      <th>42</th>\n",
              "      <td>37</td>\n",
              "      <td>42</td>\n",
              "      <td>20</td>\n",
              "      <td>6</td>\n",
              "      <td>13</td>\n",
              "    </tr>\n",
              "    <tr>\n",
              "      <th>43</th>\n",
              "      <td>44</td>\n",
              "      <td>10</td>\n",
              "      <td>6</td>\n",
              "      <td>25</td>\n",
              "      <td>14</td>\n",
              "    </tr>\n",
              "    <tr>\n",
              "      <th>44</th>\n",
              "      <td>15</td>\n",
              "      <td>2</td>\n",
              "      <td>13</td>\n",
              "      <td>3</td>\n",
              "      <td>2</td>\n",
              "    </tr>\n",
              "    <tr>\n",
              "      <th>45</th>\n",
              "      <td>15</td>\n",
              "      <td>27</td>\n",
              "      <td>22</td>\n",
              "      <td>28</td>\n",
              "      <td>45</td>\n",
              "    </tr>\n",
              "    <tr>\n",
              "      <th>46</th>\n",
              "      <td>8</td>\n",
              "      <td>6</td>\n",
              "      <td>39</td>\n",
              "      <td>27</td>\n",
              "      <td>33</td>\n",
              "    </tr>\n",
              "    <tr>\n",
              "      <th>47</th>\n",
              "      <td>26</td>\n",
              "      <td>32</td>\n",
              "      <td>42</td>\n",
              "      <td>6</td>\n",
              "      <td>47</td>\n",
              "    </tr>\n",
              "    <tr>\n",
              "      <th>48</th>\n",
              "      <td>31</td>\n",
              "      <td>40</td>\n",
              "      <td>4</td>\n",
              "      <td>26</td>\n",
              "      <td>31</td>\n",
              "    </tr>\n",
              "    <tr>\n",
              "      <th>49</th>\n",
              "      <td>40</td>\n",
              "      <td>36</td>\n",
              "      <td>22</td>\n",
              "      <td>32</td>\n",
              "      <td>19</td>\n",
              "    </tr>\n",
              "  </tbody>\n",
              "</table>\n",
              "</div>"
            ],
            "text/plain": [
              "     P   Q   R   S   T\n",
              "0   24   2  45  45  20\n",
              "1   45  29   1  28   6\n",
              "2   39  10  46  15  31\n",
              "3   33  32  35  38  42\n",
              "4   15  34  23  43   9\n",
              "5    2  13   3   8  36\n",
              "6   36  26   2  36  18\n",
              "7    2  13  42   8  14\n",
              "8    6  46  45   4  26\n",
              "9   38   6  43  27  15\n",
              "10  11   0  29  20  45\n",
              "11  49  48  27  13   2\n",
              "12  44  28   7  40  45\n",
              "13  23  38  49  21  29\n",
              "14   1  15   3  26  20\n",
              "15  26  14   0  42  11\n",
              "16  31  49  17  22  45\n",
              "17  15   4  18  47  49\n",
              "18  40   0   4  36  25\n",
              "19  19   6  39  16  25\n",
              "20   0  13  37   8  41\n",
              "21  10  24  16  39   7\n",
              "22  31  10  25  38   3\n",
              "23   9   2  37  45  13\n",
              "24  46   0  46  23  44\n",
              "25   3  11  46  39  40\n",
              "26  10  48  48  29  21\n",
              "27   5  48  15   5  36\n",
              "28  29  22  25  11  49\n",
              "29  10   6  33  23  20\n",
              "30  18   1  35  39  24\n",
              "31  27   7  25  24   9\n",
              "32  39  40   0   6  41\n",
              "33   4  12  16  23  12\n",
              "34  25  36  45   4   3\n",
              "35  29  31  18  44  16\n",
              "36  44  41  37  36  41\n",
              "37  16  41  34  20  47\n",
              "38  46  29  33  23  21\n",
              "39   8   5  19   4  11\n",
              "40  38  14   9  31  37\n",
              "41  49   1  28  19  27\n",
              "42  37  42  20   6  13\n",
              "43  44  10   6  25  14\n",
              "44  15   2  13   3   2\n",
              "45  15  27  22  28  45\n",
              "46   8   6  39  27  33\n",
              "47  26  32  42   6  47\n",
              "48  31  40   4  26  31\n",
              "49  40  36  22  32  19"
            ]
          },
          "metadata": {
            "tags": []
          },
          "execution_count": 48
        }
      ]
    },
    {
      "cell_type": "code",
      "metadata": {
        "id": "8nU3FJ5yamzP",
        "colab_type": "code",
        "colab": {
          "base_uri": "https://localhost:8080/",
          "height": 0
        },
        "outputId": "b3ae2b41-568d-469f-af36-62dcbb31a79f"
      },
      "source": [
        "# getting top 5 and bottom 5 rows of a dataset\n",
        "df.head()\n",
        "df.tail()"
      ],
      "execution_count": 49,
      "outputs": [
        {
          "output_type": "execute_result",
          "data": {
            "text/html": [
              "<div>\n",
              "<style scoped>\n",
              "    .dataframe tbody tr th:only-of-type {\n",
              "        vertical-align: middle;\n",
              "    }\n",
              "\n",
              "    .dataframe tbody tr th {\n",
              "        vertical-align: top;\n",
              "    }\n",
              "\n",
              "    .dataframe thead th {\n",
              "        text-align: right;\n",
              "    }\n",
              "</style>\n",
              "<table border=\"1\" class=\"dataframe\">\n",
              "  <thead>\n",
              "    <tr style=\"text-align: right;\">\n",
              "      <th></th>\n",
              "      <th>P</th>\n",
              "      <th>Q</th>\n",
              "      <th>R</th>\n",
              "      <th>S</th>\n",
              "      <th>T</th>\n",
              "    </tr>\n",
              "  </thead>\n",
              "  <tbody>\n",
              "    <tr>\n",
              "      <th>0</th>\n",
              "      <td>24</td>\n",
              "      <td>2</td>\n",
              "      <td>45</td>\n",
              "      <td>45</td>\n",
              "      <td>20</td>\n",
              "    </tr>\n",
              "    <tr>\n",
              "      <th>1</th>\n",
              "      <td>45</td>\n",
              "      <td>29</td>\n",
              "      <td>1</td>\n",
              "      <td>28</td>\n",
              "      <td>6</td>\n",
              "    </tr>\n",
              "    <tr>\n",
              "      <th>2</th>\n",
              "      <td>39</td>\n",
              "      <td>10</td>\n",
              "      <td>46</td>\n",
              "      <td>15</td>\n",
              "      <td>31</td>\n",
              "    </tr>\n",
              "    <tr>\n",
              "      <th>3</th>\n",
              "      <td>33</td>\n",
              "      <td>32</td>\n",
              "      <td>35</td>\n",
              "      <td>38</td>\n",
              "      <td>42</td>\n",
              "    </tr>\n",
              "    <tr>\n",
              "      <th>4</th>\n",
              "      <td>15</td>\n",
              "      <td>34</td>\n",
              "      <td>23</td>\n",
              "      <td>43</td>\n",
              "      <td>9</td>\n",
              "    </tr>\n",
              "  </tbody>\n",
              "</table>\n",
              "</div>"
            ],
            "text/plain": [
              "    P   Q   R   S   T\n",
              "0  24   2  45  45  20\n",
              "1  45  29   1  28   6\n",
              "2  39  10  46  15  31\n",
              "3  33  32  35  38  42\n",
              "4  15  34  23  43   9"
            ]
          },
          "metadata": {
            "tags": []
          },
          "execution_count": 49
        },
        {
          "output_type": "execute_result",
          "data": {
            "text/html": [
              "<div>\n",
              "<style scoped>\n",
              "    .dataframe tbody tr th:only-of-type {\n",
              "        vertical-align: middle;\n",
              "    }\n",
              "\n",
              "    .dataframe tbody tr th {\n",
              "        vertical-align: top;\n",
              "    }\n",
              "\n",
              "    .dataframe thead th {\n",
              "        text-align: right;\n",
              "    }\n",
              "</style>\n",
              "<table border=\"1\" class=\"dataframe\">\n",
              "  <thead>\n",
              "    <tr style=\"text-align: right;\">\n",
              "      <th></th>\n",
              "      <th>P</th>\n",
              "      <th>Q</th>\n",
              "      <th>R</th>\n",
              "      <th>S</th>\n",
              "      <th>T</th>\n",
              "    </tr>\n",
              "  </thead>\n",
              "  <tbody>\n",
              "    <tr>\n",
              "      <th>45</th>\n",
              "      <td>15</td>\n",
              "      <td>27</td>\n",
              "      <td>22</td>\n",
              "      <td>28</td>\n",
              "      <td>45</td>\n",
              "    </tr>\n",
              "    <tr>\n",
              "      <th>46</th>\n",
              "      <td>8</td>\n",
              "      <td>6</td>\n",
              "      <td>39</td>\n",
              "      <td>27</td>\n",
              "      <td>33</td>\n",
              "    </tr>\n",
              "    <tr>\n",
              "      <th>47</th>\n",
              "      <td>26</td>\n",
              "      <td>32</td>\n",
              "      <td>42</td>\n",
              "      <td>6</td>\n",
              "      <td>47</td>\n",
              "    </tr>\n",
              "    <tr>\n",
              "      <th>48</th>\n",
              "      <td>31</td>\n",
              "      <td>40</td>\n",
              "      <td>4</td>\n",
              "      <td>26</td>\n",
              "      <td>31</td>\n",
              "    </tr>\n",
              "    <tr>\n",
              "      <th>49</th>\n",
              "      <td>40</td>\n",
              "      <td>36</td>\n",
              "      <td>22</td>\n",
              "      <td>32</td>\n",
              "      <td>19</td>\n",
              "    </tr>\n",
              "  </tbody>\n",
              "</table>\n",
              "</div>"
            ],
            "text/plain": [
              "     P   Q   R   S   T\n",
              "45  15  27  22  28  45\n",
              "46   8   6  39  27  33\n",
              "47  26  32  42   6  47\n",
              "48  31  40   4  26  31\n",
              "49  40  36  22  32  19"
            ]
          },
          "metadata": {
            "tags": []
          },
          "execution_count": 49
        }
      ]
    },
    {
      "cell_type": "code",
      "metadata": {
        "id": "_lBxNYDaamzZ",
        "colab_type": "code",
        "colab": {
          "base_uri": "https://localhost:8080/",
          "height": 0
        },
        "outputId": "602e7d08-37bb-452d-e8c5-6ea6838868b5"
      },
      "source": [
        "#getting columns of dataset\n",
        "df.columns"
      ],
      "execution_count": 50,
      "outputs": [
        {
          "output_type": "execute_result",
          "data": {
            "text/plain": [
              "Index(['P', 'Q', 'R', 'S', 'T'], dtype='object')"
            ]
          },
          "metadata": {
            "tags": []
          },
          "execution_count": 50
        }
      ]
    },
    {
      "cell_type": "code",
      "metadata": {
        "id": "8lYPtMSjamzg",
        "colab_type": "code",
        "colab": {
          "base_uri": "https://localhost:8080/",
          "height": 0
        },
        "outputId": "dec53b5d-2d36-410e-f36f-e825b1a93ecc"
      },
      "source": [
        "# getting dimensions of a DataFrame (rows,columns)\n",
        "df.shape"
      ],
      "execution_count": 51,
      "outputs": [
        {
          "output_type": "execute_result",
          "data": {
            "text/plain": [
              "(50, 5)"
            ]
          },
          "metadata": {
            "tags": []
          },
          "execution_count": 51
        }
      ]
    },
    {
      "cell_type": "code",
      "metadata": {
        "id": "da8lNqcaamzo",
        "colab_type": "code",
        "colab": {
          "base_uri": "https://localhost:8080/",
          "height": 0
        },
        "outputId": "baa8d88e-4e4c-4e92-84ec-9af196ef7def"
      },
      "source": [
        "# get missing value and data types information from dataset\n",
        "df.info()"
      ],
      "execution_count": 52,
      "outputs": [
        {
          "output_type": "stream",
          "text": [
            "<class 'pandas.core.frame.DataFrame'>\n",
            "RangeIndex: 50 entries, 0 to 49\n",
            "Data columns (total 5 columns):\n",
            " #   Column  Non-Null Count  Dtype\n",
            "---  ------  --------------  -----\n",
            " 0   P       50 non-null     int64\n",
            " 1   Q       50 non-null     int64\n",
            " 2   R       50 non-null     int64\n",
            " 3   S       50 non-null     int64\n",
            " 4   T       50 non-null     int64\n",
            "dtypes: int64(5)\n",
            "memory usage: 2.1 KB\n"
          ],
          "name": "stdout"
        }
      ]
    },
    {
      "cell_type": "code",
      "metadata": {
        "id": "pIS2y_SZamzx",
        "colab_type": "code",
        "colab": {
          "base_uri": "https://localhost:8080/",
          "height": 0
        },
        "outputId": "0104dabd-d9e2-46ec-a873-38b8f836982a"
      },
      "source": [
        "# statistical summary of numeric columns. You can add percentiles in percentile argument\n",
        "df.describe(percentiles = [0.30,0.40,0.90,0.99])"
      ],
      "execution_count": 53,
      "outputs": [
        {
          "output_type": "execute_result",
          "data": {
            "text/html": [
              "<div>\n",
              "<style scoped>\n",
              "    .dataframe tbody tr th:only-of-type {\n",
              "        vertical-align: middle;\n",
              "    }\n",
              "\n",
              "    .dataframe tbody tr th {\n",
              "        vertical-align: top;\n",
              "    }\n",
              "\n",
              "    .dataframe thead th {\n",
              "        text-align: right;\n",
              "    }\n",
              "</style>\n",
              "<table border=\"1\" class=\"dataframe\">\n",
              "  <thead>\n",
              "    <tr style=\"text-align: right;\">\n",
              "      <th></th>\n",
              "      <th>P</th>\n",
              "      <th>Q</th>\n",
              "      <th>R</th>\n",
              "      <th>S</th>\n",
              "      <th>T</th>\n",
              "    </tr>\n",
              "  </thead>\n",
              "  <tbody>\n",
              "    <tr>\n",
              "      <th>count</th>\n",
              "      <td>50.000000</td>\n",
              "      <td>50.000000</td>\n",
              "      <td>50.000000</td>\n",
              "      <td>50.000000</td>\n",
              "      <td>50.000000</td>\n",
              "    </tr>\n",
              "    <tr>\n",
              "      <th>mean</th>\n",
              "      <td>24.220000</td>\n",
              "      <td>21.000000</td>\n",
              "      <td>25.460000</td>\n",
              "      <td>24.420000</td>\n",
              "      <td>25.600000</td>\n",
              "    </tr>\n",
              "    <tr>\n",
              "      <th>std</th>\n",
              "      <td>15.227915</td>\n",
              "      <td>16.146017</td>\n",
              "      <td>15.371867</td>\n",
              "      <td>13.317305</td>\n",
              "      <td>14.691383</td>\n",
              "    </tr>\n",
              "    <tr>\n",
              "      <th>min</th>\n",
              "      <td>0.000000</td>\n",
              "      <td>0.000000</td>\n",
              "      <td>0.000000</td>\n",
              "      <td>3.000000</td>\n",
              "      <td>2.000000</td>\n",
              "    </tr>\n",
              "    <tr>\n",
              "      <th>30%</th>\n",
              "      <td>13.800000</td>\n",
              "      <td>9.100000</td>\n",
              "      <td>16.700000</td>\n",
              "      <td>18.100000</td>\n",
              "      <td>14.700000</td>\n",
              "    </tr>\n",
              "    <tr>\n",
              "      <th>40%</th>\n",
              "      <td>17.200000</td>\n",
              "      <td>12.600000</td>\n",
              "      <td>21.200000</td>\n",
              "      <td>22.600000</td>\n",
              "      <td>20.000000</td>\n",
              "    </tr>\n",
              "    <tr>\n",
              "      <th>50%</th>\n",
              "      <td>25.500000</td>\n",
              "      <td>14.500000</td>\n",
              "      <td>25.000000</td>\n",
              "      <td>24.500000</td>\n",
              "      <td>24.500000</td>\n",
              "    </tr>\n",
              "    <tr>\n",
              "      <th>90%</th>\n",
              "      <td>44.100000</td>\n",
              "      <td>42.400000</td>\n",
              "      <td>45.100000</td>\n",
              "      <td>42.100000</td>\n",
              "      <td>45.000000</td>\n",
              "    </tr>\n",
              "    <tr>\n",
              "      <th>99%</th>\n",
              "      <td>49.000000</td>\n",
              "      <td>48.510000</td>\n",
              "      <td>48.510000</td>\n",
              "      <td>46.020000</td>\n",
              "      <td>49.000000</td>\n",
              "    </tr>\n",
              "    <tr>\n",
              "      <th>max</th>\n",
              "      <td>49.000000</td>\n",
              "      <td>49.000000</td>\n",
              "      <td>49.000000</td>\n",
              "      <td>47.000000</td>\n",
              "      <td>49.000000</td>\n",
              "    </tr>\n",
              "  </tbody>\n",
              "</table>\n",
              "</div>"
            ],
            "text/plain": [
              "               P          Q          R          S          T\n",
              "count  50.000000  50.000000  50.000000  50.000000  50.000000\n",
              "mean   24.220000  21.000000  25.460000  24.420000  25.600000\n",
              "std    15.227915  16.146017  15.371867  13.317305  14.691383\n",
              "min     0.000000   0.000000   0.000000   3.000000   2.000000\n",
              "30%    13.800000   9.100000  16.700000  18.100000  14.700000\n",
              "40%    17.200000  12.600000  21.200000  22.600000  20.000000\n",
              "50%    25.500000  14.500000  25.000000  24.500000  24.500000\n",
              "90%    44.100000  42.400000  45.100000  42.100000  45.000000\n",
              "99%    49.000000  48.510000  48.510000  46.020000  49.000000\n",
              "max    49.000000  49.000000  49.000000  47.000000  49.000000"
            ]
          },
          "metadata": {
            "tags": []
          },
          "execution_count": 53
        }
      ]
    },
    {
      "cell_type": "code",
      "metadata": {
        "id": "wtyQ-fOMamz9",
        "colab_type": "code",
        "colab": {
          "base_uri": "https://localhost:8080/",
          "height": 0
        },
        "outputId": "800b08a0-8532-440b-b984-61aaeddefa54"
      },
      "source": [
        "# count the frequency of values in each column\n",
        "df.P.value_counts()"
      ],
      "execution_count": 54,
      "outputs": [
        {
          "output_type": "execute_result",
          "data": {
            "text/plain": [
              "15    4\n",
              "31    3\n",
              "10    3\n",
              "44    3\n",
              "46    2\n",
              "8     2\n",
              "26    2\n",
              "29    2\n",
              "49    2\n",
              "2     2\n",
              "38    2\n",
              "39    2\n",
              "40    2\n",
              "4     1\n",
              "3     1\n",
              "5     1\n",
              "6     1\n",
              "9     1\n",
              "1     1\n",
              "11    1\n",
              "23    1\n",
              "16    1\n",
              "18    1\n",
              "19    1\n",
              "24    1\n",
              "25    1\n",
              "27    1\n",
              "33    1\n",
              "36    1\n",
              "37    1\n",
              "45    1\n",
              "0     1\n",
              "Name: P, dtype: int64"
            ]
          },
          "metadata": {
            "tags": []
          },
          "execution_count": 54
        }
      ]
    },
    {
      "cell_type": "code",
      "metadata": {
        "id": "N7ZTpMA_am0R",
        "colab_type": "code",
        "colab": {
          "base_uri": "https://localhost:8080/",
          "height": 0
        },
        "outputId": "c426d16e-707f-4ba9-9132-290564a8190c"
      },
      "source": [
        "# Count and show unique values in a column \n",
        "df.P.nunique()\n",
        "df.P.unique()\n",
        "df.Q.nunique()"
      ],
      "execution_count": 55,
      "outputs": [
        {
          "output_type": "execute_result",
          "data": {
            "text/plain": [
              "32"
            ]
          },
          "metadata": {
            "tags": []
          },
          "execution_count": 55
        },
        {
          "output_type": "execute_result",
          "data": {
            "text/plain": [
              "array([24, 45, 39, 33, 15,  2, 36,  6, 38, 11, 49, 44, 23,  1, 26, 31, 40,\n",
              "       19,  0, 10,  9, 46,  3,  5, 29, 18, 27,  4, 25, 16,  8, 37])"
            ]
          },
          "metadata": {
            "tags": []
          },
          "execution_count": 55
        },
        {
          "output_type": "execute_result",
          "data": {
            "text/plain": [
              "30"
            ]
          },
          "metadata": {
            "tags": []
          },
          "execution_count": 55
        }
      ]
    },
    {
      "cell_type": "markdown",
      "metadata": {
        "id": "-QLR1seuam0o",
        "colab_type": "text"
      },
      "source": [
        "# Week 2: Slicing. EDA. Visualization. Loops. Functions. "
      ]
    },
    {
      "cell_type": "code",
      "metadata": {
        "id": "en_hgAUbam0q",
        "colab_type": "code",
        "colab": {}
      },
      "source": [
        "import os\n",
        "# os is a python module (module is a python code with group of statements)"
      ],
      "execution_count": 0,
      "outputs": []
    },
    {
      "cell_type": "code",
      "metadata": {
        "id": "q2YN8y7zam01",
        "colab_type": "code",
        "colab": {}
      },
      "source": [
        "# code for getting multiple outputs from a jupyter cell using core.interactiveshell module\n",
        "from IPython.core.interactiveshell import InteractiveShell\n",
        "InteractiveShell.ast_node_interactivity = \"all\""
      ],
      "execution_count": 0,
      "outputs": []
    },
    {
      "cell_type": "code",
      "metadata": {
        "scrolled": true,
        "id": "pPaYXJbYam1C",
        "colab_type": "code",
        "colab": {
          "base_uri": "https://localhost:8080/",
          "height": 34
        },
        "outputId": "9cc0fad7-5860-4e5e-be5a-78d19d992c47"
      },
      "source": [
        "# Get current working directory\n",
        "os.getcwd()"
      ],
      "execution_count": 58,
      "outputs": [
        {
          "output_type": "execute_result",
          "data": {
            "text/plain": [
              "'/content'"
            ]
          },
          "metadata": {
            "tags": []
          },
          "execution_count": 58
        }
      ]
    },
    {
      "cell_type": "code",
      "metadata": {
        "id": "_BzgkLtRam1K",
        "colab_type": "code",
        "colab": {
          "base_uri": "https://localhost:8080/",
          "height": 34
        },
        "outputId": "cf2c24e6-6a42-4f40-d746-c4a7c1257b6b"
      },
      "source": [
        "# setting a new directory\n",
        "# os.chdir('/content/imdb-5000-movie-dataset.csv')\n",
        "os.getcwd()"
      ],
      "execution_count": 59,
      "outputs": [
        {
          "output_type": "execute_result",
          "data": {
            "text/plain": [
              "'/content'"
            ]
          },
          "metadata": {
            "tags": []
          },
          "execution_count": 59
        }
      ]
    },
    {
      "cell_type": "code",
      "metadata": {
        "id": "QUtMGwnVam1R",
        "colab_type": "code",
        "colab": {}
      },
      "source": [
        "import numpy as np\n",
        "import pandas as pd"
      ],
      "execution_count": 0,
      "outputs": []
    },
    {
      "cell_type": "code",
      "metadata": {
        "id": "BomzWe7_am1d",
        "colab_type": "code",
        "colab": {
          "base_uri": "https://localhost:8080/",
          "height": 457
        },
        "outputId": "71aecf46-47ed-40b5-8ea9-e57ec4fc1836"
      },
      "source": [
        "# Import the dataset/pandas DataFrame, check head, shape\n",
        "movies = pd.read_csv('imdb-5000-movie-dataset.csv') \n",
        "movies.head(3)\n",
        "movies.shape\n",
        "# set option to see all columns\n",
        "pd.set_option('display.max_columns', 500)\n",
        "movies.head(3)\n",
        "movies.shape"
      ],
      "execution_count": 62,
      "outputs": [
        {
          "output_type": "execute_result",
          "data": {
            "text/html": [
              "<div>\n",
              "<style scoped>\n",
              "    .dataframe tbody tr th:only-of-type {\n",
              "        vertical-align: middle;\n",
              "    }\n",
              "\n",
              "    .dataframe tbody tr th {\n",
              "        vertical-align: top;\n",
              "    }\n",
              "\n",
              "    .dataframe thead th {\n",
              "        text-align: right;\n",
              "    }\n",
              "</style>\n",
              "<table border=\"1\" class=\"dataframe\">\n",
              "  <thead>\n",
              "    <tr style=\"text-align: right;\">\n",
              "      <th></th>\n",
              "      <th>color</th>\n",
              "      <th>director_name</th>\n",
              "      <th>num_critic_for_reviews</th>\n",
              "      <th>duration</th>\n",
              "      <th>director_facebook_likes</th>\n",
              "      <th>actor_3_facebook_likes</th>\n",
              "      <th>actor_2_name</th>\n",
              "      <th>actor_1_facebook_likes</th>\n",
              "      <th>gross</th>\n",
              "      <th>genres</th>\n",
              "      <th>actor_1_name</th>\n",
              "      <th>movie_title</th>\n",
              "      <th>num_voted_users</th>\n",
              "      <th>cast_total_facebook_likes</th>\n",
              "      <th>actor_3_name</th>\n",
              "      <th>facenumber_in_poster</th>\n",
              "      <th>plot_keywords</th>\n",
              "      <th>movie_imdb_link</th>\n",
              "      <th>num_user_for_reviews</th>\n",
              "      <th>language</th>\n",
              "      <th>country</th>\n",
              "      <th>content_rating</th>\n",
              "      <th>budget</th>\n",
              "      <th>title_year</th>\n",
              "      <th>actor_2_facebook_likes</th>\n",
              "      <th>imdb_score</th>\n",
              "      <th>aspect_ratio</th>\n",
              "      <th>movie_facebook_likes</th>\n",
              "    </tr>\n",
              "  </thead>\n",
              "  <tbody>\n",
              "    <tr>\n",
              "      <th>0</th>\n",
              "      <td>Color</td>\n",
              "      <td>James Cameron</td>\n",
              "      <td>723.0</td>\n",
              "      <td>178.0</td>\n",
              "      <td>0.0</td>\n",
              "      <td>855.0</td>\n",
              "      <td>Joel David Moore</td>\n",
              "      <td>1000.0</td>\n",
              "      <td>760505847.0</td>\n",
              "      <td>Action|Adventure|Fantasy|Sci-Fi</td>\n",
              "      <td>CCH Pounder</td>\n",
              "      <td>Avatar</td>\n",
              "      <td>886204</td>\n",
              "      <td>4834</td>\n",
              "      <td>Wes Studi</td>\n",
              "      <td>0.0</td>\n",
              "      <td>avatar|future|marine|native|paraplegic</td>\n",
              "      <td>http://www.imdb.com/title/tt0499549/?ref_=fn_t...</td>\n",
              "      <td>3054.0</td>\n",
              "      <td>English</td>\n",
              "      <td>USA</td>\n",
              "      <td>PG-13</td>\n",
              "      <td>237000000.0</td>\n",
              "      <td>2009.0</td>\n",
              "      <td>936.0</td>\n",
              "      <td>7.9</td>\n",
              "      <td>1.78</td>\n",
              "      <td>33000</td>\n",
              "    </tr>\n",
              "    <tr>\n",
              "      <th>1</th>\n",
              "      <td>Color</td>\n",
              "      <td>Gore Verbinski</td>\n",
              "      <td>302.0</td>\n",
              "      <td>169.0</td>\n",
              "      <td>563.0</td>\n",
              "      <td>1000.0</td>\n",
              "      <td>Orlando Bloom</td>\n",
              "      <td>40000.0</td>\n",
              "      <td>309404152.0</td>\n",
              "      <td>Action|Adventure|Fantasy</td>\n",
              "      <td>Johnny Depp</td>\n",
              "      <td>Pirates of the Caribbean: At World's End</td>\n",
              "      <td>471220</td>\n",
              "      <td>48350</td>\n",
              "      <td>Jack Davenport</td>\n",
              "      <td>0.0</td>\n",
              "      <td>goddess|marriage ceremony|marriage proposal|pi...</td>\n",
              "      <td>http://www.imdb.com/title/tt0449088/?ref_=fn_t...</td>\n",
              "      <td>1238.0</td>\n",
              "      <td>English</td>\n",
              "      <td>USA</td>\n",
              "      <td>PG-13</td>\n",
              "      <td>300000000.0</td>\n",
              "      <td>2007.0</td>\n",
              "      <td>5000.0</td>\n",
              "      <td>7.1</td>\n",
              "      <td>2.35</td>\n",
              "      <td>0</td>\n",
              "    </tr>\n",
              "    <tr>\n",
              "      <th>2</th>\n",
              "      <td>Color</td>\n",
              "      <td>Sam Mendes</td>\n",
              "      <td>602.0</td>\n",
              "      <td>148.0</td>\n",
              "      <td>0.0</td>\n",
              "      <td>161.0</td>\n",
              "      <td>Rory Kinnear</td>\n",
              "      <td>11000.0</td>\n",
              "      <td>200074175.0</td>\n",
              "      <td>Action|Adventure|Thriller</td>\n",
              "      <td>Christoph Waltz</td>\n",
              "      <td>Spectre</td>\n",
              "      <td>275868</td>\n",
              "      <td>11700</td>\n",
              "      <td>Stephanie Sigman</td>\n",
              "      <td>1.0</td>\n",
              "      <td>bomb|espionage|sequel|spy|terrorist</td>\n",
              "      <td>http://www.imdb.com/title/tt2379713/?ref_=fn_t...</td>\n",
              "      <td>994.0</td>\n",
              "      <td>English</td>\n",
              "      <td>UK</td>\n",
              "      <td>PG-13</td>\n",
              "      <td>245000000.0</td>\n",
              "      <td>2015.0</td>\n",
              "      <td>393.0</td>\n",
              "      <td>6.8</td>\n",
              "      <td>2.35</td>\n",
              "      <td>85000</td>\n",
              "    </tr>\n",
              "  </tbody>\n",
              "</table>\n",
              "</div>"
            ],
            "text/plain": [
              "   color   director_name  ...  aspect_ratio  movie_facebook_likes\n",
              "0  Color   James Cameron  ...          1.78                 33000\n",
              "1  Color  Gore Verbinski  ...          2.35                     0\n",
              "2  Color      Sam Mendes  ...          2.35                 85000\n",
              "\n",
              "[3 rows x 28 columns]"
            ]
          },
          "metadata": {
            "tags": []
          },
          "execution_count": 62
        },
        {
          "output_type": "execute_result",
          "data": {
            "text/plain": [
              "(5043, 28)"
            ]
          },
          "metadata": {
            "tags": []
          },
          "execution_count": 62
        },
        {
          "output_type": "execute_result",
          "data": {
            "text/html": [
              "<div>\n",
              "<style scoped>\n",
              "    .dataframe tbody tr th:only-of-type {\n",
              "        vertical-align: middle;\n",
              "    }\n",
              "\n",
              "    .dataframe tbody tr th {\n",
              "        vertical-align: top;\n",
              "    }\n",
              "\n",
              "    .dataframe thead th {\n",
              "        text-align: right;\n",
              "    }\n",
              "</style>\n",
              "<table border=\"1\" class=\"dataframe\">\n",
              "  <thead>\n",
              "    <tr style=\"text-align: right;\">\n",
              "      <th></th>\n",
              "      <th>color</th>\n",
              "      <th>director_name</th>\n",
              "      <th>num_critic_for_reviews</th>\n",
              "      <th>duration</th>\n",
              "      <th>director_facebook_likes</th>\n",
              "      <th>actor_3_facebook_likes</th>\n",
              "      <th>actor_2_name</th>\n",
              "      <th>actor_1_facebook_likes</th>\n",
              "      <th>gross</th>\n",
              "      <th>genres</th>\n",
              "      <th>actor_1_name</th>\n",
              "      <th>movie_title</th>\n",
              "      <th>num_voted_users</th>\n",
              "      <th>cast_total_facebook_likes</th>\n",
              "      <th>actor_3_name</th>\n",
              "      <th>facenumber_in_poster</th>\n",
              "      <th>plot_keywords</th>\n",
              "      <th>movie_imdb_link</th>\n",
              "      <th>num_user_for_reviews</th>\n",
              "      <th>language</th>\n",
              "      <th>country</th>\n",
              "      <th>content_rating</th>\n",
              "      <th>budget</th>\n",
              "      <th>title_year</th>\n",
              "      <th>actor_2_facebook_likes</th>\n",
              "      <th>imdb_score</th>\n",
              "      <th>aspect_ratio</th>\n",
              "      <th>movie_facebook_likes</th>\n",
              "    </tr>\n",
              "  </thead>\n",
              "  <tbody>\n",
              "    <tr>\n",
              "      <th>0</th>\n",
              "      <td>Color</td>\n",
              "      <td>James Cameron</td>\n",
              "      <td>723.0</td>\n",
              "      <td>178.0</td>\n",
              "      <td>0.0</td>\n",
              "      <td>855.0</td>\n",
              "      <td>Joel David Moore</td>\n",
              "      <td>1000.0</td>\n",
              "      <td>760505847.0</td>\n",
              "      <td>Action|Adventure|Fantasy|Sci-Fi</td>\n",
              "      <td>CCH Pounder</td>\n",
              "      <td>Avatar</td>\n",
              "      <td>886204</td>\n",
              "      <td>4834</td>\n",
              "      <td>Wes Studi</td>\n",
              "      <td>0.0</td>\n",
              "      <td>avatar|future|marine|native|paraplegic</td>\n",
              "      <td>http://www.imdb.com/title/tt0499549/?ref_=fn_t...</td>\n",
              "      <td>3054.0</td>\n",
              "      <td>English</td>\n",
              "      <td>USA</td>\n",
              "      <td>PG-13</td>\n",
              "      <td>237000000.0</td>\n",
              "      <td>2009.0</td>\n",
              "      <td>936.0</td>\n",
              "      <td>7.9</td>\n",
              "      <td>1.78</td>\n",
              "      <td>33000</td>\n",
              "    </tr>\n",
              "    <tr>\n",
              "      <th>1</th>\n",
              "      <td>Color</td>\n",
              "      <td>Gore Verbinski</td>\n",
              "      <td>302.0</td>\n",
              "      <td>169.0</td>\n",
              "      <td>563.0</td>\n",
              "      <td>1000.0</td>\n",
              "      <td>Orlando Bloom</td>\n",
              "      <td>40000.0</td>\n",
              "      <td>309404152.0</td>\n",
              "      <td>Action|Adventure|Fantasy</td>\n",
              "      <td>Johnny Depp</td>\n",
              "      <td>Pirates of the Caribbean: At World's End</td>\n",
              "      <td>471220</td>\n",
              "      <td>48350</td>\n",
              "      <td>Jack Davenport</td>\n",
              "      <td>0.0</td>\n",
              "      <td>goddess|marriage ceremony|marriage proposal|pi...</td>\n",
              "      <td>http://www.imdb.com/title/tt0449088/?ref_=fn_t...</td>\n",
              "      <td>1238.0</td>\n",
              "      <td>English</td>\n",
              "      <td>USA</td>\n",
              "      <td>PG-13</td>\n",
              "      <td>300000000.0</td>\n",
              "      <td>2007.0</td>\n",
              "      <td>5000.0</td>\n",
              "      <td>7.1</td>\n",
              "      <td>2.35</td>\n",
              "      <td>0</td>\n",
              "    </tr>\n",
              "    <tr>\n",
              "      <th>2</th>\n",
              "      <td>Color</td>\n",
              "      <td>Sam Mendes</td>\n",
              "      <td>602.0</td>\n",
              "      <td>148.0</td>\n",
              "      <td>0.0</td>\n",
              "      <td>161.0</td>\n",
              "      <td>Rory Kinnear</td>\n",
              "      <td>11000.0</td>\n",
              "      <td>200074175.0</td>\n",
              "      <td>Action|Adventure|Thriller</td>\n",
              "      <td>Christoph Waltz</td>\n",
              "      <td>Spectre</td>\n",
              "      <td>275868</td>\n",
              "      <td>11700</td>\n",
              "      <td>Stephanie Sigman</td>\n",
              "      <td>1.0</td>\n",
              "      <td>bomb|espionage|sequel|spy|terrorist</td>\n",
              "      <td>http://www.imdb.com/title/tt2379713/?ref_=fn_t...</td>\n",
              "      <td>994.0</td>\n",
              "      <td>English</td>\n",
              "      <td>UK</td>\n",
              "      <td>PG-13</td>\n",
              "      <td>245000000.0</td>\n",
              "      <td>2015.0</td>\n",
              "      <td>393.0</td>\n",
              "      <td>6.8</td>\n",
              "      <td>2.35</td>\n",
              "      <td>85000</td>\n",
              "    </tr>\n",
              "  </tbody>\n",
              "</table>\n",
              "</div>"
            ],
            "text/plain": [
              "   color   director_name  num_critic_for_reviews  duration  \\\n",
              "0  Color   James Cameron                   723.0     178.0   \n",
              "1  Color  Gore Verbinski                   302.0     169.0   \n",
              "2  Color      Sam Mendes                   602.0     148.0   \n",
              "\n",
              "   director_facebook_likes  actor_3_facebook_likes      actor_2_name  \\\n",
              "0                      0.0                   855.0  Joel David Moore   \n",
              "1                    563.0                  1000.0     Orlando Bloom   \n",
              "2                      0.0                   161.0      Rory Kinnear   \n",
              "\n",
              "   actor_1_facebook_likes        gross                           genres  \\\n",
              "0                  1000.0  760505847.0  Action|Adventure|Fantasy|Sci-Fi   \n",
              "1                 40000.0  309404152.0         Action|Adventure|Fantasy   \n",
              "2                 11000.0  200074175.0        Action|Adventure|Thriller   \n",
              "\n",
              "      actor_1_name                                movie_title  \\\n",
              "0      CCH Pounder                                    Avatar    \n",
              "1      Johnny Depp  Pirates of the Caribbean: At World's End    \n",
              "2  Christoph Waltz                                   Spectre    \n",
              "\n",
              "   num_voted_users  cast_total_facebook_likes      actor_3_name  \\\n",
              "0           886204                       4834         Wes Studi   \n",
              "1           471220                      48350    Jack Davenport   \n",
              "2           275868                      11700  Stephanie Sigman   \n",
              "\n",
              "   facenumber_in_poster                                      plot_keywords  \\\n",
              "0                   0.0             avatar|future|marine|native|paraplegic   \n",
              "1                   0.0  goddess|marriage ceremony|marriage proposal|pi...   \n",
              "2                   1.0                bomb|espionage|sequel|spy|terrorist   \n",
              "\n",
              "                                     movie_imdb_link  num_user_for_reviews  \\\n",
              "0  http://www.imdb.com/title/tt0499549/?ref_=fn_t...                3054.0   \n",
              "1  http://www.imdb.com/title/tt0449088/?ref_=fn_t...                1238.0   \n",
              "2  http://www.imdb.com/title/tt2379713/?ref_=fn_t...                 994.0   \n",
              "\n",
              "  language country content_rating       budget  title_year  \\\n",
              "0  English     USA          PG-13  237000000.0      2009.0   \n",
              "1  English     USA          PG-13  300000000.0      2007.0   \n",
              "2  English      UK          PG-13  245000000.0      2015.0   \n",
              "\n",
              "   actor_2_facebook_likes  imdb_score  aspect_ratio  movie_facebook_likes  \n",
              "0                   936.0         7.9          1.78                 33000  \n",
              "1                  5000.0         7.1          2.35                     0  \n",
              "2                   393.0         6.8          2.35                 85000  "
            ]
          },
          "metadata": {
            "tags": []
          },
          "execution_count": 62
        },
        {
          "output_type": "execute_result",
          "data": {
            "text/plain": [
              "(5043, 28)"
            ]
          },
          "metadata": {
            "tags": []
          },
          "execution_count": 62
        }
      ]
    },
    {
      "cell_type": "markdown",
      "metadata": {
        "id": "MqohHL3Vam1k",
        "colab_type": "text"
      },
      "source": [
        "## Indexing and Slicing\n",
        "#Indexing means referring to an element in data structure by its position & slicing refers to accessing parts of a data structure like for a pandas DataFrame, it means accessing specific rows and columns."
      ]
    },
    {
      "cell_type": "markdown",
      "metadata": {
        "id": "vdrsIkokam1l",
        "colab_type": "text"
      },
      "source": [
        "### indexing & slicing a list\n",
        "#a[start:stop]"
      ]
    },
    {
      "cell_type": "code",
      "metadata": {
        "id": "bo_Ctmi-am1m",
        "colab_type": "code",
        "colab": {
          "base_uri": "https://localhost:8080/",
          "height": 1000
        },
        "outputId": "1c2fa77a-060e-40f5-9b72-142e66d46a17"
      },
      "source": [
        "# creating a list from a pandas dataframe\n",
        "title_year_list = (movies.title_year.unique()).tolist()\n",
        "len(title_year_list)\n",
        "title_year_list"
      ],
      "execution_count": 63,
      "outputs": [
        {
          "output_type": "execute_result",
          "data": {
            "text/plain": [
              "92"
            ]
          },
          "metadata": {
            "tags": []
          },
          "execution_count": 63
        },
        {
          "output_type": "execute_result",
          "data": {
            "text/plain": [
              "[2009.0,\n",
              " 2007.0,\n",
              " 2015.0,\n",
              " 2012.0,\n",
              " nan,\n",
              " 2010.0,\n",
              " 2016.0,\n",
              " 2006.0,\n",
              " 2008.0,\n",
              " 2013.0,\n",
              " 2011.0,\n",
              " 2014.0,\n",
              " 2005.0,\n",
              " 1997.0,\n",
              " 2004.0,\n",
              " 1999.0,\n",
              " 1995.0,\n",
              " 2003.0,\n",
              " 2001.0,\n",
              " 2002.0,\n",
              " 1998.0,\n",
              " 2000.0,\n",
              " 1990.0,\n",
              " 1991.0,\n",
              " 1994.0,\n",
              " 1996.0,\n",
              " 1982.0,\n",
              " 1993.0,\n",
              " 1979.0,\n",
              " 1992.0,\n",
              " 1989.0,\n",
              " 1984.0,\n",
              " 1988.0,\n",
              " 1978.0,\n",
              " 1962.0,\n",
              " 1980.0,\n",
              " 1972.0,\n",
              " 1981.0,\n",
              " 1968.0,\n",
              " 1985.0,\n",
              " 1940.0,\n",
              " 1963.0,\n",
              " 1987.0,\n",
              " 1986.0,\n",
              " 1973.0,\n",
              " 1983.0,\n",
              " 1976.0,\n",
              " 1977.0,\n",
              " 1970.0,\n",
              " 1971.0,\n",
              " 1969.0,\n",
              " 1960.0,\n",
              " 1965.0,\n",
              " 1964.0,\n",
              " 1927.0,\n",
              " 1974.0,\n",
              " 1937.0,\n",
              " 1975.0,\n",
              " 1967.0,\n",
              " 1951.0,\n",
              " 1961.0,\n",
              " 1946.0,\n",
              " 1953.0,\n",
              " 1954.0,\n",
              " 1959.0,\n",
              " 1932.0,\n",
              " 1947.0,\n",
              " 1956.0,\n",
              " 1945.0,\n",
              " 1952.0,\n",
              " 1930.0,\n",
              " 1966.0,\n",
              " 1939.0,\n",
              " 1950.0,\n",
              " 1948.0,\n",
              " 1958.0,\n",
              " 1957.0,\n",
              " 1943.0,\n",
              " 1944.0,\n",
              " 1938.0,\n",
              " 1949.0,\n",
              " 1936.0,\n",
              " 1941.0,\n",
              " 1955.0,\n",
              " 1942.0,\n",
              " 1929.0,\n",
              " 1935.0,\n",
              " 1933.0,\n",
              " 1916.0,\n",
              " 1934.0,\n",
              " 1925.0,\n",
              " 1920.0]"
            ]
          },
          "metadata": {
            "tags": []
          },
          "execution_count": 63
        }
      ]
    },
    {
      "cell_type": "code",
      "metadata": {
        "id": "c65lCcV5am1z",
        "colab_type": "code",
        "colab": {
          "base_uri": "https://localhost:8080/",
          "height": 34
        },
        "outputId": "678c2784-28fe-44f7-b139-0bea28dc0d5a"
      },
      "source": [
        "#create truncated list\n",
        "years_truncated_list = title_year_list[85:]\n",
        "len(years_truncated_list)\n",
        "years_truncated_list"
      ],
      "execution_count": 64,
      "outputs": [
        {
          "output_type": "execute_result",
          "data": {
            "text/plain": [
              "7"
            ]
          },
          "metadata": {
            "tags": []
          },
          "execution_count": 64
        },
        {
          "output_type": "execute_result",
          "data": {
            "text/plain": [
              "[1929.0, 1935.0, 1933.0, 1916.0, 1934.0, 1925.0, 1920.0]"
            ]
          },
          "metadata": {
            "tags": []
          },
          "execution_count": 64
        }
      ]
    },
    {
      "cell_type": "code",
      "metadata": {
        "id": "fqsS6AtOam15",
        "colab_type": "code",
        "colab": {
          "base_uri": "https://localhost:8080/",
          "height": 34
        },
        "outputId": "ee13f6e9-bbd3-408a-b714-e0aefbffcf0b"
      },
      "source": [
        "# sorting a list\n",
        "years_truncated_list.sort()\n",
        "years_truncated_list"
      ],
      "execution_count": 65,
      "outputs": [
        {
          "output_type": "execute_result",
          "data": {
            "text/plain": [
              "[1916.0, 1920.0, 1925.0, 1929.0, 1933.0, 1934.0, 1935.0]"
            ]
          },
          "metadata": {
            "tags": []
          },
          "execution_count": 65
        }
      ]
    },
    {
      "cell_type": "code",
      "metadata": {
        "id": "mAXwuw3kam1_",
        "colab_type": "code",
        "colab": {
          "base_uri": "https://localhost:8080/",
          "height": 51
        },
        "outputId": "de1f220b-5c1a-4381-c057-f0d2e8c171fc"
      },
      "source": [
        "# slicing a list\n",
        "years_truncated_list[:3]\n",
        "years_truncated_list[3:]\n",
        "years_truncated_list[3:4]\n",
        "years_truncated_list[:]"
      ],
      "execution_count": 66,
      "outputs": [
        {
          "output_type": "execute_result",
          "data": {
            "text/plain": [
              "[1916.0, 1920.0, 1925.0]"
            ]
          },
          "metadata": {
            "tags": []
          },
          "execution_count": 66
        },
        {
          "output_type": "execute_result",
          "data": {
            "text/plain": [
              "[1929.0, 1933.0, 1934.0, 1935.0]"
            ]
          },
          "metadata": {
            "tags": []
          },
          "execution_count": 66
        },
        {
          "output_type": "execute_result",
          "data": {
            "text/plain": [
              "[1929.0]"
            ]
          },
          "metadata": {
            "tags": []
          },
          "execution_count": 66
        },
        {
          "output_type": "execute_result",
          "data": {
            "text/plain": [
              "[1916.0, 1920.0, 1925.0, 1929.0, 1933.0, 1934.0, 1935.0]"
            ]
          },
          "metadata": {
            "tags": []
          },
          "execution_count": 66
        }
      ]
    },
    {
      "cell_type": "code",
      "metadata": {
        "id": "_0o8L3BBam2M",
        "colab_type": "code",
        "colab": {
          "base_uri": "https://localhost:8080/",
          "height": 34
        },
        "outputId": "2db5b4e8-0923-4312-b769-2dd1d710f62b"
      },
      "source": [
        "# slicing a list using negative indexing\n",
        "years_truncated_list[-3:]\n",
        "years_truncated_list[:-3]\n",
        "years_truncated_list[-3:-1]"
      ],
      "execution_count": 67,
      "outputs": [
        {
          "output_type": "execute_result",
          "data": {
            "text/plain": [
              "[1933.0, 1934.0, 1935.0]"
            ]
          },
          "metadata": {
            "tags": []
          },
          "execution_count": 67
        },
        {
          "output_type": "execute_result",
          "data": {
            "text/plain": [
              "[1916.0, 1920.0, 1925.0, 1929.0]"
            ]
          },
          "metadata": {
            "tags": []
          },
          "execution_count": 67
        },
        {
          "output_type": "execute_result",
          "data": {
            "text/plain": [
              "[1933.0, 1934.0]"
            ]
          },
          "metadata": {
            "tags": []
          },
          "execution_count": 67
        }
      ]
    },
    {
      "cell_type": "code",
      "metadata": {
        "id": "HpMMMU_gam2W",
        "colab_type": "code",
        "colab": {
          "base_uri": "https://localhost:8080/",
          "height": 34
        },
        "outputId": "ebfa59a5-4f0b-4065-f7db-13fcbc8c772f"
      },
      "source": [
        "#a[start:stop:step] stepwise slicing\n",
        "years_truncated_list[0:5:2]\n",
        "del years_truncated_list[0:5]\n",
        "years_truncated_list"
      ],
      "execution_count": 68,
      "outputs": [
        {
          "output_type": "execute_result",
          "data": {
            "text/plain": [
              "[1916.0, 1925.0, 1933.0]"
            ]
          },
          "metadata": {
            "tags": []
          },
          "execution_count": 68
        },
        {
          "output_type": "execute_result",
          "data": {
            "text/plain": [
              "[1934.0, 1935.0]"
            ]
          },
          "metadata": {
            "tags": []
          },
          "execution_count": 68
        }
      ]
    },
    {
      "cell_type": "markdown",
      "metadata": {
        "id": "j-DlI7dtam2b",
        "colab_type": "text"
      },
      "source": [
        "### indexing & slicing a pandas DataFrame\n",
        "#for label based indexing use df.loc and for position or integer based use df.iloc"
      ]
    },
    {
      "cell_type": "code",
      "metadata": {
        "id": "DTmlzHruam2c",
        "colab_type": "code",
        "colab": {
          "base_uri": "https://localhost:8080/",
          "height": 170
        },
        "outputId": "dc24cbf1-5952-4ddc-dfef-7f70176e548f"
      },
      "source": [
        "# exploring movies DataFrame\n",
        "movies.shape\n",
        "movies.columns"
      ],
      "execution_count": 69,
      "outputs": [
        {
          "output_type": "execute_result",
          "data": {
            "text/plain": [
              "(5043, 28)"
            ]
          },
          "metadata": {
            "tags": []
          },
          "execution_count": 69
        },
        {
          "output_type": "execute_result",
          "data": {
            "text/plain": [
              "Index(['color', 'director_name', 'num_critic_for_reviews', 'duration',\n",
              "       'director_facebook_likes', 'actor_3_facebook_likes', 'actor_2_name',\n",
              "       'actor_1_facebook_likes', 'gross', 'genres', 'actor_1_name',\n",
              "       'movie_title', 'num_voted_users', 'cast_total_facebook_likes',\n",
              "       'actor_3_name', 'facenumber_in_poster', 'plot_keywords',\n",
              "       'movie_imdb_link', 'num_user_for_reviews', 'language', 'country',\n",
              "       'content_rating', 'budget', 'title_year', 'actor_2_facebook_likes',\n",
              "       'imdb_score', 'aspect_ratio', 'movie_facebook_likes'],\n",
              "      dtype='object')"
            ]
          },
          "metadata": {
            "tags": []
          },
          "execution_count": 69
        }
      ]
    },
    {
      "cell_type": "code",
      "metadata": {
        "id": "qAwo3Nu1am2i",
        "colab_type": "code",
        "colab": {
          "base_uri": "https://localhost:8080/",
          "height": 247
        },
        "outputId": "f5b3c5aa-f3d9-45a2-a6d9-a93275fd6f80"
      },
      "source": [
        "#Access rows and columns\n",
        "movies_subset = movies[0:3]\n",
        "movies_subset.shape\n",
        "movies_subset = movies[['color', 'director_name', 'num_critic_for_reviews']]\n",
        "movies_subset.shape\n",
        "movies.head(3)"
      ],
      "execution_count": 70,
      "outputs": [
        {
          "output_type": "execute_result",
          "data": {
            "text/plain": [
              "(3, 28)"
            ]
          },
          "metadata": {
            "tags": []
          },
          "execution_count": 70
        },
        {
          "output_type": "execute_result",
          "data": {
            "text/plain": [
              "(5043, 3)"
            ]
          },
          "metadata": {
            "tags": []
          },
          "execution_count": 70
        },
        {
          "output_type": "execute_result",
          "data": {
            "text/html": [
              "<div>\n",
              "<style scoped>\n",
              "    .dataframe tbody tr th:only-of-type {\n",
              "        vertical-align: middle;\n",
              "    }\n",
              "\n",
              "    .dataframe tbody tr th {\n",
              "        vertical-align: top;\n",
              "    }\n",
              "\n",
              "    .dataframe thead th {\n",
              "        text-align: right;\n",
              "    }\n",
              "</style>\n",
              "<table border=\"1\" class=\"dataframe\">\n",
              "  <thead>\n",
              "    <tr style=\"text-align: right;\">\n",
              "      <th></th>\n",
              "      <th>color</th>\n",
              "      <th>director_name</th>\n",
              "      <th>num_critic_for_reviews</th>\n",
              "      <th>duration</th>\n",
              "      <th>director_facebook_likes</th>\n",
              "      <th>actor_3_facebook_likes</th>\n",
              "      <th>actor_2_name</th>\n",
              "      <th>actor_1_facebook_likes</th>\n",
              "      <th>gross</th>\n",
              "      <th>genres</th>\n",
              "      <th>actor_1_name</th>\n",
              "      <th>movie_title</th>\n",
              "      <th>num_voted_users</th>\n",
              "      <th>cast_total_facebook_likes</th>\n",
              "      <th>actor_3_name</th>\n",
              "      <th>facenumber_in_poster</th>\n",
              "      <th>plot_keywords</th>\n",
              "      <th>movie_imdb_link</th>\n",
              "      <th>num_user_for_reviews</th>\n",
              "      <th>language</th>\n",
              "      <th>country</th>\n",
              "      <th>content_rating</th>\n",
              "      <th>budget</th>\n",
              "      <th>title_year</th>\n",
              "      <th>actor_2_facebook_likes</th>\n",
              "      <th>imdb_score</th>\n",
              "      <th>aspect_ratio</th>\n",
              "      <th>movie_facebook_likes</th>\n",
              "    </tr>\n",
              "  </thead>\n",
              "  <tbody>\n",
              "    <tr>\n",
              "      <th>0</th>\n",
              "      <td>Color</td>\n",
              "      <td>James Cameron</td>\n",
              "      <td>723.0</td>\n",
              "      <td>178.0</td>\n",
              "      <td>0.0</td>\n",
              "      <td>855.0</td>\n",
              "      <td>Joel David Moore</td>\n",
              "      <td>1000.0</td>\n",
              "      <td>760505847.0</td>\n",
              "      <td>Action|Adventure|Fantasy|Sci-Fi</td>\n",
              "      <td>CCH Pounder</td>\n",
              "      <td>Avatar</td>\n",
              "      <td>886204</td>\n",
              "      <td>4834</td>\n",
              "      <td>Wes Studi</td>\n",
              "      <td>0.0</td>\n",
              "      <td>avatar|future|marine|native|paraplegic</td>\n",
              "      <td>http://www.imdb.com/title/tt0499549/?ref_=fn_t...</td>\n",
              "      <td>3054.0</td>\n",
              "      <td>English</td>\n",
              "      <td>USA</td>\n",
              "      <td>PG-13</td>\n",
              "      <td>237000000.0</td>\n",
              "      <td>2009.0</td>\n",
              "      <td>936.0</td>\n",
              "      <td>7.9</td>\n",
              "      <td>1.78</td>\n",
              "      <td>33000</td>\n",
              "    </tr>\n",
              "    <tr>\n",
              "      <th>1</th>\n",
              "      <td>Color</td>\n",
              "      <td>Gore Verbinski</td>\n",
              "      <td>302.0</td>\n",
              "      <td>169.0</td>\n",
              "      <td>563.0</td>\n",
              "      <td>1000.0</td>\n",
              "      <td>Orlando Bloom</td>\n",
              "      <td>40000.0</td>\n",
              "      <td>309404152.0</td>\n",
              "      <td>Action|Adventure|Fantasy</td>\n",
              "      <td>Johnny Depp</td>\n",
              "      <td>Pirates of the Caribbean: At World's End</td>\n",
              "      <td>471220</td>\n",
              "      <td>48350</td>\n",
              "      <td>Jack Davenport</td>\n",
              "      <td>0.0</td>\n",
              "      <td>goddess|marriage ceremony|marriage proposal|pi...</td>\n",
              "      <td>http://www.imdb.com/title/tt0449088/?ref_=fn_t...</td>\n",
              "      <td>1238.0</td>\n",
              "      <td>English</td>\n",
              "      <td>USA</td>\n",
              "      <td>PG-13</td>\n",
              "      <td>300000000.0</td>\n",
              "      <td>2007.0</td>\n",
              "      <td>5000.0</td>\n",
              "      <td>7.1</td>\n",
              "      <td>2.35</td>\n",
              "      <td>0</td>\n",
              "    </tr>\n",
              "    <tr>\n",
              "      <th>2</th>\n",
              "      <td>Color</td>\n",
              "      <td>Sam Mendes</td>\n",
              "      <td>602.0</td>\n",
              "      <td>148.0</td>\n",
              "      <td>0.0</td>\n",
              "      <td>161.0</td>\n",
              "      <td>Rory Kinnear</td>\n",
              "      <td>11000.0</td>\n",
              "      <td>200074175.0</td>\n",
              "      <td>Action|Adventure|Thriller</td>\n",
              "      <td>Christoph Waltz</td>\n",
              "      <td>Spectre</td>\n",
              "      <td>275868</td>\n",
              "      <td>11700</td>\n",
              "      <td>Stephanie Sigman</td>\n",
              "      <td>1.0</td>\n",
              "      <td>bomb|espionage|sequel|spy|terrorist</td>\n",
              "      <td>http://www.imdb.com/title/tt2379713/?ref_=fn_t...</td>\n",
              "      <td>994.0</td>\n",
              "      <td>English</td>\n",
              "      <td>UK</td>\n",
              "      <td>PG-13</td>\n",
              "      <td>245000000.0</td>\n",
              "      <td>2015.0</td>\n",
              "      <td>393.0</td>\n",
              "      <td>6.8</td>\n",
              "      <td>2.35</td>\n",
              "      <td>85000</td>\n",
              "    </tr>\n",
              "  </tbody>\n",
              "</table>\n",
              "</div>"
            ],
            "text/plain": [
              "   color   director_name  num_critic_for_reviews  duration  \\\n",
              "0  Color   James Cameron                   723.0     178.0   \n",
              "1  Color  Gore Verbinski                   302.0     169.0   \n",
              "2  Color      Sam Mendes                   602.0     148.0   \n",
              "\n",
              "   director_facebook_likes  actor_3_facebook_likes      actor_2_name  \\\n",
              "0                      0.0                   855.0  Joel David Moore   \n",
              "1                    563.0                  1000.0     Orlando Bloom   \n",
              "2                      0.0                   161.0      Rory Kinnear   \n",
              "\n",
              "   actor_1_facebook_likes        gross                           genres  \\\n",
              "0                  1000.0  760505847.0  Action|Adventure|Fantasy|Sci-Fi   \n",
              "1                 40000.0  309404152.0         Action|Adventure|Fantasy   \n",
              "2                 11000.0  200074175.0        Action|Adventure|Thriller   \n",
              "\n",
              "      actor_1_name                                movie_title  \\\n",
              "0      CCH Pounder                                    Avatar    \n",
              "1      Johnny Depp  Pirates of the Caribbean: At World's End    \n",
              "2  Christoph Waltz                                   Spectre    \n",
              "\n",
              "   num_voted_users  cast_total_facebook_likes      actor_3_name  \\\n",
              "0           886204                       4834         Wes Studi   \n",
              "1           471220                      48350    Jack Davenport   \n",
              "2           275868                      11700  Stephanie Sigman   \n",
              "\n",
              "   facenumber_in_poster                                      plot_keywords  \\\n",
              "0                   0.0             avatar|future|marine|native|paraplegic   \n",
              "1                   0.0  goddess|marriage ceremony|marriage proposal|pi...   \n",
              "2                   1.0                bomb|espionage|sequel|spy|terrorist   \n",
              "\n",
              "                                     movie_imdb_link  num_user_for_reviews  \\\n",
              "0  http://www.imdb.com/title/tt0499549/?ref_=fn_t...                3054.0   \n",
              "1  http://www.imdb.com/title/tt0449088/?ref_=fn_t...                1238.0   \n",
              "2  http://www.imdb.com/title/tt2379713/?ref_=fn_t...                 994.0   \n",
              "\n",
              "  language country content_rating       budget  title_year  \\\n",
              "0  English     USA          PG-13  237000000.0      2009.0   \n",
              "1  English     USA          PG-13  300000000.0      2007.0   \n",
              "2  English      UK          PG-13  245000000.0      2015.0   \n",
              "\n",
              "   actor_2_facebook_likes  imdb_score  aspect_ratio  movie_facebook_likes  \n",
              "0                   936.0         7.9          1.78                 33000  \n",
              "1                  5000.0         7.1          2.35                     0  \n",
              "2                   393.0         6.8          2.35                 85000  "
            ]
          },
          "metadata": {
            "tags": []
          },
          "execution_count": 70
        }
      ]
    },
    {
      "cell_type": "code",
      "metadata": {
        "id": "wHda86ypam2n",
        "colab_type": "code",
        "colab": {
          "base_uri": "https://localhost:8080/",
          "height": 34
        },
        "outputId": "1f2d89e8-6ab9-4f72-8d8d-d7040acc9fc9"
      },
      "source": [
        "#slicing using loc method - label based\n",
        "movies_subset = movies.loc[0:2,['color', 'director_name', 'num_critic_for_reviews']]\n",
        "movies_subset.shape\n",
        "movies_subset = movies.loc[[0,1],['color', 'director_name', 'num_critic_for_reviews']]\n",
        "movies_subset.shape\n",
        "movies_subset = movies.loc[[0,1],:]\n",
        "movies_subset.shape"
      ],
      "execution_count": 71,
      "outputs": [
        {
          "output_type": "execute_result",
          "data": {
            "text/plain": [
              "(3, 3)"
            ]
          },
          "metadata": {
            "tags": []
          },
          "execution_count": 71
        },
        {
          "output_type": "execute_result",
          "data": {
            "text/plain": [
              "(2, 3)"
            ]
          },
          "metadata": {
            "tags": []
          },
          "execution_count": 71
        },
        {
          "output_type": "execute_result",
          "data": {
            "text/plain": [
              "(2, 28)"
            ]
          },
          "metadata": {
            "tags": []
          },
          "execution_count": 71
        }
      ]
    },
    {
      "cell_type": "code",
      "metadata": {
        "id": "jBhnoYK_am20",
        "colab_type": "code",
        "colab": {
          "base_uri": "https://localhost:8080/",
          "height": 34
        },
        "outputId": "c820520e-3517-4f44-feab-076321686143"
      },
      "source": [
        "#slicing using .iloc method\n",
        "movies_subset = movies.iloc[0:2,0:3]\n",
        "movies_subset.shape\n",
        "movies_subset = movies.iloc[[0,1],[0,1,2]]\n",
        "movies_subset.shape\n",
        "movies_subset = movies.iloc[[0,1],:]\n",
        "movies_subset.shape"
      ],
      "execution_count": 72,
      "outputs": [
        {
          "output_type": "execute_result",
          "data": {
            "text/plain": [
              "(2, 3)"
            ]
          },
          "metadata": {
            "tags": []
          },
          "execution_count": 72
        },
        {
          "output_type": "execute_result",
          "data": {
            "text/plain": [
              "(2, 3)"
            ]
          },
          "metadata": {
            "tags": []
          },
          "execution_count": 72
        },
        {
          "output_type": "execute_result",
          "data": {
            "text/plain": [
              "(2, 28)"
            ]
          },
          "metadata": {
            "tags": []
          },
          "execution_count": 72
        }
      ]
    },
    {
      "cell_type": "markdown",
      "metadata": {
        "id": "K_Qytig_am25",
        "colab_type": "text"
      },
      "source": [
        "## Exploratory data analysis\n",
        "#Exploratory Data Analysis refers to the process of exploring your data to find missing values, outliers, findings related to relationship between different features/variables with the help of summary statistics and visualizations."
      ]
    },
    {
      "cell_type": "code",
      "metadata": {
        "id": "7oN-SrL3am26",
        "colab_type": "code",
        "colab": {
          "base_uri": "https://localhost:8080/",
          "height": 490
        },
        "outputId": "c0f0339d-13fd-4935-fca5-77977e3c33b2"
      },
      "source": [
        "# statistical summary of data\n",
        "movies.describe()\n",
        "movies.describe(include='object')"
      ],
      "execution_count": 73,
      "outputs": [
        {
          "output_type": "execute_result",
          "data": {
            "text/html": [
              "<div>\n",
              "<style scoped>\n",
              "    .dataframe tbody tr th:only-of-type {\n",
              "        vertical-align: middle;\n",
              "    }\n",
              "\n",
              "    .dataframe tbody tr th {\n",
              "        vertical-align: top;\n",
              "    }\n",
              "\n",
              "    .dataframe thead th {\n",
              "        text-align: right;\n",
              "    }\n",
              "</style>\n",
              "<table border=\"1\" class=\"dataframe\">\n",
              "  <thead>\n",
              "    <tr style=\"text-align: right;\">\n",
              "      <th></th>\n",
              "      <th>num_critic_for_reviews</th>\n",
              "      <th>duration</th>\n",
              "      <th>director_facebook_likes</th>\n",
              "      <th>actor_3_facebook_likes</th>\n",
              "      <th>actor_1_facebook_likes</th>\n",
              "      <th>gross</th>\n",
              "      <th>num_voted_users</th>\n",
              "      <th>cast_total_facebook_likes</th>\n",
              "      <th>facenumber_in_poster</th>\n",
              "      <th>num_user_for_reviews</th>\n",
              "      <th>budget</th>\n",
              "      <th>title_year</th>\n",
              "      <th>actor_2_facebook_likes</th>\n",
              "      <th>imdb_score</th>\n",
              "      <th>aspect_ratio</th>\n",
              "      <th>movie_facebook_likes</th>\n",
              "    </tr>\n",
              "  </thead>\n",
              "  <tbody>\n",
              "    <tr>\n",
              "      <th>count</th>\n",
              "      <td>4993.000000</td>\n",
              "      <td>5028.000000</td>\n",
              "      <td>4939.000000</td>\n",
              "      <td>5020.000000</td>\n",
              "      <td>5036.000000</td>\n",
              "      <td>4.159000e+03</td>\n",
              "      <td>5.043000e+03</td>\n",
              "      <td>5043.000000</td>\n",
              "      <td>5030.000000</td>\n",
              "      <td>5022.000000</td>\n",
              "      <td>4.551000e+03</td>\n",
              "      <td>4935.000000</td>\n",
              "      <td>5030.000000</td>\n",
              "      <td>5043.000000</td>\n",
              "      <td>4714.000000</td>\n",
              "      <td>5043.000000</td>\n",
              "    </tr>\n",
              "    <tr>\n",
              "      <th>mean</th>\n",
              "      <td>140.194272</td>\n",
              "      <td>107.201074</td>\n",
              "      <td>686.509212</td>\n",
              "      <td>645.009761</td>\n",
              "      <td>6560.047061</td>\n",
              "      <td>4.846841e+07</td>\n",
              "      <td>8.366816e+04</td>\n",
              "      <td>9699.063851</td>\n",
              "      <td>1.371173</td>\n",
              "      <td>272.770808</td>\n",
              "      <td>3.975262e+07</td>\n",
              "      <td>2002.470517</td>\n",
              "      <td>1651.754473</td>\n",
              "      <td>6.442138</td>\n",
              "      <td>2.220403</td>\n",
              "      <td>7525.964505</td>\n",
              "    </tr>\n",
              "    <tr>\n",
              "      <th>std</th>\n",
              "      <td>121.601675</td>\n",
              "      <td>25.197441</td>\n",
              "      <td>2813.328607</td>\n",
              "      <td>1665.041728</td>\n",
              "      <td>15020.759120</td>\n",
              "      <td>6.845299e+07</td>\n",
              "      <td>1.384853e+05</td>\n",
              "      <td>18163.799124</td>\n",
              "      <td>2.013576</td>\n",
              "      <td>377.982886</td>\n",
              "      <td>2.061149e+08</td>\n",
              "      <td>12.474599</td>\n",
              "      <td>4042.438863</td>\n",
              "      <td>1.125116</td>\n",
              "      <td>1.385113</td>\n",
              "      <td>19320.445110</td>\n",
              "    </tr>\n",
              "    <tr>\n",
              "      <th>min</th>\n",
              "      <td>1.000000</td>\n",
              "      <td>7.000000</td>\n",
              "      <td>0.000000</td>\n",
              "      <td>0.000000</td>\n",
              "      <td>0.000000</td>\n",
              "      <td>1.620000e+02</td>\n",
              "      <td>5.000000e+00</td>\n",
              "      <td>0.000000</td>\n",
              "      <td>0.000000</td>\n",
              "      <td>1.000000</td>\n",
              "      <td>2.180000e+02</td>\n",
              "      <td>1916.000000</td>\n",
              "      <td>0.000000</td>\n",
              "      <td>1.600000</td>\n",
              "      <td>1.180000</td>\n",
              "      <td>0.000000</td>\n",
              "    </tr>\n",
              "    <tr>\n",
              "      <th>25%</th>\n",
              "      <td>50.000000</td>\n",
              "      <td>93.000000</td>\n",
              "      <td>7.000000</td>\n",
              "      <td>133.000000</td>\n",
              "      <td>614.000000</td>\n",
              "      <td>5.340988e+06</td>\n",
              "      <td>8.593500e+03</td>\n",
              "      <td>1411.000000</td>\n",
              "      <td>0.000000</td>\n",
              "      <td>65.000000</td>\n",
              "      <td>6.000000e+06</td>\n",
              "      <td>1999.000000</td>\n",
              "      <td>281.000000</td>\n",
              "      <td>5.800000</td>\n",
              "      <td>1.850000</td>\n",
              "      <td>0.000000</td>\n",
              "    </tr>\n",
              "    <tr>\n",
              "      <th>50%</th>\n",
              "      <td>110.000000</td>\n",
              "      <td>103.000000</td>\n",
              "      <td>49.000000</td>\n",
              "      <td>371.500000</td>\n",
              "      <td>988.000000</td>\n",
              "      <td>2.551750e+07</td>\n",
              "      <td>3.435900e+04</td>\n",
              "      <td>3090.000000</td>\n",
              "      <td>1.000000</td>\n",
              "      <td>156.000000</td>\n",
              "      <td>2.000000e+07</td>\n",
              "      <td>2005.000000</td>\n",
              "      <td>595.000000</td>\n",
              "      <td>6.600000</td>\n",
              "      <td>2.350000</td>\n",
              "      <td>166.000000</td>\n",
              "    </tr>\n",
              "    <tr>\n",
              "      <th>75%</th>\n",
              "      <td>195.000000</td>\n",
              "      <td>118.000000</td>\n",
              "      <td>194.500000</td>\n",
              "      <td>636.000000</td>\n",
              "      <td>11000.000000</td>\n",
              "      <td>6.230944e+07</td>\n",
              "      <td>9.630900e+04</td>\n",
              "      <td>13756.500000</td>\n",
              "      <td>2.000000</td>\n",
              "      <td>326.000000</td>\n",
              "      <td>4.500000e+07</td>\n",
              "      <td>2011.000000</td>\n",
              "      <td>918.000000</td>\n",
              "      <td>7.200000</td>\n",
              "      <td>2.350000</td>\n",
              "      <td>3000.000000</td>\n",
              "    </tr>\n",
              "    <tr>\n",
              "      <th>max</th>\n",
              "      <td>813.000000</td>\n",
              "      <td>511.000000</td>\n",
              "      <td>23000.000000</td>\n",
              "      <td>23000.000000</td>\n",
              "      <td>640000.000000</td>\n",
              "      <td>7.605058e+08</td>\n",
              "      <td>1.689764e+06</td>\n",
              "      <td>656730.000000</td>\n",
              "      <td>43.000000</td>\n",
              "      <td>5060.000000</td>\n",
              "      <td>1.221550e+10</td>\n",
              "      <td>2016.000000</td>\n",
              "      <td>137000.000000</td>\n",
              "      <td>9.500000</td>\n",
              "      <td>16.000000</td>\n",
              "      <td>349000.000000</td>\n",
              "    </tr>\n",
              "  </tbody>\n",
              "</table>\n",
              "</div>"
            ],
            "text/plain": [
              "       num_critic_for_reviews     duration  director_facebook_likes  \\\n",
              "count             4993.000000  5028.000000              4939.000000   \n",
              "mean               140.194272   107.201074               686.509212   \n",
              "std                121.601675    25.197441              2813.328607   \n",
              "min                  1.000000     7.000000                 0.000000   \n",
              "25%                 50.000000    93.000000                 7.000000   \n",
              "50%                110.000000   103.000000                49.000000   \n",
              "75%                195.000000   118.000000               194.500000   \n",
              "max                813.000000   511.000000             23000.000000   \n",
              "\n",
              "       actor_3_facebook_likes  actor_1_facebook_likes         gross  \\\n",
              "count             5020.000000             5036.000000  4.159000e+03   \n",
              "mean               645.009761             6560.047061  4.846841e+07   \n",
              "std               1665.041728            15020.759120  6.845299e+07   \n",
              "min                  0.000000                0.000000  1.620000e+02   \n",
              "25%                133.000000              614.000000  5.340988e+06   \n",
              "50%                371.500000              988.000000  2.551750e+07   \n",
              "75%                636.000000            11000.000000  6.230944e+07   \n",
              "max              23000.000000           640000.000000  7.605058e+08   \n",
              "\n",
              "       num_voted_users  cast_total_facebook_likes  facenumber_in_poster  \\\n",
              "count     5.043000e+03                5043.000000           5030.000000   \n",
              "mean      8.366816e+04                9699.063851              1.371173   \n",
              "std       1.384853e+05               18163.799124              2.013576   \n",
              "min       5.000000e+00                   0.000000              0.000000   \n",
              "25%       8.593500e+03                1411.000000              0.000000   \n",
              "50%       3.435900e+04                3090.000000              1.000000   \n",
              "75%       9.630900e+04               13756.500000              2.000000   \n",
              "max       1.689764e+06              656730.000000             43.000000   \n",
              "\n",
              "       num_user_for_reviews        budget   title_year  \\\n",
              "count           5022.000000  4.551000e+03  4935.000000   \n",
              "mean             272.770808  3.975262e+07  2002.470517   \n",
              "std              377.982886  2.061149e+08    12.474599   \n",
              "min                1.000000  2.180000e+02  1916.000000   \n",
              "25%               65.000000  6.000000e+06  1999.000000   \n",
              "50%              156.000000  2.000000e+07  2005.000000   \n",
              "75%              326.000000  4.500000e+07  2011.000000   \n",
              "max             5060.000000  1.221550e+10  2016.000000   \n",
              "\n",
              "       actor_2_facebook_likes   imdb_score  aspect_ratio  movie_facebook_likes  \n",
              "count             5030.000000  5043.000000   4714.000000           5043.000000  \n",
              "mean              1651.754473     6.442138      2.220403           7525.964505  \n",
              "std               4042.438863     1.125116      1.385113          19320.445110  \n",
              "min                  0.000000     1.600000      1.180000              0.000000  \n",
              "25%                281.000000     5.800000      1.850000              0.000000  \n",
              "50%                595.000000     6.600000      2.350000            166.000000  \n",
              "75%                918.000000     7.200000      2.350000           3000.000000  \n",
              "max             137000.000000     9.500000     16.000000         349000.000000  "
            ]
          },
          "metadata": {
            "tags": []
          },
          "execution_count": 73
        },
        {
          "output_type": "execute_result",
          "data": {
            "text/html": [
              "<div>\n",
              "<style scoped>\n",
              "    .dataframe tbody tr th:only-of-type {\n",
              "        vertical-align: middle;\n",
              "    }\n",
              "\n",
              "    .dataframe tbody tr th {\n",
              "        vertical-align: top;\n",
              "    }\n",
              "\n",
              "    .dataframe thead th {\n",
              "        text-align: right;\n",
              "    }\n",
              "</style>\n",
              "<table border=\"1\" class=\"dataframe\">\n",
              "  <thead>\n",
              "    <tr style=\"text-align: right;\">\n",
              "      <th></th>\n",
              "      <th>color</th>\n",
              "      <th>director_name</th>\n",
              "      <th>actor_2_name</th>\n",
              "      <th>genres</th>\n",
              "      <th>actor_1_name</th>\n",
              "      <th>movie_title</th>\n",
              "      <th>actor_3_name</th>\n",
              "      <th>plot_keywords</th>\n",
              "      <th>movie_imdb_link</th>\n",
              "      <th>language</th>\n",
              "      <th>country</th>\n",
              "      <th>content_rating</th>\n",
              "    </tr>\n",
              "  </thead>\n",
              "  <tbody>\n",
              "    <tr>\n",
              "      <th>count</th>\n",
              "      <td>5024</td>\n",
              "      <td>4939</td>\n",
              "      <td>5030</td>\n",
              "      <td>5043</td>\n",
              "      <td>5036</td>\n",
              "      <td>5043</td>\n",
              "      <td>5020</td>\n",
              "      <td>4890</td>\n",
              "      <td>5043</td>\n",
              "      <td>5031</td>\n",
              "      <td>5038</td>\n",
              "      <td>4740</td>\n",
              "    </tr>\n",
              "    <tr>\n",
              "      <th>unique</th>\n",
              "      <td>2</td>\n",
              "      <td>2398</td>\n",
              "      <td>3032</td>\n",
              "      <td>914</td>\n",
              "      <td>2097</td>\n",
              "      <td>4917</td>\n",
              "      <td>3521</td>\n",
              "      <td>4760</td>\n",
              "      <td>4919</td>\n",
              "      <td>47</td>\n",
              "      <td>65</td>\n",
              "      <td>18</td>\n",
              "    </tr>\n",
              "    <tr>\n",
              "      <th>top</th>\n",
              "      <td>Color</td>\n",
              "      <td>Steven Spielberg</td>\n",
              "      <td>Morgan Freeman</td>\n",
              "      <td>Drama</td>\n",
              "      <td>Robert De Niro</td>\n",
              "      <td>King Kong</td>\n",
              "      <td>John Heard</td>\n",
              "      <td>based on novel</td>\n",
              "      <td>http://www.imdb.com/title/tt0077651/?ref_=fn_t...</td>\n",
              "      <td>English</td>\n",
              "      <td>USA</td>\n",
              "      <td>R</td>\n",
              "    </tr>\n",
              "    <tr>\n",
              "      <th>freq</th>\n",
              "      <td>4815</td>\n",
              "      <td>26</td>\n",
              "      <td>20</td>\n",
              "      <td>236</td>\n",
              "      <td>49</td>\n",
              "      <td>3</td>\n",
              "      <td>8</td>\n",
              "      <td>4</td>\n",
              "      <td>3</td>\n",
              "      <td>4704</td>\n",
              "      <td>3807</td>\n",
              "      <td>2118</td>\n",
              "    </tr>\n",
              "  </tbody>\n",
              "</table>\n",
              "</div>"
            ],
            "text/plain": [
              "        color     director_name    actor_2_name genres    actor_1_name  \\\n",
              "count    5024              4939            5030   5043            5036   \n",
              "unique      2              2398            3032    914            2097   \n",
              "top     Color  Steven Spielberg  Morgan Freeman  Drama  Robert De Niro   \n",
              "freq     4815                26              20    236              49   \n",
              "\n",
              "       movie_title actor_3_name   plot_keywords  \\\n",
              "count         5043         5020            4890   \n",
              "unique        4917         3521            4760   \n",
              "top     King Kong    John Heard  based on novel   \n",
              "freq             3            8               4   \n",
              "\n",
              "                                          movie_imdb_link language country  \\\n",
              "count                                                5043     5031    5038   \n",
              "unique                                               4919       47      65   \n",
              "top     http://www.imdb.com/title/tt0077651/?ref_=fn_t...  English     USA   \n",
              "freq                                                    3     4704    3807   \n",
              "\n",
              "       content_rating  \n",
              "count            4740  \n",
              "unique             18  \n",
              "top                 R  \n",
              "freq             2118  "
            ]
          },
          "metadata": {
            "tags": []
          },
          "execution_count": 73
        }
      ]
    },
    {
      "cell_type": "code",
      "metadata": {
        "id": "S0Kgd4-Pam3C",
        "colab_type": "code",
        "colab": {
          "base_uri": "https://localhost:8080/",
          "height": 34
        },
        "outputId": "37b1d4d9-987d-4340-b49b-3b3b73ff3200"
      },
      "source": [
        "movies.shape"
      ],
      "execution_count": 74,
      "outputs": [
        {
          "output_type": "execute_result",
          "data": {
            "text/plain": [
              "(5043, 28)"
            ]
          },
          "metadata": {
            "tags": []
          },
          "execution_count": 74
        }
      ]
    },
    {
      "cell_type": "code",
      "metadata": {
        "id": "pumDE2oJam3H",
        "colab_type": "code",
        "colab": {
          "base_uri": "https://localhost:8080/",
          "height": 612
        },
        "outputId": "aa386230-09df-4870-830d-93c6bf67d199"
      },
      "source": [
        "# getting missing values and data type information\n",
        "movies.info()"
      ],
      "execution_count": 75,
      "outputs": [
        {
          "output_type": "stream",
          "text": [
            "<class 'pandas.core.frame.DataFrame'>\n",
            "RangeIndex: 5043 entries, 0 to 5042\n",
            "Data columns (total 28 columns):\n",
            " #   Column                     Non-Null Count  Dtype  \n",
            "---  ------                     --------------  -----  \n",
            " 0   color                      5024 non-null   object \n",
            " 1   director_name              4939 non-null   object \n",
            " 2   num_critic_for_reviews     4993 non-null   float64\n",
            " 3   duration                   5028 non-null   float64\n",
            " 4   director_facebook_likes    4939 non-null   float64\n",
            " 5   actor_3_facebook_likes     5020 non-null   float64\n",
            " 6   actor_2_name               5030 non-null   object \n",
            " 7   actor_1_facebook_likes     5036 non-null   float64\n",
            " 8   gross                      4159 non-null   float64\n",
            " 9   genres                     5043 non-null   object \n",
            " 10  actor_1_name               5036 non-null   object \n",
            " 11  movie_title                5043 non-null   object \n",
            " 12  num_voted_users            5043 non-null   int64  \n",
            " 13  cast_total_facebook_likes  5043 non-null   int64  \n",
            " 14  actor_3_name               5020 non-null   object \n",
            " 15  facenumber_in_poster       5030 non-null   float64\n",
            " 16  plot_keywords              4890 non-null   object \n",
            " 17  movie_imdb_link            5043 non-null   object \n",
            " 18  num_user_for_reviews       5022 non-null   float64\n",
            " 19  language                   5031 non-null   object \n",
            " 20  country                    5038 non-null   object \n",
            " 21  content_rating             4740 non-null   object \n",
            " 22  budget                     4551 non-null   float64\n",
            " 23  title_year                 4935 non-null   float64\n",
            " 24  actor_2_facebook_likes     5030 non-null   float64\n",
            " 25  imdb_score                 5043 non-null   float64\n",
            " 26  aspect_ratio               4714 non-null   float64\n",
            " 27  movie_facebook_likes       5043 non-null   int64  \n",
            "dtypes: float64(13), int64(3), object(12)\n",
            "memory usage: 1.1+ MB\n"
          ],
          "name": "stdout"
        }
      ]
    },
    {
      "cell_type": "code",
      "metadata": {
        "id": "iZtVnvOWam3X",
        "colab_type": "code",
        "colab": {
          "base_uri": "https://localhost:8080/",
          "height": 335
        },
        "outputId": "2421ab94-c710-4304-e4cf-0a6b0411b4a7"
      },
      "source": [
        "# Filter dataframe for columns\n",
        "movies.head(2)\n",
        "movies.columns"
      ],
      "execution_count": 76,
      "outputs": [
        {
          "output_type": "execute_result",
          "data": {
            "text/html": [
              "<div>\n",
              "<style scoped>\n",
              "    .dataframe tbody tr th:only-of-type {\n",
              "        vertical-align: middle;\n",
              "    }\n",
              "\n",
              "    .dataframe tbody tr th {\n",
              "        vertical-align: top;\n",
              "    }\n",
              "\n",
              "    .dataframe thead th {\n",
              "        text-align: right;\n",
              "    }\n",
              "</style>\n",
              "<table border=\"1\" class=\"dataframe\">\n",
              "  <thead>\n",
              "    <tr style=\"text-align: right;\">\n",
              "      <th></th>\n",
              "      <th>color</th>\n",
              "      <th>director_name</th>\n",
              "      <th>num_critic_for_reviews</th>\n",
              "      <th>duration</th>\n",
              "      <th>director_facebook_likes</th>\n",
              "      <th>actor_3_facebook_likes</th>\n",
              "      <th>actor_2_name</th>\n",
              "      <th>actor_1_facebook_likes</th>\n",
              "      <th>gross</th>\n",
              "      <th>genres</th>\n",
              "      <th>actor_1_name</th>\n",
              "      <th>movie_title</th>\n",
              "      <th>num_voted_users</th>\n",
              "      <th>cast_total_facebook_likes</th>\n",
              "      <th>actor_3_name</th>\n",
              "      <th>facenumber_in_poster</th>\n",
              "      <th>plot_keywords</th>\n",
              "      <th>movie_imdb_link</th>\n",
              "      <th>num_user_for_reviews</th>\n",
              "      <th>language</th>\n",
              "      <th>country</th>\n",
              "      <th>content_rating</th>\n",
              "      <th>budget</th>\n",
              "      <th>title_year</th>\n",
              "      <th>actor_2_facebook_likes</th>\n",
              "      <th>imdb_score</th>\n",
              "      <th>aspect_ratio</th>\n",
              "      <th>movie_facebook_likes</th>\n",
              "    </tr>\n",
              "  </thead>\n",
              "  <tbody>\n",
              "    <tr>\n",
              "      <th>0</th>\n",
              "      <td>Color</td>\n",
              "      <td>James Cameron</td>\n",
              "      <td>723.0</td>\n",
              "      <td>178.0</td>\n",
              "      <td>0.0</td>\n",
              "      <td>855.0</td>\n",
              "      <td>Joel David Moore</td>\n",
              "      <td>1000.0</td>\n",
              "      <td>760505847.0</td>\n",
              "      <td>Action|Adventure|Fantasy|Sci-Fi</td>\n",
              "      <td>CCH Pounder</td>\n",
              "      <td>Avatar</td>\n",
              "      <td>886204</td>\n",
              "      <td>4834</td>\n",
              "      <td>Wes Studi</td>\n",
              "      <td>0.0</td>\n",
              "      <td>avatar|future|marine|native|paraplegic</td>\n",
              "      <td>http://www.imdb.com/title/tt0499549/?ref_=fn_t...</td>\n",
              "      <td>3054.0</td>\n",
              "      <td>English</td>\n",
              "      <td>USA</td>\n",
              "      <td>PG-13</td>\n",
              "      <td>237000000.0</td>\n",
              "      <td>2009.0</td>\n",
              "      <td>936.0</td>\n",
              "      <td>7.9</td>\n",
              "      <td>1.78</td>\n",
              "      <td>33000</td>\n",
              "    </tr>\n",
              "    <tr>\n",
              "      <th>1</th>\n",
              "      <td>Color</td>\n",
              "      <td>Gore Verbinski</td>\n",
              "      <td>302.0</td>\n",
              "      <td>169.0</td>\n",
              "      <td>563.0</td>\n",
              "      <td>1000.0</td>\n",
              "      <td>Orlando Bloom</td>\n",
              "      <td>40000.0</td>\n",
              "      <td>309404152.0</td>\n",
              "      <td>Action|Adventure|Fantasy</td>\n",
              "      <td>Johnny Depp</td>\n",
              "      <td>Pirates of the Caribbean: At World's End</td>\n",
              "      <td>471220</td>\n",
              "      <td>48350</td>\n",
              "      <td>Jack Davenport</td>\n",
              "      <td>0.0</td>\n",
              "      <td>goddess|marriage ceremony|marriage proposal|pi...</td>\n",
              "      <td>http://www.imdb.com/title/tt0449088/?ref_=fn_t...</td>\n",
              "      <td>1238.0</td>\n",
              "      <td>English</td>\n",
              "      <td>USA</td>\n",
              "      <td>PG-13</td>\n",
              "      <td>300000000.0</td>\n",
              "      <td>2007.0</td>\n",
              "      <td>5000.0</td>\n",
              "      <td>7.1</td>\n",
              "      <td>2.35</td>\n",
              "      <td>0</td>\n",
              "    </tr>\n",
              "  </tbody>\n",
              "</table>\n",
              "</div>"
            ],
            "text/plain": [
              "   color   director_name  num_critic_for_reviews  duration  \\\n",
              "0  Color   James Cameron                   723.0     178.0   \n",
              "1  Color  Gore Verbinski                   302.0     169.0   \n",
              "\n",
              "   director_facebook_likes  actor_3_facebook_likes      actor_2_name  \\\n",
              "0                      0.0                   855.0  Joel David Moore   \n",
              "1                    563.0                  1000.0     Orlando Bloom   \n",
              "\n",
              "   actor_1_facebook_likes        gross                           genres  \\\n",
              "0                  1000.0  760505847.0  Action|Adventure|Fantasy|Sci-Fi   \n",
              "1                 40000.0  309404152.0         Action|Adventure|Fantasy   \n",
              "\n",
              "  actor_1_name                                movie_title  num_voted_users  \\\n",
              "0  CCH Pounder                                    Avatar            886204   \n",
              "1  Johnny Depp  Pirates of the Caribbean: At World's End            471220   \n",
              "\n",
              "   cast_total_facebook_likes    actor_3_name  facenumber_in_poster  \\\n",
              "0                       4834       Wes Studi                   0.0   \n",
              "1                      48350  Jack Davenport                   0.0   \n",
              "\n",
              "                                       plot_keywords  \\\n",
              "0             avatar|future|marine|native|paraplegic   \n",
              "1  goddess|marriage ceremony|marriage proposal|pi...   \n",
              "\n",
              "                                     movie_imdb_link  num_user_for_reviews  \\\n",
              "0  http://www.imdb.com/title/tt0499549/?ref_=fn_t...                3054.0   \n",
              "1  http://www.imdb.com/title/tt0449088/?ref_=fn_t...                1238.0   \n",
              "\n",
              "  language country content_rating       budget  title_year  \\\n",
              "0  English     USA          PG-13  237000000.0      2009.0   \n",
              "1  English     USA          PG-13  300000000.0      2007.0   \n",
              "\n",
              "   actor_2_facebook_likes  imdb_score  aspect_ratio  movie_facebook_likes  \n",
              "0                   936.0         7.9          1.78                 33000  \n",
              "1                  5000.0         7.1          2.35                     0  "
            ]
          },
          "metadata": {
            "tags": []
          },
          "execution_count": 76
        },
        {
          "output_type": "execute_result",
          "data": {
            "text/plain": [
              "Index(['color', 'director_name', 'num_critic_for_reviews', 'duration',\n",
              "       'director_facebook_likes', 'actor_3_facebook_likes', 'actor_2_name',\n",
              "       'actor_1_facebook_likes', 'gross', 'genres', 'actor_1_name',\n",
              "       'movie_title', 'num_voted_users', 'cast_total_facebook_likes',\n",
              "       'actor_3_name', 'facenumber_in_poster', 'plot_keywords',\n",
              "       'movie_imdb_link', 'num_user_for_reviews', 'language', 'country',\n",
              "       'content_rating', 'budget', 'title_year', 'actor_2_facebook_likes',\n",
              "       'imdb_score', 'aspect_ratio', 'movie_facebook_likes'],\n",
              "      dtype='object')"
            ]
          },
          "metadata": {
            "tags": []
          },
          "execution_count": 76
        }
      ]
    },
    {
      "cell_type": "code",
      "metadata": {
        "id": "4cV2wj0fam3c",
        "colab_type": "code",
        "colab": {
          "base_uri": "https://localhost:8080/",
          "height": 377
        },
        "outputId": "1edb38bc-1278-4923-fb83-0dd781b27a09"
      },
      "source": [
        "# selecting only few columns which seem important\n",
        "movies_subset = movies[['director_name', 'num_critic_for_reviews', 'duration','gross', 'genres', \n",
        "       'actor_1_name','actor_2_name','movie_title', 'num_voted_users',\n",
        "       'num_user_for_reviews', 'language', 'country','content_rating', 'budget', 'title_year', \n",
        "       'imdb_score']]\n",
        "movies_subset.head()\n",
        "movies_subset.shape"
      ],
      "execution_count": 77,
      "outputs": [
        {
          "output_type": "execute_result",
          "data": {
            "text/html": [
              "<div>\n",
              "<style scoped>\n",
              "    .dataframe tbody tr th:only-of-type {\n",
              "        vertical-align: middle;\n",
              "    }\n",
              "\n",
              "    .dataframe tbody tr th {\n",
              "        vertical-align: top;\n",
              "    }\n",
              "\n",
              "    .dataframe thead th {\n",
              "        text-align: right;\n",
              "    }\n",
              "</style>\n",
              "<table border=\"1\" class=\"dataframe\">\n",
              "  <thead>\n",
              "    <tr style=\"text-align: right;\">\n",
              "      <th></th>\n",
              "      <th>director_name</th>\n",
              "      <th>num_critic_for_reviews</th>\n",
              "      <th>duration</th>\n",
              "      <th>gross</th>\n",
              "      <th>genres</th>\n",
              "      <th>actor_1_name</th>\n",
              "      <th>actor_2_name</th>\n",
              "      <th>movie_title</th>\n",
              "      <th>num_voted_users</th>\n",
              "      <th>num_user_for_reviews</th>\n",
              "      <th>language</th>\n",
              "      <th>country</th>\n",
              "      <th>content_rating</th>\n",
              "      <th>budget</th>\n",
              "      <th>title_year</th>\n",
              "      <th>imdb_score</th>\n",
              "    </tr>\n",
              "  </thead>\n",
              "  <tbody>\n",
              "    <tr>\n",
              "      <th>0</th>\n",
              "      <td>James Cameron</td>\n",
              "      <td>723.0</td>\n",
              "      <td>178.0</td>\n",
              "      <td>760505847.0</td>\n",
              "      <td>Action|Adventure|Fantasy|Sci-Fi</td>\n",
              "      <td>CCH Pounder</td>\n",
              "      <td>Joel David Moore</td>\n",
              "      <td>Avatar</td>\n",
              "      <td>886204</td>\n",
              "      <td>3054.0</td>\n",
              "      <td>English</td>\n",
              "      <td>USA</td>\n",
              "      <td>PG-13</td>\n",
              "      <td>237000000.0</td>\n",
              "      <td>2009.0</td>\n",
              "      <td>7.9</td>\n",
              "    </tr>\n",
              "    <tr>\n",
              "      <th>1</th>\n",
              "      <td>Gore Verbinski</td>\n",
              "      <td>302.0</td>\n",
              "      <td>169.0</td>\n",
              "      <td>309404152.0</td>\n",
              "      <td>Action|Adventure|Fantasy</td>\n",
              "      <td>Johnny Depp</td>\n",
              "      <td>Orlando Bloom</td>\n",
              "      <td>Pirates of the Caribbean: At World's End</td>\n",
              "      <td>471220</td>\n",
              "      <td>1238.0</td>\n",
              "      <td>English</td>\n",
              "      <td>USA</td>\n",
              "      <td>PG-13</td>\n",
              "      <td>300000000.0</td>\n",
              "      <td>2007.0</td>\n",
              "      <td>7.1</td>\n",
              "    </tr>\n",
              "    <tr>\n",
              "      <th>2</th>\n",
              "      <td>Sam Mendes</td>\n",
              "      <td>602.0</td>\n",
              "      <td>148.0</td>\n",
              "      <td>200074175.0</td>\n",
              "      <td>Action|Adventure|Thriller</td>\n",
              "      <td>Christoph Waltz</td>\n",
              "      <td>Rory Kinnear</td>\n",
              "      <td>Spectre</td>\n",
              "      <td>275868</td>\n",
              "      <td>994.0</td>\n",
              "      <td>English</td>\n",
              "      <td>UK</td>\n",
              "      <td>PG-13</td>\n",
              "      <td>245000000.0</td>\n",
              "      <td>2015.0</td>\n",
              "      <td>6.8</td>\n",
              "    </tr>\n",
              "    <tr>\n",
              "      <th>3</th>\n",
              "      <td>Christopher Nolan</td>\n",
              "      <td>813.0</td>\n",
              "      <td>164.0</td>\n",
              "      <td>448130642.0</td>\n",
              "      <td>Action|Thriller</td>\n",
              "      <td>Tom Hardy</td>\n",
              "      <td>Christian Bale</td>\n",
              "      <td>The Dark Knight Rises</td>\n",
              "      <td>1144337</td>\n",
              "      <td>2701.0</td>\n",
              "      <td>English</td>\n",
              "      <td>USA</td>\n",
              "      <td>PG-13</td>\n",
              "      <td>250000000.0</td>\n",
              "      <td>2012.0</td>\n",
              "      <td>8.5</td>\n",
              "    </tr>\n",
              "    <tr>\n",
              "      <th>4</th>\n",
              "      <td>Doug Walker</td>\n",
              "      <td>NaN</td>\n",
              "      <td>NaN</td>\n",
              "      <td>NaN</td>\n",
              "      <td>Documentary</td>\n",
              "      <td>Doug Walker</td>\n",
              "      <td>Rob Walker</td>\n",
              "      <td>Star Wars: Episode VII - The Force Awakens    ...</td>\n",
              "      <td>8</td>\n",
              "      <td>NaN</td>\n",
              "      <td>NaN</td>\n",
              "      <td>NaN</td>\n",
              "      <td>NaN</td>\n",
              "      <td>NaN</td>\n",
              "      <td>NaN</td>\n",
              "      <td>7.1</td>\n",
              "    </tr>\n",
              "  </tbody>\n",
              "</table>\n",
              "</div>"
            ],
            "text/plain": [
              "       director_name  num_critic_for_reviews  duration        gross  \\\n",
              "0      James Cameron                   723.0     178.0  760505847.0   \n",
              "1     Gore Verbinski                   302.0     169.0  309404152.0   \n",
              "2         Sam Mendes                   602.0     148.0  200074175.0   \n",
              "3  Christopher Nolan                   813.0     164.0  448130642.0   \n",
              "4        Doug Walker                     NaN       NaN          NaN   \n",
              "\n",
              "                            genres     actor_1_name      actor_2_name  \\\n",
              "0  Action|Adventure|Fantasy|Sci-Fi      CCH Pounder  Joel David Moore   \n",
              "1         Action|Adventure|Fantasy      Johnny Depp     Orlando Bloom   \n",
              "2        Action|Adventure|Thriller  Christoph Waltz      Rory Kinnear   \n",
              "3                  Action|Thriller        Tom Hardy    Christian Bale   \n",
              "4                      Documentary      Doug Walker        Rob Walker   \n",
              "\n",
              "                                         movie_title  num_voted_users  \\\n",
              "0                                            Avatar            886204   \n",
              "1          Pirates of the Caribbean: At World's End            471220   \n",
              "2                                           Spectre            275868   \n",
              "3                             The Dark Knight Rises           1144337   \n",
              "4  Star Wars: Episode VII - The Force Awakens    ...                8   \n",
              "\n",
              "   num_user_for_reviews language country content_rating       budget  \\\n",
              "0                3054.0  English     USA          PG-13  237000000.0   \n",
              "1                1238.0  English     USA          PG-13  300000000.0   \n",
              "2                 994.0  English      UK          PG-13  245000000.0   \n",
              "3                2701.0  English     USA          PG-13  250000000.0   \n",
              "4                   NaN      NaN     NaN            NaN          NaN   \n",
              "\n",
              "   title_year  imdb_score  \n",
              "0      2009.0         7.9  \n",
              "1      2007.0         7.1  \n",
              "2      2015.0         6.8  \n",
              "3      2012.0         8.5  \n",
              "4         NaN         7.1  "
            ]
          },
          "metadata": {
            "tags": []
          },
          "execution_count": 77
        },
        {
          "output_type": "execute_result",
          "data": {
            "text/plain": [
              "(5043, 16)"
            ]
          },
          "metadata": {
            "tags": []
          },
          "execution_count": 77
        }
      ]
    },
    {
      "cell_type": "code",
      "metadata": {
        "id": "tKa0oxCyam3i",
        "colab_type": "code",
        "colab": {
          "base_uri": "https://localhost:8080/",
          "height": 306
        },
        "outputId": "810ae9d9-bc11-42f9-c1f6-c11cec9b8bc8"
      },
      "source": [
        "# find out null values in all columns\n",
        "movies_subset.isnull().sum()"
      ],
      "execution_count": 78,
      "outputs": [
        {
          "output_type": "execute_result",
          "data": {
            "text/plain": [
              "director_name             104\n",
              "num_critic_for_reviews     50\n",
              "duration                   15\n",
              "gross                     884\n",
              "genres                      0\n",
              "actor_1_name                7\n",
              "actor_2_name               13\n",
              "movie_title                 0\n",
              "num_voted_users             0\n",
              "num_user_for_reviews       21\n",
              "language                   12\n",
              "country                     5\n",
              "content_rating            303\n",
              "budget                    492\n",
              "title_year                108\n",
              "imdb_score                  0\n",
              "dtype: int64"
            ]
          },
          "metadata": {
            "tags": []
          },
          "execution_count": 78
        }
      ]
    },
    {
      "cell_type": "code",
      "metadata": {
        "id": "o4NXBU8Nam3q",
        "colab_type": "code",
        "colab": {
          "base_uri": "https://localhost:8080/",
          "height": 503
        },
        "outputId": "a5664d15-ea01-41af-dc36-429da08ac4d2"
      },
      "source": [
        "# get values at different percentiles to find out any outliers\n",
        "movies.describe(percentiles =[0.01,0.1,0.25,0.5,0.75,0.9,0.95,0.99,0.995])"
      ],
      "execution_count": 79,
      "outputs": [
        {
          "output_type": "execute_result",
          "data": {
            "text/html": [
              "<div>\n",
              "<style scoped>\n",
              "    .dataframe tbody tr th:only-of-type {\n",
              "        vertical-align: middle;\n",
              "    }\n",
              "\n",
              "    .dataframe tbody tr th {\n",
              "        vertical-align: top;\n",
              "    }\n",
              "\n",
              "    .dataframe thead th {\n",
              "        text-align: right;\n",
              "    }\n",
              "</style>\n",
              "<table border=\"1\" class=\"dataframe\">\n",
              "  <thead>\n",
              "    <tr style=\"text-align: right;\">\n",
              "      <th></th>\n",
              "      <th>num_critic_for_reviews</th>\n",
              "      <th>duration</th>\n",
              "      <th>director_facebook_likes</th>\n",
              "      <th>actor_3_facebook_likes</th>\n",
              "      <th>actor_1_facebook_likes</th>\n",
              "      <th>gross</th>\n",
              "      <th>num_voted_users</th>\n",
              "      <th>cast_total_facebook_likes</th>\n",
              "      <th>facenumber_in_poster</th>\n",
              "      <th>num_user_for_reviews</th>\n",
              "      <th>budget</th>\n",
              "      <th>title_year</th>\n",
              "      <th>actor_2_facebook_likes</th>\n",
              "      <th>imdb_score</th>\n",
              "      <th>aspect_ratio</th>\n",
              "      <th>movie_facebook_likes</th>\n",
              "    </tr>\n",
              "  </thead>\n",
              "  <tbody>\n",
              "    <tr>\n",
              "      <th>count</th>\n",
              "      <td>4993.000000</td>\n",
              "      <td>5028.000000</td>\n",
              "      <td>4939.000000</td>\n",
              "      <td>5020.000000</td>\n",
              "      <td>5036.000000</td>\n",
              "      <td>4.159000e+03</td>\n",
              "      <td>5.043000e+03</td>\n",
              "      <td>5043.000000</td>\n",
              "      <td>5030.000000</td>\n",
              "      <td>5022.000000</td>\n",
              "      <td>4.551000e+03</td>\n",
              "      <td>4935.000000</td>\n",
              "      <td>5030.000000</td>\n",
              "      <td>5043.000000</td>\n",
              "      <td>4714.000000</td>\n",
              "      <td>5043.000000</td>\n",
              "    </tr>\n",
              "    <tr>\n",
              "      <th>mean</th>\n",
              "      <td>140.194272</td>\n",
              "      <td>107.201074</td>\n",
              "      <td>686.509212</td>\n",
              "      <td>645.009761</td>\n",
              "      <td>6560.047061</td>\n",
              "      <td>4.846841e+07</td>\n",
              "      <td>8.366816e+04</td>\n",
              "      <td>9699.063851</td>\n",
              "      <td>1.371173</td>\n",
              "      <td>272.770808</td>\n",
              "      <td>3.975262e+07</td>\n",
              "      <td>2002.470517</td>\n",
              "      <td>1651.754473</td>\n",
              "      <td>6.442138</td>\n",
              "      <td>2.220403</td>\n",
              "      <td>7525.964505</td>\n",
              "    </tr>\n",
              "    <tr>\n",
              "      <th>std</th>\n",
              "      <td>121.601675</td>\n",
              "      <td>25.197441</td>\n",
              "      <td>2813.328607</td>\n",
              "      <td>1665.041728</td>\n",
              "      <td>15020.759120</td>\n",
              "      <td>6.845299e+07</td>\n",
              "      <td>1.384853e+05</td>\n",
              "      <td>18163.799124</td>\n",
              "      <td>2.013576</td>\n",
              "      <td>377.982886</td>\n",
              "      <td>2.061149e+08</td>\n",
              "      <td>12.474599</td>\n",
              "      <td>4042.438863</td>\n",
              "      <td>1.125116</td>\n",
              "      <td>1.385113</td>\n",
              "      <td>19320.445110</td>\n",
              "    </tr>\n",
              "    <tr>\n",
              "      <th>min</th>\n",
              "      <td>1.000000</td>\n",
              "      <td>7.000000</td>\n",
              "      <td>0.000000</td>\n",
              "      <td>0.000000</td>\n",
              "      <td>0.000000</td>\n",
              "      <td>1.620000e+02</td>\n",
              "      <td>5.000000e+00</td>\n",
              "      <td>0.000000</td>\n",
              "      <td>0.000000</td>\n",
              "      <td>1.000000</td>\n",
              "      <td>2.180000e+02</td>\n",
              "      <td>1916.000000</td>\n",
              "      <td>0.000000</td>\n",
              "      <td>1.600000</td>\n",
              "      <td>1.180000</td>\n",
              "      <td>0.000000</td>\n",
              "    </tr>\n",
              "    <tr>\n",
              "      <th>1%</th>\n",
              "      <td>2.000000</td>\n",
              "      <td>43.000000</td>\n",
              "      <td>0.000000</td>\n",
              "      <td>0.000000</td>\n",
              "      <td>7.000000</td>\n",
              "      <td>8.497800e+03</td>\n",
              "      <td>5.426000e+01</td>\n",
              "      <td>6.420000</td>\n",
              "      <td>0.000000</td>\n",
              "      <td>1.210000</td>\n",
              "      <td>6.000000e+04</td>\n",
              "      <td>1951.340000</td>\n",
              "      <td>0.000000</td>\n",
              "      <td>3.100000</td>\n",
              "      <td>1.330000</td>\n",
              "      <td>0.000000</td>\n",
              "    </tr>\n",
              "    <tr>\n",
              "      <th>10%</th>\n",
              "      <td>17.200000</td>\n",
              "      <td>86.000000</td>\n",
              "      <td>0.000000</td>\n",
              "      <td>34.000000</td>\n",
              "      <td>248.500000</td>\n",
              "      <td>3.826018e+05</td>\n",
              "      <td>1.643400e+03</td>\n",
              "      <td>525.200000</td>\n",
              "      <td>0.000000</td>\n",
              "      <td>21.100000</td>\n",
              "      <td>1.400000e+06</td>\n",
              "      <td>1988.000000</td>\n",
              "      <td>79.000000</td>\n",
              "      <td>5.000000</td>\n",
              "      <td>1.850000</td>\n",
              "      <td>0.000000</td>\n",
              "    </tr>\n",
              "    <tr>\n",
              "      <th>25%</th>\n",
              "      <td>50.000000</td>\n",
              "      <td>93.000000</td>\n",
              "      <td>7.000000</td>\n",
              "      <td>133.000000</td>\n",
              "      <td>614.000000</td>\n",
              "      <td>5.340988e+06</td>\n",
              "      <td>8.593500e+03</td>\n",
              "      <td>1411.000000</td>\n",
              "      <td>0.000000</td>\n",
              "      <td>65.000000</td>\n",
              "      <td>6.000000e+06</td>\n",
              "      <td>1999.000000</td>\n",
              "      <td>281.000000</td>\n",
              "      <td>5.800000</td>\n",
              "      <td>1.850000</td>\n",
              "      <td>0.000000</td>\n",
              "    </tr>\n",
              "    <tr>\n",
              "      <th>50%</th>\n",
              "      <td>110.000000</td>\n",
              "      <td>103.000000</td>\n",
              "      <td>49.000000</td>\n",
              "      <td>371.500000</td>\n",
              "      <td>988.000000</td>\n",
              "      <td>2.551750e+07</td>\n",
              "      <td>3.435900e+04</td>\n",
              "      <td>3090.000000</td>\n",
              "      <td>1.000000</td>\n",
              "      <td>156.000000</td>\n",
              "      <td>2.000000e+07</td>\n",
              "      <td>2005.000000</td>\n",
              "      <td>595.000000</td>\n",
              "      <td>6.600000</td>\n",
              "      <td>2.350000</td>\n",
              "      <td>166.000000</td>\n",
              "    </tr>\n",
              "    <tr>\n",
              "      <th>75%</th>\n",
              "      <td>195.000000</td>\n",
              "      <td>118.000000</td>\n",
              "      <td>194.500000</td>\n",
              "      <td>636.000000</td>\n",
              "      <td>11000.000000</td>\n",
              "      <td>6.230944e+07</td>\n",
              "      <td>9.630900e+04</td>\n",
              "      <td>13756.500000</td>\n",
              "      <td>2.000000</td>\n",
              "      <td>326.000000</td>\n",
              "      <td>4.500000e+07</td>\n",
              "      <td>2011.000000</td>\n",
              "      <td>918.000000</td>\n",
              "      <td>7.200000</td>\n",
              "      <td>2.350000</td>\n",
              "      <td>3000.000000</td>\n",
              "    </tr>\n",
              "    <tr>\n",
              "      <th>90%</th>\n",
              "      <td>299.800000</td>\n",
              "      <td>134.000000</td>\n",
              "      <td>545.000000</td>\n",
              "      <td>897.000000</td>\n",
              "      <td>18500.000000</td>\n",
              "      <td>1.250252e+08</td>\n",
              "      <td>2.165620e+05</td>\n",
              "      <td>25914.400000</td>\n",
              "      <td>4.000000</td>\n",
              "      <td>630.000000</td>\n",
              "      <td>8.500000e+07</td>\n",
              "      <td>2014.000000</td>\n",
              "      <td>3000.000000</td>\n",
              "      <td>7.800000</td>\n",
              "      <td>2.350000</td>\n",
              "      <td>24000.000000</td>\n",
              "    </tr>\n",
              "    <tr>\n",
              "      <th>95%</th>\n",
              "      <td>387.000000</td>\n",
              "      <td>146.000000</td>\n",
              "      <td>973.000000</td>\n",
              "      <td>1000.000000</td>\n",
              "      <td>24000.000000</td>\n",
              "      <td>1.800297e+08</td>\n",
              "      <td>3.322549e+05</td>\n",
              "      <td>36927.700000</td>\n",
              "      <td>5.000000</td>\n",
              "      <td>907.800000</td>\n",
              "      <td>1.300000e+08</td>\n",
              "      <td>2015.000000</td>\n",
              "      <td>11000.000000</td>\n",
              "      <td>8.090000</td>\n",
              "      <td>2.350000</td>\n",
              "      <td>40000.000000</td>\n",
              "    </tr>\n",
              "    <tr>\n",
              "      <th>99%</th>\n",
              "      <td>548.080000</td>\n",
              "      <td>189.000000</td>\n",
              "      <td>16000.000000</td>\n",
              "      <td>11000.000000</td>\n",
              "      <td>44000.000000</td>\n",
              "      <td>3.335736e+08</td>\n",
              "      <td>6.810943e+05</td>\n",
              "      <td>63027.240000</td>\n",
              "      <td>8.000000</td>\n",
              "      <td>2010.110000</td>\n",
              "      <td>2.035000e+08</td>\n",
              "      <td>2016.000000</td>\n",
              "      <td>17000.000000</td>\n",
              "      <td>8.500000</td>\n",
              "      <td>4.000000</td>\n",
              "      <td>94580.000000</td>\n",
              "    </tr>\n",
              "    <tr>\n",
              "      <th>99.5%</th>\n",
              "      <td>635.280000</td>\n",
              "      <td>215.000000</td>\n",
              "      <td>17000.000000</td>\n",
              "      <td>12000.000000</td>\n",
              "      <td>49000.000000</td>\n",
              "      <td>4.010180e+08</td>\n",
              "      <td>8.609376e+05</td>\n",
              "      <td>80839.970000</td>\n",
              "      <td>10.000000</td>\n",
              "      <td>2411.855000</td>\n",
              "      <td>2.500000e+08</td>\n",
              "      <td>2016.000000</td>\n",
              "      <td>21000.000000</td>\n",
              "      <td>8.700000</td>\n",
              "      <td>16.000000</td>\n",
              "      <td>122790.000000</td>\n",
              "    </tr>\n",
              "    <tr>\n",
              "      <th>max</th>\n",
              "      <td>813.000000</td>\n",
              "      <td>511.000000</td>\n",
              "      <td>23000.000000</td>\n",
              "      <td>23000.000000</td>\n",
              "      <td>640000.000000</td>\n",
              "      <td>7.605058e+08</td>\n",
              "      <td>1.689764e+06</td>\n",
              "      <td>656730.000000</td>\n",
              "      <td>43.000000</td>\n",
              "      <td>5060.000000</td>\n",
              "      <td>1.221550e+10</td>\n",
              "      <td>2016.000000</td>\n",
              "      <td>137000.000000</td>\n",
              "      <td>9.500000</td>\n",
              "      <td>16.000000</td>\n",
              "      <td>349000.000000</td>\n",
              "    </tr>\n",
              "  </tbody>\n",
              "</table>\n",
              "</div>"
            ],
            "text/plain": [
              "       num_critic_for_reviews     duration  director_facebook_likes  \\\n",
              "count             4993.000000  5028.000000              4939.000000   \n",
              "mean               140.194272   107.201074               686.509212   \n",
              "std                121.601675    25.197441              2813.328607   \n",
              "min                  1.000000     7.000000                 0.000000   \n",
              "1%                   2.000000    43.000000                 0.000000   \n",
              "10%                 17.200000    86.000000                 0.000000   \n",
              "25%                 50.000000    93.000000                 7.000000   \n",
              "50%                110.000000   103.000000                49.000000   \n",
              "75%                195.000000   118.000000               194.500000   \n",
              "90%                299.800000   134.000000               545.000000   \n",
              "95%                387.000000   146.000000               973.000000   \n",
              "99%                548.080000   189.000000             16000.000000   \n",
              "99.5%              635.280000   215.000000             17000.000000   \n",
              "max                813.000000   511.000000             23000.000000   \n",
              "\n",
              "       actor_3_facebook_likes  actor_1_facebook_likes         gross  \\\n",
              "count             5020.000000             5036.000000  4.159000e+03   \n",
              "mean               645.009761             6560.047061  4.846841e+07   \n",
              "std               1665.041728            15020.759120  6.845299e+07   \n",
              "min                  0.000000                0.000000  1.620000e+02   \n",
              "1%                   0.000000                7.000000  8.497800e+03   \n",
              "10%                 34.000000              248.500000  3.826018e+05   \n",
              "25%                133.000000              614.000000  5.340988e+06   \n",
              "50%                371.500000              988.000000  2.551750e+07   \n",
              "75%                636.000000            11000.000000  6.230944e+07   \n",
              "90%                897.000000            18500.000000  1.250252e+08   \n",
              "95%               1000.000000            24000.000000  1.800297e+08   \n",
              "99%              11000.000000            44000.000000  3.335736e+08   \n",
              "99.5%            12000.000000            49000.000000  4.010180e+08   \n",
              "max              23000.000000           640000.000000  7.605058e+08   \n",
              "\n",
              "       num_voted_users  cast_total_facebook_likes  facenumber_in_poster  \\\n",
              "count     5.043000e+03                5043.000000           5030.000000   \n",
              "mean      8.366816e+04                9699.063851              1.371173   \n",
              "std       1.384853e+05               18163.799124              2.013576   \n",
              "min       5.000000e+00                   0.000000              0.000000   \n",
              "1%        5.426000e+01                   6.420000              0.000000   \n",
              "10%       1.643400e+03                 525.200000              0.000000   \n",
              "25%       8.593500e+03                1411.000000              0.000000   \n",
              "50%       3.435900e+04                3090.000000              1.000000   \n",
              "75%       9.630900e+04               13756.500000              2.000000   \n",
              "90%       2.165620e+05               25914.400000              4.000000   \n",
              "95%       3.322549e+05               36927.700000              5.000000   \n",
              "99%       6.810943e+05               63027.240000              8.000000   \n",
              "99.5%     8.609376e+05               80839.970000             10.000000   \n",
              "max       1.689764e+06              656730.000000             43.000000   \n",
              "\n",
              "       num_user_for_reviews        budget   title_year  \\\n",
              "count           5022.000000  4.551000e+03  4935.000000   \n",
              "mean             272.770808  3.975262e+07  2002.470517   \n",
              "std              377.982886  2.061149e+08    12.474599   \n",
              "min                1.000000  2.180000e+02  1916.000000   \n",
              "1%                 1.210000  6.000000e+04  1951.340000   \n",
              "10%               21.100000  1.400000e+06  1988.000000   \n",
              "25%               65.000000  6.000000e+06  1999.000000   \n",
              "50%              156.000000  2.000000e+07  2005.000000   \n",
              "75%              326.000000  4.500000e+07  2011.000000   \n",
              "90%              630.000000  8.500000e+07  2014.000000   \n",
              "95%              907.800000  1.300000e+08  2015.000000   \n",
              "99%             2010.110000  2.035000e+08  2016.000000   \n",
              "99.5%           2411.855000  2.500000e+08  2016.000000   \n",
              "max             5060.000000  1.221550e+10  2016.000000   \n",
              "\n",
              "       actor_2_facebook_likes   imdb_score  aspect_ratio  movie_facebook_likes  \n",
              "count             5030.000000  5043.000000   4714.000000           5043.000000  \n",
              "mean              1651.754473     6.442138      2.220403           7525.964505  \n",
              "std               4042.438863     1.125116      1.385113          19320.445110  \n",
              "min                  0.000000     1.600000      1.180000              0.000000  \n",
              "1%                   0.000000     3.100000      1.330000              0.000000  \n",
              "10%                 79.000000     5.000000      1.850000              0.000000  \n",
              "25%                281.000000     5.800000      1.850000              0.000000  \n",
              "50%                595.000000     6.600000      2.350000            166.000000  \n",
              "75%                918.000000     7.200000      2.350000           3000.000000  \n",
              "90%               3000.000000     7.800000      2.350000          24000.000000  \n",
              "95%              11000.000000     8.090000      2.350000          40000.000000  \n",
              "99%              17000.000000     8.500000      4.000000          94580.000000  \n",
              "99.5%            21000.000000     8.700000     16.000000         122790.000000  \n",
              "max             137000.000000     9.500000     16.000000         349000.000000  "
            ]
          },
          "metadata": {
            "tags": []
          },
          "execution_count": 79
        }
      ]
    },
    {
      "cell_type": "code",
      "metadata": {
        "id": "gcx0U74Jam3x",
        "colab_type": "code",
        "colab": {
          "base_uri": "https://localhost:8080/",
          "height": 309
        },
        "outputId": "b78e651d-3e95-48bb-e4af-84de606abeb2"
      },
      "source": [
        "# check if the outlier is valid\n",
        "movies.sort_values(by=['gross'],ascending=False).head()"
      ],
      "execution_count": 80,
      "outputs": [
        {
          "output_type": "execute_result",
          "data": {
            "text/html": [
              "<div>\n",
              "<style scoped>\n",
              "    .dataframe tbody tr th:only-of-type {\n",
              "        vertical-align: middle;\n",
              "    }\n",
              "\n",
              "    .dataframe tbody tr th {\n",
              "        vertical-align: top;\n",
              "    }\n",
              "\n",
              "    .dataframe thead th {\n",
              "        text-align: right;\n",
              "    }\n",
              "</style>\n",
              "<table border=\"1\" class=\"dataframe\">\n",
              "  <thead>\n",
              "    <tr style=\"text-align: right;\">\n",
              "      <th></th>\n",
              "      <th>color</th>\n",
              "      <th>director_name</th>\n",
              "      <th>num_critic_for_reviews</th>\n",
              "      <th>duration</th>\n",
              "      <th>director_facebook_likes</th>\n",
              "      <th>actor_3_facebook_likes</th>\n",
              "      <th>actor_2_name</th>\n",
              "      <th>actor_1_facebook_likes</th>\n",
              "      <th>gross</th>\n",
              "      <th>genres</th>\n",
              "      <th>actor_1_name</th>\n",
              "      <th>movie_title</th>\n",
              "      <th>num_voted_users</th>\n",
              "      <th>cast_total_facebook_likes</th>\n",
              "      <th>actor_3_name</th>\n",
              "      <th>facenumber_in_poster</th>\n",
              "      <th>plot_keywords</th>\n",
              "      <th>movie_imdb_link</th>\n",
              "      <th>num_user_for_reviews</th>\n",
              "      <th>language</th>\n",
              "      <th>country</th>\n",
              "      <th>content_rating</th>\n",
              "      <th>budget</th>\n",
              "      <th>title_year</th>\n",
              "      <th>actor_2_facebook_likes</th>\n",
              "      <th>imdb_score</th>\n",
              "      <th>aspect_ratio</th>\n",
              "      <th>movie_facebook_likes</th>\n",
              "    </tr>\n",
              "  </thead>\n",
              "  <tbody>\n",
              "    <tr>\n",
              "      <th>0</th>\n",
              "      <td>Color</td>\n",
              "      <td>James Cameron</td>\n",
              "      <td>723.0</td>\n",
              "      <td>178.0</td>\n",
              "      <td>0.0</td>\n",
              "      <td>855.0</td>\n",
              "      <td>Joel David Moore</td>\n",
              "      <td>1000.0</td>\n",
              "      <td>760505847.0</td>\n",
              "      <td>Action|Adventure|Fantasy|Sci-Fi</td>\n",
              "      <td>CCH Pounder</td>\n",
              "      <td>Avatar</td>\n",
              "      <td>886204</td>\n",
              "      <td>4834</td>\n",
              "      <td>Wes Studi</td>\n",
              "      <td>0.0</td>\n",
              "      <td>avatar|future|marine|native|paraplegic</td>\n",
              "      <td>http://www.imdb.com/title/tt0499549/?ref_=fn_t...</td>\n",
              "      <td>3054.0</td>\n",
              "      <td>English</td>\n",
              "      <td>USA</td>\n",
              "      <td>PG-13</td>\n",
              "      <td>237000000.0</td>\n",
              "      <td>2009.0</td>\n",
              "      <td>936.0</td>\n",
              "      <td>7.9</td>\n",
              "      <td>1.78</td>\n",
              "      <td>33000</td>\n",
              "    </tr>\n",
              "    <tr>\n",
              "      <th>26</th>\n",
              "      <td>Color</td>\n",
              "      <td>James Cameron</td>\n",
              "      <td>315.0</td>\n",
              "      <td>194.0</td>\n",
              "      <td>0.0</td>\n",
              "      <td>794.0</td>\n",
              "      <td>Kate Winslet</td>\n",
              "      <td>29000.0</td>\n",
              "      <td>658672302.0</td>\n",
              "      <td>Drama|Romance</td>\n",
              "      <td>Leonardo DiCaprio</td>\n",
              "      <td>Titanic</td>\n",
              "      <td>793059</td>\n",
              "      <td>45223</td>\n",
              "      <td>Gloria Stuart</td>\n",
              "      <td>0.0</td>\n",
              "      <td>artist|love|ship|titanic|wet</td>\n",
              "      <td>http://www.imdb.com/title/tt0120338/?ref_=fn_t...</td>\n",
              "      <td>2528.0</td>\n",
              "      <td>English</td>\n",
              "      <td>USA</td>\n",
              "      <td>PG-13</td>\n",
              "      <td>200000000.0</td>\n",
              "      <td>1997.0</td>\n",
              "      <td>14000.0</td>\n",
              "      <td>7.7</td>\n",
              "      <td>2.35</td>\n",
              "      <td>26000</td>\n",
              "    </tr>\n",
              "    <tr>\n",
              "      <th>29</th>\n",
              "      <td>Color</td>\n",
              "      <td>Colin Trevorrow</td>\n",
              "      <td>644.0</td>\n",
              "      <td>124.0</td>\n",
              "      <td>365.0</td>\n",
              "      <td>1000.0</td>\n",
              "      <td>Judy Greer</td>\n",
              "      <td>3000.0</td>\n",
              "      <td>652177271.0</td>\n",
              "      <td>Action|Adventure|Sci-Fi|Thriller</td>\n",
              "      <td>Bryce Dallas Howard</td>\n",
              "      <td>Jurassic World</td>\n",
              "      <td>418214</td>\n",
              "      <td>8458</td>\n",
              "      <td>Omar Sy</td>\n",
              "      <td>0.0</td>\n",
              "      <td>dinosaur|disaster film|experiment gone wrong|j...</td>\n",
              "      <td>http://www.imdb.com/title/tt0369610/?ref_=fn_t...</td>\n",
              "      <td>1290.0</td>\n",
              "      <td>English</td>\n",
              "      <td>USA</td>\n",
              "      <td>PG-13</td>\n",
              "      <td>150000000.0</td>\n",
              "      <td>2015.0</td>\n",
              "      <td>2000.0</td>\n",
              "      <td>7.0</td>\n",
              "      <td>2.00</td>\n",
              "      <td>150000</td>\n",
              "    </tr>\n",
              "    <tr>\n",
              "      <th>794</th>\n",
              "      <td>Color</td>\n",
              "      <td>Joss Whedon</td>\n",
              "      <td>703.0</td>\n",
              "      <td>173.0</td>\n",
              "      <td>0.0</td>\n",
              "      <td>19000.0</td>\n",
              "      <td>Robert Downey Jr.</td>\n",
              "      <td>26000.0</td>\n",
              "      <td>623279547.0</td>\n",
              "      <td>Action|Adventure|Sci-Fi</td>\n",
              "      <td>Chris Hemsworth</td>\n",
              "      <td>The Avengers</td>\n",
              "      <td>995415</td>\n",
              "      <td>87697</td>\n",
              "      <td>Scarlett Johansson</td>\n",
              "      <td>3.0</td>\n",
              "      <td>alien invasion|assassin|battle|iron man|soldier</td>\n",
              "      <td>http://www.imdb.com/title/tt0848228/?ref_=fn_t...</td>\n",
              "      <td>1722.0</td>\n",
              "      <td>English</td>\n",
              "      <td>USA</td>\n",
              "      <td>PG-13</td>\n",
              "      <td>220000000.0</td>\n",
              "      <td>2012.0</td>\n",
              "      <td>21000.0</td>\n",
              "      <td>8.1</td>\n",
              "      <td>1.85</td>\n",
              "      <td>123000</td>\n",
              "    </tr>\n",
              "    <tr>\n",
              "      <th>17</th>\n",
              "      <td>Color</td>\n",
              "      <td>Joss Whedon</td>\n",
              "      <td>703.0</td>\n",
              "      <td>173.0</td>\n",
              "      <td>0.0</td>\n",
              "      <td>19000.0</td>\n",
              "      <td>Robert Downey Jr.</td>\n",
              "      <td>26000.0</td>\n",
              "      <td>623279547.0</td>\n",
              "      <td>Action|Adventure|Sci-Fi</td>\n",
              "      <td>Chris Hemsworth</td>\n",
              "      <td>The Avengers</td>\n",
              "      <td>995415</td>\n",
              "      <td>87697</td>\n",
              "      <td>Scarlett Johansson</td>\n",
              "      <td>3.0</td>\n",
              "      <td>alien invasion|assassin|battle|iron man|soldier</td>\n",
              "      <td>http://www.imdb.com/title/tt0848228/?ref_=fn_t...</td>\n",
              "      <td>1722.0</td>\n",
              "      <td>English</td>\n",
              "      <td>USA</td>\n",
              "      <td>PG-13</td>\n",
              "      <td>220000000.0</td>\n",
              "      <td>2012.0</td>\n",
              "      <td>21000.0</td>\n",
              "      <td>8.1</td>\n",
              "      <td>1.85</td>\n",
              "      <td>123000</td>\n",
              "    </tr>\n",
              "  </tbody>\n",
              "</table>\n",
              "</div>"
            ],
            "text/plain": [
              "     color    director_name  num_critic_for_reviews  duration  \\\n",
              "0    Color    James Cameron                   723.0     178.0   \n",
              "26   Color    James Cameron                   315.0     194.0   \n",
              "29   Color  Colin Trevorrow                   644.0     124.0   \n",
              "794  Color      Joss Whedon                   703.0     173.0   \n",
              "17   Color      Joss Whedon                   703.0     173.0   \n",
              "\n",
              "     director_facebook_likes  actor_3_facebook_likes       actor_2_name  \\\n",
              "0                        0.0                   855.0   Joel David Moore   \n",
              "26                       0.0                   794.0       Kate Winslet   \n",
              "29                     365.0                  1000.0         Judy Greer   \n",
              "794                      0.0                 19000.0  Robert Downey Jr.   \n",
              "17                       0.0                 19000.0  Robert Downey Jr.   \n",
              "\n",
              "     actor_1_facebook_likes        gross                            genres  \\\n",
              "0                    1000.0  760505847.0   Action|Adventure|Fantasy|Sci-Fi   \n",
              "26                  29000.0  658672302.0                     Drama|Romance   \n",
              "29                   3000.0  652177271.0  Action|Adventure|Sci-Fi|Thriller   \n",
              "794                 26000.0  623279547.0           Action|Adventure|Sci-Fi   \n",
              "17                  26000.0  623279547.0           Action|Adventure|Sci-Fi   \n",
              "\n",
              "            actor_1_name      movie_title  num_voted_users  \\\n",
              "0            CCH Pounder          Avatar            886204   \n",
              "26     Leonardo DiCaprio         Titanic            793059   \n",
              "29   Bryce Dallas Howard  Jurassic World            418214   \n",
              "794      Chris Hemsworth    The Avengers            995415   \n",
              "17       Chris Hemsworth    The Avengers            995415   \n",
              "\n",
              "     cast_total_facebook_likes        actor_3_name  facenumber_in_poster  \\\n",
              "0                         4834           Wes Studi                   0.0   \n",
              "26                       45223       Gloria Stuart                   0.0   \n",
              "29                        8458             Omar Sy                   0.0   \n",
              "794                      87697  Scarlett Johansson                   3.0   \n",
              "17                       87697  Scarlett Johansson                   3.0   \n",
              "\n",
              "                                         plot_keywords  \\\n",
              "0               avatar|future|marine|native|paraplegic   \n",
              "26                        artist|love|ship|titanic|wet   \n",
              "29   dinosaur|disaster film|experiment gone wrong|j...   \n",
              "794    alien invasion|assassin|battle|iron man|soldier   \n",
              "17     alien invasion|assassin|battle|iron man|soldier   \n",
              "\n",
              "                                       movie_imdb_link  num_user_for_reviews  \\\n",
              "0    http://www.imdb.com/title/tt0499549/?ref_=fn_t...                3054.0   \n",
              "26   http://www.imdb.com/title/tt0120338/?ref_=fn_t...                2528.0   \n",
              "29   http://www.imdb.com/title/tt0369610/?ref_=fn_t...                1290.0   \n",
              "794  http://www.imdb.com/title/tt0848228/?ref_=fn_t...                1722.0   \n",
              "17   http://www.imdb.com/title/tt0848228/?ref_=fn_t...                1722.0   \n",
              "\n",
              "    language country content_rating       budget  title_year  \\\n",
              "0    English     USA          PG-13  237000000.0      2009.0   \n",
              "26   English     USA          PG-13  200000000.0      1997.0   \n",
              "29   English     USA          PG-13  150000000.0      2015.0   \n",
              "794  English     USA          PG-13  220000000.0      2012.0   \n",
              "17   English     USA          PG-13  220000000.0      2012.0   \n",
              "\n",
              "     actor_2_facebook_likes  imdb_score  aspect_ratio  movie_facebook_likes  \n",
              "0                     936.0         7.9          1.78                 33000  \n",
              "26                  14000.0         7.7          2.35                 26000  \n",
              "29                   2000.0         7.0          2.00                150000  \n",
              "794                 21000.0         8.1          1.85                123000  \n",
              "17                  21000.0         8.1          1.85                123000  "
            ]
          },
          "metadata": {
            "tags": []
          },
          "execution_count": 80
        }
      ]
    },
    {
      "cell_type": "code",
      "metadata": {
        "id": "mFDU5Yt3am32",
        "colab_type": "code",
        "colab": {
          "base_uri": "https://localhost:8080/",
          "height": 34
        },
        "outputId": "627fdf65-2965-414e-dbe0-84fe8108adb1"
      },
      "source": [
        "# Drop duplicates from the data\n",
        "movies=movies.drop_duplicates()\n",
        "movies.shape"
      ],
      "execution_count": 81,
      "outputs": [
        {
          "output_type": "execute_result",
          "data": {
            "text/plain": [
              "(4998, 28)"
            ]
          },
          "metadata": {
            "tags": []
          },
          "execution_count": 81
        }
      ]
    },
    {
      "cell_type": "code",
      "metadata": {
        "id": "0cZdf86Mam37",
        "colab_type": "code",
        "colab": {
          "base_uri": "https://localhost:8080/",
          "height": 423
        },
        "outputId": "c840af1f-4e42-46a9-949f-b56e52ac9b65"
      },
      "source": [
        "# Check top movies by gross sales and imdb rating\n",
        "movies.sort_values(by=['gross'],ascending=False).head(3)\n",
        "movies.sort_values(by=['imdb_score'],ascending=False).head(3)"
      ],
      "execution_count": 82,
      "outputs": [
        {
          "output_type": "execute_result",
          "data": {
            "text/html": [
              "<div>\n",
              "<style scoped>\n",
              "    .dataframe tbody tr th:only-of-type {\n",
              "        vertical-align: middle;\n",
              "    }\n",
              "\n",
              "    .dataframe tbody tr th {\n",
              "        vertical-align: top;\n",
              "    }\n",
              "\n",
              "    .dataframe thead th {\n",
              "        text-align: right;\n",
              "    }\n",
              "</style>\n",
              "<table border=\"1\" class=\"dataframe\">\n",
              "  <thead>\n",
              "    <tr style=\"text-align: right;\">\n",
              "      <th></th>\n",
              "      <th>color</th>\n",
              "      <th>director_name</th>\n",
              "      <th>num_critic_for_reviews</th>\n",
              "      <th>duration</th>\n",
              "      <th>director_facebook_likes</th>\n",
              "      <th>actor_3_facebook_likes</th>\n",
              "      <th>actor_2_name</th>\n",
              "      <th>actor_1_facebook_likes</th>\n",
              "      <th>gross</th>\n",
              "      <th>genres</th>\n",
              "      <th>actor_1_name</th>\n",
              "      <th>movie_title</th>\n",
              "      <th>num_voted_users</th>\n",
              "      <th>cast_total_facebook_likes</th>\n",
              "      <th>actor_3_name</th>\n",
              "      <th>facenumber_in_poster</th>\n",
              "      <th>plot_keywords</th>\n",
              "      <th>movie_imdb_link</th>\n",
              "      <th>num_user_for_reviews</th>\n",
              "      <th>language</th>\n",
              "      <th>country</th>\n",
              "      <th>content_rating</th>\n",
              "      <th>budget</th>\n",
              "      <th>title_year</th>\n",
              "      <th>actor_2_facebook_likes</th>\n",
              "      <th>imdb_score</th>\n",
              "      <th>aspect_ratio</th>\n",
              "      <th>movie_facebook_likes</th>\n",
              "    </tr>\n",
              "  </thead>\n",
              "  <tbody>\n",
              "    <tr>\n",
              "      <th>0</th>\n",
              "      <td>Color</td>\n",
              "      <td>James Cameron</td>\n",
              "      <td>723.0</td>\n",
              "      <td>178.0</td>\n",
              "      <td>0.0</td>\n",
              "      <td>855.0</td>\n",
              "      <td>Joel David Moore</td>\n",
              "      <td>1000.0</td>\n",
              "      <td>760505847.0</td>\n",
              "      <td>Action|Adventure|Fantasy|Sci-Fi</td>\n",
              "      <td>CCH Pounder</td>\n",
              "      <td>Avatar</td>\n",
              "      <td>886204</td>\n",
              "      <td>4834</td>\n",
              "      <td>Wes Studi</td>\n",
              "      <td>0.0</td>\n",
              "      <td>avatar|future|marine|native|paraplegic</td>\n",
              "      <td>http://www.imdb.com/title/tt0499549/?ref_=fn_t...</td>\n",
              "      <td>3054.0</td>\n",
              "      <td>English</td>\n",
              "      <td>USA</td>\n",
              "      <td>PG-13</td>\n",
              "      <td>237000000.0</td>\n",
              "      <td>2009.0</td>\n",
              "      <td>936.0</td>\n",
              "      <td>7.9</td>\n",
              "      <td>1.78</td>\n",
              "      <td>33000</td>\n",
              "    </tr>\n",
              "    <tr>\n",
              "      <th>26</th>\n",
              "      <td>Color</td>\n",
              "      <td>James Cameron</td>\n",
              "      <td>315.0</td>\n",
              "      <td>194.0</td>\n",
              "      <td>0.0</td>\n",
              "      <td>794.0</td>\n",
              "      <td>Kate Winslet</td>\n",
              "      <td>29000.0</td>\n",
              "      <td>658672302.0</td>\n",
              "      <td>Drama|Romance</td>\n",
              "      <td>Leonardo DiCaprio</td>\n",
              "      <td>Titanic</td>\n",
              "      <td>793059</td>\n",
              "      <td>45223</td>\n",
              "      <td>Gloria Stuart</td>\n",
              "      <td>0.0</td>\n",
              "      <td>artist|love|ship|titanic|wet</td>\n",
              "      <td>http://www.imdb.com/title/tt0120338/?ref_=fn_t...</td>\n",
              "      <td>2528.0</td>\n",
              "      <td>English</td>\n",
              "      <td>USA</td>\n",
              "      <td>PG-13</td>\n",
              "      <td>200000000.0</td>\n",
              "      <td>1997.0</td>\n",
              "      <td>14000.0</td>\n",
              "      <td>7.7</td>\n",
              "      <td>2.35</td>\n",
              "      <td>26000</td>\n",
              "    </tr>\n",
              "    <tr>\n",
              "      <th>29</th>\n",
              "      <td>Color</td>\n",
              "      <td>Colin Trevorrow</td>\n",
              "      <td>644.0</td>\n",
              "      <td>124.0</td>\n",
              "      <td>365.0</td>\n",
              "      <td>1000.0</td>\n",
              "      <td>Judy Greer</td>\n",
              "      <td>3000.0</td>\n",
              "      <td>652177271.0</td>\n",
              "      <td>Action|Adventure|Sci-Fi|Thriller</td>\n",
              "      <td>Bryce Dallas Howard</td>\n",
              "      <td>Jurassic World</td>\n",
              "      <td>418214</td>\n",
              "      <td>8458</td>\n",
              "      <td>Omar Sy</td>\n",
              "      <td>0.0</td>\n",
              "      <td>dinosaur|disaster film|experiment gone wrong|j...</td>\n",
              "      <td>http://www.imdb.com/title/tt0369610/?ref_=fn_t...</td>\n",
              "      <td>1290.0</td>\n",
              "      <td>English</td>\n",
              "      <td>USA</td>\n",
              "      <td>PG-13</td>\n",
              "      <td>150000000.0</td>\n",
              "      <td>2015.0</td>\n",
              "      <td>2000.0</td>\n",
              "      <td>7.0</td>\n",
              "      <td>2.00</td>\n",
              "      <td>150000</td>\n",
              "    </tr>\n",
              "  </tbody>\n",
              "</table>\n",
              "</div>"
            ],
            "text/plain": [
              "    color    director_name  num_critic_for_reviews  duration  \\\n",
              "0   Color    James Cameron                   723.0     178.0   \n",
              "26  Color    James Cameron                   315.0     194.0   \n",
              "29  Color  Colin Trevorrow                   644.0     124.0   \n",
              "\n",
              "    director_facebook_likes  actor_3_facebook_likes      actor_2_name  \\\n",
              "0                       0.0                   855.0  Joel David Moore   \n",
              "26                      0.0                   794.0      Kate Winslet   \n",
              "29                    365.0                  1000.0        Judy Greer   \n",
              "\n",
              "    actor_1_facebook_likes        gross                            genres  \\\n",
              "0                   1000.0  760505847.0   Action|Adventure|Fantasy|Sci-Fi   \n",
              "26                 29000.0  658672302.0                     Drama|Romance   \n",
              "29                  3000.0  652177271.0  Action|Adventure|Sci-Fi|Thriller   \n",
              "\n",
              "           actor_1_name      movie_title  num_voted_users  \\\n",
              "0           CCH Pounder          Avatar            886204   \n",
              "26    Leonardo DiCaprio         Titanic            793059   \n",
              "29  Bryce Dallas Howard  Jurassic World            418214   \n",
              "\n",
              "    cast_total_facebook_likes   actor_3_name  facenumber_in_poster  \\\n",
              "0                        4834      Wes Studi                   0.0   \n",
              "26                      45223  Gloria Stuart                   0.0   \n",
              "29                       8458        Omar Sy                   0.0   \n",
              "\n",
              "                                        plot_keywords  \\\n",
              "0              avatar|future|marine|native|paraplegic   \n",
              "26                       artist|love|ship|titanic|wet   \n",
              "29  dinosaur|disaster film|experiment gone wrong|j...   \n",
              "\n",
              "                                      movie_imdb_link  num_user_for_reviews  \\\n",
              "0   http://www.imdb.com/title/tt0499549/?ref_=fn_t...                3054.0   \n",
              "26  http://www.imdb.com/title/tt0120338/?ref_=fn_t...                2528.0   \n",
              "29  http://www.imdb.com/title/tt0369610/?ref_=fn_t...                1290.0   \n",
              "\n",
              "   language country content_rating       budget  title_year  \\\n",
              "0   English     USA          PG-13  237000000.0      2009.0   \n",
              "26  English     USA          PG-13  200000000.0      1997.0   \n",
              "29  English     USA          PG-13  150000000.0      2015.0   \n",
              "\n",
              "    actor_2_facebook_likes  imdb_score  aspect_ratio  movie_facebook_likes  \n",
              "0                    936.0         7.9          1.78                 33000  \n",
              "26                 14000.0         7.7          2.35                 26000  \n",
              "29                  2000.0         7.0          2.00                150000  "
            ]
          },
          "metadata": {
            "tags": []
          },
          "execution_count": 82
        },
        {
          "output_type": "execute_result",
          "data": {
            "text/html": [
              "<div>\n",
              "<style scoped>\n",
              "    .dataframe tbody tr th:only-of-type {\n",
              "        vertical-align: middle;\n",
              "    }\n",
              "\n",
              "    .dataframe tbody tr th {\n",
              "        vertical-align: top;\n",
              "    }\n",
              "\n",
              "    .dataframe thead th {\n",
              "        text-align: right;\n",
              "    }\n",
              "</style>\n",
              "<table border=\"1\" class=\"dataframe\">\n",
              "  <thead>\n",
              "    <tr style=\"text-align: right;\">\n",
              "      <th></th>\n",
              "      <th>color</th>\n",
              "      <th>director_name</th>\n",
              "      <th>num_critic_for_reviews</th>\n",
              "      <th>duration</th>\n",
              "      <th>director_facebook_likes</th>\n",
              "      <th>actor_3_facebook_likes</th>\n",
              "      <th>actor_2_name</th>\n",
              "      <th>actor_1_facebook_likes</th>\n",
              "      <th>gross</th>\n",
              "      <th>genres</th>\n",
              "      <th>actor_1_name</th>\n",
              "      <th>movie_title</th>\n",
              "      <th>num_voted_users</th>\n",
              "      <th>cast_total_facebook_likes</th>\n",
              "      <th>actor_3_name</th>\n",
              "      <th>facenumber_in_poster</th>\n",
              "      <th>plot_keywords</th>\n",
              "      <th>movie_imdb_link</th>\n",
              "      <th>num_user_for_reviews</th>\n",
              "      <th>language</th>\n",
              "      <th>country</th>\n",
              "      <th>content_rating</th>\n",
              "      <th>budget</th>\n",
              "      <th>title_year</th>\n",
              "      <th>actor_2_facebook_likes</th>\n",
              "      <th>imdb_score</th>\n",
              "      <th>aspect_ratio</th>\n",
              "      <th>movie_facebook_likes</th>\n",
              "    </tr>\n",
              "  </thead>\n",
              "  <tbody>\n",
              "    <tr>\n",
              "      <th>2765</th>\n",
              "      <td>Color</td>\n",
              "      <td>John Blanchard</td>\n",
              "      <td>NaN</td>\n",
              "      <td>65.0</td>\n",
              "      <td>0.0</td>\n",
              "      <td>176.0</td>\n",
              "      <td>Andrea Martin</td>\n",
              "      <td>770.0</td>\n",
              "      <td>NaN</td>\n",
              "      <td>Comedy</td>\n",
              "      <td>Martin Short</td>\n",
              "      <td>Towering Inferno</td>\n",
              "      <td>10</td>\n",
              "      <td>1125</td>\n",
              "      <td>Joe Flaherty</td>\n",
              "      <td>2.0</td>\n",
              "      <td>NaN</td>\n",
              "      <td>http://www.imdb.com/title/tt0691996/?ref_=fn_t...</td>\n",
              "      <td>NaN</td>\n",
              "      <td>English</td>\n",
              "      <td>Canada</td>\n",
              "      <td>NaN</td>\n",
              "      <td>NaN</td>\n",
              "      <td>NaN</td>\n",
              "      <td>179.0</td>\n",
              "      <td>9.5</td>\n",
              "      <td>1.33</td>\n",
              "      <td>0</td>\n",
              "    </tr>\n",
              "    <tr>\n",
              "      <th>1937</th>\n",
              "      <td>Color</td>\n",
              "      <td>Frank Darabont</td>\n",
              "      <td>199.0</td>\n",
              "      <td>142.0</td>\n",
              "      <td>0.0</td>\n",
              "      <td>461.0</td>\n",
              "      <td>Jeffrey DeMunn</td>\n",
              "      <td>11000.0</td>\n",
              "      <td>28341469.0</td>\n",
              "      <td>Crime|Drama</td>\n",
              "      <td>Morgan Freeman</td>\n",
              "      <td>The Shawshank Redemption</td>\n",
              "      <td>1689764</td>\n",
              "      <td>13495</td>\n",
              "      <td>Bob Gunton</td>\n",
              "      <td>0.0</td>\n",
              "      <td>escape from prison|first person narration|pris...</td>\n",
              "      <td>http://www.imdb.com/title/tt0111161/?ref_=fn_t...</td>\n",
              "      <td>4144.0</td>\n",
              "      <td>English</td>\n",
              "      <td>USA</td>\n",
              "      <td>R</td>\n",
              "      <td>25000000.0</td>\n",
              "      <td>1994.0</td>\n",
              "      <td>745.0</td>\n",
              "      <td>9.3</td>\n",
              "      <td>1.85</td>\n",
              "      <td>108000</td>\n",
              "    </tr>\n",
              "    <tr>\n",
              "      <th>3466</th>\n",
              "      <td>Color</td>\n",
              "      <td>Francis Ford Coppola</td>\n",
              "      <td>208.0</td>\n",
              "      <td>175.0</td>\n",
              "      <td>0.0</td>\n",
              "      <td>3000.0</td>\n",
              "      <td>Marlon Brando</td>\n",
              "      <td>14000.0</td>\n",
              "      <td>134821952.0</td>\n",
              "      <td>Crime|Drama</td>\n",
              "      <td>Al Pacino</td>\n",
              "      <td>The Godfather</td>\n",
              "      <td>1155770</td>\n",
              "      <td>28122</td>\n",
              "      <td>Robert Duvall</td>\n",
              "      <td>1.0</td>\n",
              "      <td>crime family|mafia|organized crime|patriarch|r...</td>\n",
              "      <td>http://www.imdb.com/title/tt0068646/?ref_=fn_t...</td>\n",
              "      <td>2238.0</td>\n",
              "      <td>English</td>\n",
              "      <td>USA</td>\n",
              "      <td>R</td>\n",
              "      <td>6000000.0</td>\n",
              "      <td>1972.0</td>\n",
              "      <td>10000.0</td>\n",
              "      <td>9.2</td>\n",
              "      <td>1.85</td>\n",
              "      <td>43000</td>\n",
              "    </tr>\n",
              "  </tbody>\n",
              "</table>\n",
              "</div>"
            ],
            "text/plain": [
              "      color         director_name  num_critic_for_reviews  duration  \\\n",
              "2765  Color        John Blanchard                     NaN      65.0   \n",
              "1937  Color        Frank Darabont                   199.0     142.0   \n",
              "3466  Color  Francis Ford Coppola                   208.0     175.0   \n",
              "\n",
              "      director_facebook_likes  actor_3_facebook_likes    actor_2_name  \\\n",
              "2765                      0.0                   176.0   Andrea Martin   \n",
              "1937                      0.0                   461.0  Jeffrey DeMunn   \n",
              "3466                      0.0                  3000.0   Marlon Brando   \n",
              "\n",
              "      actor_1_facebook_likes        gross       genres    actor_1_name  \\\n",
              "2765                   770.0          NaN       Comedy    Martin Short   \n",
              "1937                 11000.0   28341469.0  Crime|Drama  Morgan Freeman   \n",
              "3466                 14000.0  134821952.0  Crime|Drama       Al Pacino   \n",
              "\n",
              "                        movie_title  num_voted_users  \\\n",
              "2765  Towering Inferno                            10   \n",
              "1937      The Shawshank Redemption           1689764   \n",
              "3466                 The Godfather           1155770   \n",
              "\n",
              "      cast_total_facebook_likes   actor_3_name  facenumber_in_poster  \\\n",
              "2765                       1125   Joe Flaherty                   2.0   \n",
              "1937                      13495     Bob Gunton                   0.0   \n",
              "3466                      28122  Robert Duvall                   1.0   \n",
              "\n",
              "                                          plot_keywords  \\\n",
              "2765                                                NaN   \n",
              "1937  escape from prison|first person narration|pris...   \n",
              "3466  crime family|mafia|organized crime|patriarch|r...   \n",
              "\n",
              "                                        movie_imdb_link  num_user_for_reviews  \\\n",
              "2765  http://www.imdb.com/title/tt0691996/?ref_=fn_t...                   NaN   \n",
              "1937  http://www.imdb.com/title/tt0111161/?ref_=fn_t...                4144.0   \n",
              "3466  http://www.imdb.com/title/tt0068646/?ref_=fn_t...                2238.0   \n",
              "\n",
              "     language country content_rating      budget  title_year  \\\n",
              "2765  English  Canada            NaN         NaN         NaN   \n",
              "1937  English     USA              R  25000000.0      1994.0   \n",
              "3466  English     USA              R   6000000.0      1972.0   \n",
              "\n",
              "      actor_2_facebook_likes  imdb_score  aspect_ratio  movie_facebook_likes  \n",
              "2765                   179.0         9.5          1.33                     0  \n",
              "1937                   745.0         9.3          1.85                108000  \n",
              "3466                 10000.0         9.2          1.85                 43000  "
            ]
          },
          "metadata": {
            "tags": []
          },
          "execution_count": 82
        }
      ]
    },
    {
      "cell_type": "code",
      "metadata": {
        "id": "Cj5UzpnAam4A",
        "colab_type": "code",
        "colab": {
          "base_uri": "https://localhost:8080/",
          "height": 34
        },
        "outputId": "1b3efba8-89a9-4611-b57e-6b36c1d65343"
      },
      "source": [
        "# Creating a new column\n",
        "movies[\"counter\"] = 1\n",
        "movies.shape\n",
        "movies.counter.sum()"
      ],
      "execution_count": 83,
      "outputs": [
        {
          "output_type": "execute_result",
          "data": {
            "text/plain": [
              "(4998, 29)"
            ]
          },
          "metadata": {
            "tags": []
          },
          "execution_count": 83
        },
        {
          "output_type": "execute_result",
          "data": {
            "text/plain": [
              "4998"
            ]
          },
          "metadata": {
            "tags": []
          },
          "execution_count": 83
        }
      ]
    },
    {
      "cell_type": "markdown",
      "metadata": {
        "id": "8CNBKdjfam4L",
        "colab_type": "text"
      },
      "source": [
        "## Visualization\n",
        "#understanding different variables/features and their relationship with other features in data with plots, charts etc."
      ]
    },
    {
      "cell_type": "code",
      "metadata": {
        "id": "9ZfioamMam4M",
        "colab_type": "code",
        "colab": {
          "base_uri": "https://localhost:8080/",
          "height": 315
        },
        "outputId": "368a88b2-915d-4978-9faa-9d39f1885790"
      },
      "source": [
        "# Plot histogram to understand distribution of a variable\n",
        "movies.hist(column='imdb_score',color='Green')"
      ],
      "execution_count": 84,
      "outputs": [
        {
          "output_type": "execute_result",
          "data": {
            "text/plain": [
              "array([[<matplotlib.axes._subplots.AxesSubplot object at 0x7fcac7f83128>]],\n",
              "      dtype=object)"
            ]
          },
          "metadata": {
            "tags": []
          },
          "execution_count": 84
        },
        {
          "output_type": "display_data",
          "data": {
            "image/png": "[encoded data removed]",
            "text/plain": [
              "<Figure size 432x288 with 1 Axes>"
            ]
          },
          "metadata": {
            "tags": [],
            "needs_background": "light"
          }
        }
      ]
    },
    {
      "cell_type": "code",
      "metadata": {
        "id": "2eE0Ro5vam4S",
        "colab_type": "code",
        "colab": {
          "base_uri": "https://localhost:8080/",
          "height": 282
        },
        "outputId": "3c1b0f3a-b224-4d7f-b9d6-55907f4824a9"
      },
      "source": [
        "# List of all colors used in python: https://matplotlib.org/examples/color/named_colors.html\n",
        "# Plot a line plot to understand relationship between 2 variables\n",
        "imdb_score_vs_year = movies.plot.line(x='imdb_score',\n",
        "                      y='title_year',\n",
        "                      c='limegreen')"
      ],
      "execution_count": 85,
      "outputs": [
        {
          "output_type": "display_data",
          "data": {
            "image/png": "[encoded data removed]",
            "text/plain": [
              "<Figure size 432x288 with 1 Axes>"
            ]
          },
          "metadata": {
            "tags": [],
            "needs_background": "light"
          }
        }
      ]
    },
    {
      "cell_type": "code",
      "metadata": {
        "id": "d47JdYnRam4g",
        "colab_type": "code",
        "colab": {
          "base_uri": "https://localhost:8080/",
          "height": 282
        },
        "outputId": "0e23c16b-da4b-4337-9c83-016cc929807f"
      },
      "source": [
        "# List of all colors used in python: https://matplotlib.org/examples/color/named_colors.html\n",
        "# Plot a scatter plot to understand relationship between 2 variables\n",
        "imdb_score_vs_year = movies.plot.scatter(x='imdb_score',\n",
        "                      y='title_year',\n",
        "                      c='lightcoral')"
      ],
      "execution_count": 86,
      "outputs": [
        {
          "output_type": "display_data",
          "data": {
            "image/png": "[encoded data removed]",
            "text/plain": [
              "<Figure size 432x288 with 1 Axes>"
            ]
          },
          "metadata": {
            "tags": [],
            "needs_background": "light"
          }
        }
      ]
    },
    {
      "cell_type": "code",
      "metadata": {
        "id": "zp4TbTf9am4m",
        "colab_type": "code",
        "colab": {
          "base_uri": "https://localhost:8080/",
          "height": 280
        },
        "outputId": "8b59272d-0079-457c-b6a0-2b872a92aa6b"
      },
      "source": [
        "# filter the dataframe and plot histogram again\n",
        "new_df = movies[movies.title_year >=2000]\n",
        "new_imdb_score_vs_year = new_df.plot.scatter(x='imdb_score',\n",
        "                      y='title_year',\n",
        "                      c='mediumaquamarine')"
      ],
      "execution_count": 87,
      "outputs": [
        {
          "output_type": "display_data",
          "data": {
            "image/png": "[encoded data removed]",
            "text/plain": [
              "<Figure size 432x288 with 1 Axes>"
            ]
          },
          "metadata": {
            "tags": [],
            "needs_background": "light"
          }
        }
      ]
    },
    {
      "cell_type": "code",
      "metadata": {
        "scrolled": true,
        "id": "cghmt9-Iam4r",
        "colab_type": "code",
        "colab": {
          "base_uri": "https://localhost:8080/",
          "height": 280
        },
        "outputId": "d62dfef0-29e4-4576-8fc1-d5591e51bc54"
      },
      "source": [
        "# Further subset the data based on conditions\n",
        "new_df = movies[(movies.title_year>=2000) & (movies.imdb_score>=5)]\n",
        "new_imdb_score_vs_year = new_df.plot.scatter(x='imdb_score',\n",
        "                      y='title_year',\n",
        "                      c='Teal')"
      ],
      "execution_count": 88,
      "outputs": [
        {
          "output_type": "display_data",
          "data": {
            "image/png": "[encoded data removed]",
            "text/plain": [
              "<Figure size 432x288 with 1 Axes>"
            ]
          },
          "metadata": {
            "tags": [],
            "needs_background": "light"
          }
        }
      ]
    },
    {
      "cell_type": "code",
      "metadata": {
        "id": "d2zX7Qm6am4x",
        "colab_type": "code",
        "colab": {
          "base_uri": "https://localhost:8080/",
          "height": 51
        },
        "outputId": "1a7bdc31-abf6-458c-c134-98a2a016e162"
      },
      "source": [
        "# Looking at the plot, filter for movie based on specific conditions\n",
        "movies_subset[(movies_subset.title_year==2008) & (movies_subset.imdb_score >=8.5)]['movie_title']"
      ],
      "execution_count": 89,
      "outputs": [
        {
          "output_type": "execute_result",
          "data": {
            "text/plain": [
              "66    The Dark Knight \n",
              "Name: movie_title, dtype: object"
            ]
          },
          "metadata": {
            "tags": []
          },
          "execution_count": 89
        }
      ]
    },
    {
      "cell_type": "markdown",
      "metadata": {
        "id": "RzqHFIukam42",
        "colab_type": "text"
      },
      "source": [
        "## Loops\n",
        "#loops are used to repeat a code for multiple times\n",
        "#use for loop if you already know how many times your loop will run otherwise use while loop\n",
        "#use nested loop if you need to put one loop inside another loop"
      ]
    },
    {
      "cell_type": "code",
      "metadata": {
        "id": "nvrQ2Ndeam43",
        "colab_type": "code",
        "colab": {
          "base_uri": "https://localhost:8080/",
          "height": 85
        },
        "outputId": "f5184a38-7598-4095-adef-02defce55909"
      },
      "source": [
        "# iterate over a list to print year multiple times\n",
        "for year in [2016,2008,2003,2001]:\n",
        "    print(year)"
      ],
      "execution_count": 90,
      "outputs": [
        {
          "output_type": "stream",
          "text": [
            "2016\n",
            "2008\n",
            "2003\n",
            "2001\n"
          ],
          "name": "stdout"
        }
      ]
    },
    {
      "cell_type": "code",
      "metadata": {
        "id": "LhmlG0qqam47",
        "colab_type": "code",
        "colab": {
          "base_uri": "https://localhost:8080/",
          "height": 102
        },
        "outputId": "164f6cb1-74d8-4393-adee-2f3516d69286"
      },
      "source": [
        "# Using else with for loop\n",
        "for year in [2016,2008,2003,2001]:\n",
        "    print(year)\n",
        "else:\n",
        "    print(\"all years printed\")"
      ],
      "execution_count": 91,
      "outputs": [
        {
          "output_type": "stream",
          "text": [
            "2016\n",
            "2008\n",
            "2003\n",
            "2001\n",
            "all years printed\n"
          ],
          "name": "stdout"
        }
      ]
    },
    {
      "cell_type": "code",
      "metadata": {
        "id": "QeMoowW_am5D",
        "colab_type": "code",
        "colab": {}
      },
      "source": [
        "# Creating a list by selecting years\n",
        "selected_years = [2016,2008,2003,2001]"
      ],
      "execution_count": 0,
      "outputs": []
    },
    {
      "cell_type": "code",
      "metadata": {
        "id": "k_RnHH5zam5I",
        "colab_type": "code",
        "colab": {
          "base_uri": "https://localhost:8080/",
          "height": 807
        },
        "outputId": "7d27f8aa-a951-4dd3-c173-ee17a757668b"
      },
      "source": [
        "# For loop to print movies satisfying 2 conditions. Using str to convert year to string.\n",
        "for year in selected_years:\n",
        "    print(str(year)+ \":\"+ movies_subset[(movies_subset.title_year ==year) & (movies_subset.imdb_score >=8.5)]['movie_title'])\n",
        "    movies_subset[(movies_subset.title_year ==year) & (movies_subset.imdb_score >=8.5)]\n",
        "else:\n",
        "    print(\"Your task is done.\")"
      ],
      "execution_count": 94,
      "outputs": [
        {
          "output_type": "stream",
          "text": [
            "3870                        2016:Airlift \n",
            "4372    2016:A Beginner's Guide to Snuff \n",
            "4409           2016:Kickboxer: Vengeance \n",
            "Name: movie_title, dtype: object\n"
          ],
          "name": "stdout"
        },
        {
          "output_type": "execute_result",
          "data": {
            "text/html": [
              "<div>\n",
              "<style scoped>\n",
              "    .dataframe tbody tr th:only-of-type {\n",
              "        vertical-align: middle;\n",
              "    }\n",
              "\n",
              "    .dataframe tbody tr th {\n",
              "        vertical-align: top;\n",
              "    }\n",
              "\n",
              "    .dataframe thead th {\n",
              "        text-align: right;\n",
              "    }\n",
              "</style>\n",
              "<table border=\"1\" class=\"dataframe\">\n",
              "  <thead>\n",
              "    <tr style=\"text-align: right;\">\n",
              "      <th></th>\n",
              "      <th>director_name</th>\n",
              "      <th>num_critic_for_reviews</th>\n",
              "      <th>duration</th>\n",
              "      <th>gross</th>\n",
              "      <th>genres</th>\n",
              "      <th>actor_1_name</th>\n",
              "      <th>actor_2_name</th>\n",
              "      <th>movie_title</th>\n",
              "      <th>num_voted_users</th>\n",
              "      <th>num_user_for_reviews</th>\n",
              "      <th>language</th>\n",
              "      <th>country</th>\n",
              "      <th>content_rating</th>\n",
              "      <th>budget</th>\n",
              "      <th>title_year</th>\n",
              "      <th>imdb_score</th>\n",
              "    </tr>\n",
              "  </thead>\n",
              "  <tbody>\n",
              "    <tr>\n",
              "      <th>3870</th>\n",
              "      <td>Raja Menon</td>\n",
              "      <td>39.0</td>\n",
              "      <td>130.0</td>\n",
              "      <td>NaN</td>\n",
              "      <td>Action|Drama|History|Thriller|War</td>\n",
              "      <td>Nimrat Kaur</td>\n",
              "      <td>Sameer Ali Khan</td>\n",
              "      <td>Airlift</td>\n",
              "      <td>30977</td>\n",
              "      <td>178.0</td>\n",
              "      <td>Hindi</td>\n",
              "      <td>India</td>\n",
              "      <td>NaN</td>\n",
              "      <td>4400000.0</td>\n",
              "      <td>2016.0</td>\n",
              "      <td>8.5</td>\n",
              "    </tr>\n",
              "    <tr>\n",
              "      <th>4372</th>\n",
              "      <td>Mitchell Altieri</td>\n",
              "      <td>NaN</td>\n",
              "      <td>87.0</td>\n",
              "      <td>NaN</td>\n",
              "      <td>Comedy|Horror|Thriller</td>\n",
              "      <td>Kimberley Crossman</td>\n",
              "      <td>Luke Edwards</td>\n",
              "      <td>A Beginner's Guide to Snuff</td>\n",
              "      <td>13</td>\n",
              "      <td>NaN</td>\n",
              "      <td>English</td>\n",
              "      <td>USA</td>\n",
              "      <td>NaN</td>\n",
              "      <td>NaN</td>\n",
              "      <td>2016.0</td>\n",
              "      <td>8.7</td>\n",
              "    </tr>\n",
              "    <tr>\n",
              "      <th>4409</th>\n",
              "      <td>John Stockwell</td>\n",
              "      <td>2.0</td>\n",
              "      <td>90.0</td>\n",
              "      <td>NaN</td>\n",
              "      <td>Action</td>\n",
              "      <td>Matthew Ziff</td>\n",
              "      <td>T.J. Storm</td>\n",
              "      <td>Kickboxer: Vengeance</td>\n",
              "      <td>246</td>\n",
              "      <td>1.0</td>\n",
              "      <td>NaN</td>\n",
              "      <td>USA</td>\n",
              "      <td>NaN</td>\n",
              "      <td>17000000.0</td>\n",
              "      <td>2016.0</td>\n",
              "      <td>9.1</td>\n",
              "    </tr>\n",
              "  </tbody>\n",
              "</table>\n",
              "</div>"
            ],
            "text/plain": [
              "         director_name  num_critic_for_reviews  duration  gross  \\\n",
              "3870        Raja Menon                    39.0     130.0    NaN   \n",
              "4372  Mitchell Altieri                     NaN      87.0    NaN   \n",
              "4409    John Stockwell                     2.0      90.0    NaN   \n",
              "\n",
              "                                 genres        actor_1_name     actor_2_name  \\\n",
              "3870  Action|Drama|History|Thriller|War         Nimrat Kaur  Sameer Ali Khan   \n",
              "4372             Comedy|Horror|Thriller  Kimberley Crossman     Luke Edwards   \n",
              "4409                             Action        Matthew Ziff       T.J. Storm   \n",
              "\n",
              "                       movie_title  num_voted_users  num_user_for_reviews  \\\n",
              "3870                      Airlift             30977                 178.0   \n",
              "4372  A Beginner's Guide to Snuff                13                   NaN   \n",
              "4409         Kickboxer: Vengeance               246                   1.0   \n",
              "\n",
              "     language country content_rating      budget  title_year  imdb_score  \n",
              "3870    Hindi   India            NaN   4400000.0      2016.0         8.5  \n",
              "4372  English     USA            NaN         NaN      2016.0         8.7  \n",
              "4409      NaN     USA            NaN  17000000.0      2016.0         9.1  "
            ]
          },
          "metadata": {
            "tags": []
          },
          "execution_count": 94
        },
        {
          "output_type": "stream",
          "text": [
            "66    2008:The Dark Knight \n",
            "Name: movie_title, dtype: object\n"
          ],
          "name": "stdout"
        },
        {
          "output_type": "execute_result",
          "data": {
            "text/html": [
              "<div>\n",
              "<style scoped>\n",
              "    .dataframe tbody tr th:only-of-type {\n",
              "        vertical-align: middle;\n",
              "    }\n",
              "\n",
              "    .dataframe tbody tr th {\n",
              "        vertical-align: top;\n",
              "    }\n",
              "\n",
              "    .dataframe thead th {\n",
              "        text-align: right;\n",
              "    }\n",
              "</style>\n",
              "<table border=\"1\" class=\"dataframe\">\n",
              "  <thead>\n",
              "    <tr style=\"text-align: right;\">\n",
              "      <th></th>\n",
              "      <th>director_name</th>\n",
              "      <th>num_critic_for_reviews</th>\n",
              "      <th>duration</th>\n",
              "      <th>gross</th>\n",
              "      <th>genres</th>\n",
              "      <th>actor_1_name</th>\n",
              "      <th>actor_2_name</th>\n",
              "      <th>movie_title</th>\n",
              "      <th>num_voted_users</th>\n",
              "      <th>num_user_for_reviews</th>\n",
              "      <th>language</th>\n",
              "      <th>country</th>\n",
              "      <th>content_rating</th>\n",
              "      <th>budget</th>\n",
              "      <th>title_year</th>\n",
              "      <th>imdb_score</th>\n",
              "    </tr>\n",
              "  </thead>\n",
              "  <tbody>\n",
              "    <tr>\n",
              "      <th>66</th>\n",
              "      <td>Christopher Nolan</td>\n",
              "      <td>645.0</td>\n",
              "      <td>152.0</td>\n",
              "      <td>533316061.0</td>\n",
              "      <td>Action|Crime|Drama|Thriller</td>\n",
              "      <td>Christian Bale</td>\n",
              "      <td>Heath Ledger</td>\n",
              "      <td>The Dark Knight</td>\n",
              "      <td>1676169</td>\n",
              "      <td>4667.0</td>\n",
              "      <td>English</td>\n",
              "      <td>USA</td>\n",
              "      <td>PG-13</td>\n",
              "      <td>185000000.0</td>\n",
              "      <td>2008.0</td>\n",
              "      <td>9.0</td>\n",
              "    </tr>\n",
              "  </tbody>\n",
              "</table>\n",
              "</div>"
            ],
            "text/plain": [
              "        director_name  num_critic_for_reviews  duration        gross  \\\n",
              "66  Christopher Nolan                   645.0     152.0  533316061.0   \n",
              "\n",
              "                         genres    actor_1_name  actor_2_name  \\\n",
              "66  Action|Crime|Drama|Thriller  Christian Bale  Heath Ledger   \n",
              "\n",
              "         movie_title  num_voted_users  num_user_for_reviews language country  \\\n",
              "66  The Dark Knight           1676169                4667.0  English     USA   \n",
              "\n",
              "   content_rating       budget  title_year  imdb_score  \n",
              "66          PG-13  185000000.0      2008.0         9.0  "
            ]
          },
          "metadata": {
            "tags": []
          },
          "execution_count": 94
        },
        {
          "output_type": "stream",
          "text": [
            "339    2003:The Lord of the Rings: The Return of the ...\n",
            "Name: movie_title, dtype: object\n"
          ],
          "name": "stdout"
        },
        {
          "output_type": "execute_result",
          "data": {
            "text/html": [
              "<div>\n",
              "<style scoped>\n",
              "    .dataframe tbody tr th:only-of-type {\n",
              "        vertical-align: middle;\n",
              "    }\n",
              "\n",
              "    .dataframe tbody tr th {\n",
              "        vertical-align: top;\n",
              "    }\n",
              "\n",
              "    .dataframe thead th {\n",
              "        text-align: right;\n",
              "    }\n",
              "</style>\n",
              "<table border=\"1\" class=\"dataframe\">\n",
              "  <thead>\n",
              "    <tr style=\"text-align: right;\">\n",
              "      <th></th>\n",
              "      <th>director_name</th>\n",
              "      <th>num_critic_for_reviews</th>\n",
              "      <th>duration</th>\n",
              "      <th>gross</th>\n",
              "      <th>genres</th>\n",
              "      <th>actor_1_name</th>\n",
              "      <th>actor_2_name</th>\n",
              "      <th>movie_title</th>\n",
              "      <th>num_voted_users</th>\n",
              "      <th>num_user_for_reviews</th>\n",
              "      <th>language</th>\n",
              "      <th>country</th>\n",
              "      <th>content_rating</th>\n",
              "      <th>budget</th>\n",
              "      <th>title_year</th>\n",
              "      <th>imdb_score</th>\n",
              "    </tr>\n",
              "  </thead>\n",
              "  <tbody>\n",
              "    <tr>\n",
              "      <th>339</th>\n",
              "      <td>Peter Jackson</td>\n",
              "      <td>328.0</td>\n",
              "      <td>192.0</td>\n",
              "      <td>377019252.0</td>\n",
              "      <td>Action|Adventure|Drama|Fantasy</td>\n",
              "      <td>Orlando Bloom</td>\n",
              "      <td>Billy Boyd</td>\n",
              "      <td>The Lord of the Rings: The Return of the King</td>\n",
              "      <td>1215718</td>\n",
              "      <td>3189.0</td>\n",
              "      <td>English</td>\n",
              "      <td>USA</td>\n",
              "      <td>PG-13</td>\n",
              "      <td>94000000.0</td>\n",
              "      <td>2003.0</td>\n",
              "      <td>8.9</td>\n",
              "    </tr>\n",
              "  </tbody>\n",
              "</table>\n",
              "</div>"
            ],
            "text/plain": [
              "     director_name  num_critic_for_reviews  duration        gross  \\\n",
              "339  Peter Jackson                   328.0     192.0  377019252.0   \n",
              "\n",
              "                             genres   actor_1_name actor_2_name  \\\n",
              "339  Action|Adventure|Drama|Fantasy  Orlando Bloom   Billy Boyd   \n",
              "\n",
              "                                        movie_title  num_voted_users  \\\n",
              "339  The Lord of the Rings: The Return of the King           1215718   \n",
              "\n",
              "     num_user_for_reviews language country content_rating      budget  \\\n",
              "339                3189.0  English     USA          PG-13  94000000.0   \n",
              "\n",
              "     title_year  imdb_score  \n",
              "339      2003.0         8.9  "
            ]
          },
          "metadata": {
            "tags": []
          },
          "execution_count": 94
        },
        {
          "output_type": "stream",
          "text": [
            "270     2001:The Lord of the Rings: The Fellowship of ...\n",
            "2373                                  2001:Spirited Away \n",
            "Name: movie_title, dtype: object\n"
          ],
          "name": "stdout"
        },
        {
          "output_type": "execute_result",
          "data": {
            "text/html": [
              "<div>\n",
              "<style scoped>\n",
              "    .dataframe tbody tr th:only-of-type {\n",
              "        vertical-align: middle;\n",
              "    }\n",
              "\n",
              "    .dataframe tbody tr th {\n",
              "        vertical-align: top;\n",
              "    }\n",
              "\n",
              "    .dataframe thead th {\n",
              "        text-align: right;\n",
              "    }\n",
              "</style>\n",
              "<table border=\"1\" class=\"dataframe\">\n",
              "  <thead>\n",
              "    <tr style=\"text-align: right;\">\n",
              "      <th></th>\n",
              "      <th>director_name</th>\n",
              "      <th>num_critic_for_reviews</th>\n",
              "      <th>duration</th>\n",
              "      <th>gross</th>\n",
              "      <th>genres</th>\n",
              "      <th>actor_1_name</th>\n",
              "      <th>actor_2_name</th>\n",
              "      <th>movie_title</th>\n",
              "      <th>num_voted_users</th>\n",
              "      <th>num_user_for_reviews</th>\n",
              "      <th>language</th>\n",
              "      <th>country</th>\n",
              "      <th>content_rating</th>\n",
              "      <th>budget</th>\n",
              "      <th>title_year</th>\n",
              "      <th>imdb_score</th>\n",
              "    </tr>\n",
              "  </thead>\n",
              "  <tbody>\n",
              "    <tr>\n",
              "      <th>270</th>\n",
              "      <td>Peter Jackson</td>\n",
              "      <td>297.0</td>\n",
              "      <td>171.0</td>\n",
              "      <td>313837577.0</td>\n",
              "      <td>Action|Adventure|Drama|Fantasy</td>\n",
              "      <td>Christopher Lee</td>\n",
              "      <td>Orlando Bloom</td>\n",
              "      <td>The Lord of the Rings: The Fellowship of the R...</td>\n",
              "      <td>1238746</td>\n",
              "      <td>5060.0</td>\n",
              "      <td>English</td>\n",
              "      <td>New Zealand</td>\n",
              "      <td>PG-13</td>\n",
              "      <td>93000000.0</td>\n",
              "      <td>2001.0</td>\n",
              "      <td>8.8</td>\n",
              "    </tr>\n",
              "    <tr>\n",
              "      <th>2373</th>\n",
              "      <td>Hayao Miyazaki</td>\n",
              "      <td>246.0</td>\n",
              "      <td>125.0</td>\n",
              "      <td>10049886.0</td>\n",
              "      <td>Adventure|Animation|Family|Fantasy</td>\n",
              "      <td>Bunta Sugawara</td>\n",
              "      <td>Ryûnosuke Kamiki</td>\n",
              "      <td>Spirited Away</td>\n",
              "      <td>417971</td>\n",
              "      <td>902.0</td>\n",
              "      <td>Japanese</td>\n",
              "      <td>Japan</td>\n",
              "      <td>PG</td>\n",
              "      <td>19000000.0</td>\n",
              "      <td>2001.0</td>\n",
              "      <td>8.6</td>\n",
              "    </tr>\n",
              "  </tbody>\n",
              "</table>\n",
              "</div>"
            ],
            "text/plain": [
              "       director_name  num_critic_for_reviews  duration        gross  \\\n",
              "270    Peter Jackson                   297.0     171.0  313837577.0   \n",
              "2373  Hayao Miyazaki                   246.0     125.0   10049886.0   \n",
              "\n",
              "                                  genres     actor_1_name      actor_2_name  \\\n",
              "270       Action|Adventure|Drama|Fantasy  Christopher Lee     Orlando Bloom   \n",
              "2373  Adventure|Animation|Family|Fantasy   Bunta Sugawara  Ryûnosuke Kamiki   \n",
              "\n",
              "                                            movie_title  num_voted_users  \\\n",
              "270   The Lord of the Rings: The Fellowship of the R...          1238746   \n",
              "2373                                     Spirited Away            417971   \n",
              "\n",
              "      num_user_for_reviews  language      country content_rating      budget  \\\n",
              "270                 5060.0   English  New Zealand          PG-13  93000000.0   \n",
              "2373                 902.0  Japanese        Japan             PG  19000000.0   \n",
              "\n",
              "      title_year  imdb_score  \n",
              "270       2001.0         8.8  \n",
              "2373      2001.0         8.6  "
            ]
          },
          "metadata": {
            "tags": []
          },
          "execution_count": 94
        },
        {
          "output_type": "stream",
          "text": [
            "Your task is done.\n"
          ],
          "name": "stdout"
        }
      ]
    },
    {
      "cell_type": "code",
      "metadata": {
        "id": "G1AS-I35am5O",
        "colab_type": "code",
        "colab": {
          "base_uri": "https://localhost:8080/",
          "height": 170
        },
        "outputId": "01ab6e6b-1389-4e27-dba8-9574eb61db55"
      },
      "source": [
        "#example of while loop\n",
        "year = selected_years[1]\n",
        "\n",
        "while year<=max(selected_years):\n",
        "    print(year);\n",
        "    year=year+1;"
      ],
      "execution_count": 95,
      "outputs": [
        {
          "output_type": "stream",
          "text": [
            "2008\n",
            "2009\n",
            "2010\n",
            "2011\n",
            "2012\n",
            "2013\n",
            "2014\n",
            "2015\n",
            "2016\n"
          ],
          "name": "stdout"
        }
      ]
    },
    {
      "cell_type": "code",
      "metadata": {
        "id": "wxX9ZAekam5V",
        "colab_type": "code",
        "colab": {
          "base_uri": "https://localhost:8080/",
          "height": 153
        },
        "outputId": "7bac1aa1-c886-41d3-917a-a10d74a08878"
      },
      "source": [
        " # in nested loops, outer loop runs first and then nested loop\n",
        "imdb_score=[8.8]\n",
        "\n",
        "for year in selected_years:\n",
        "    for score in imdb_score:\n",
        "        print(str(year)+\":\"+ movies[(movies.title_year==year) & (movies.imdb_score>=score)]['movie_title'])"
      ],
      "execution_count": 96,
      "outputs": [
        {
          "output_type": "stream",
          "text": [
            "4409    2016:Kickboxer: Vengeance \n",
            "Name: movie_title, dtype: object\n",
            "66    2008:The Dark Knight \n",
            "Name: movie_title, dtype: object\n",
            "339    2003:The Lord of the Rings: The Return of the ...\n",
            "Name: movie_title, dtype: object\n",
            "270    2001:The Lord of the Rings: The Fellowship of ...\n",
            "Name: movie_title, dtype: object\n"
          ],
          "name": "stdout"
        }
      ]
    },
    {
      "cell_type": "code",
      "metadata": {
        "id": "o9TbxY57am5i",
        "colab_type": "code",
        "colab": {
          "base_uri": "https://localhost:8080/",
          "height": 85
        },
        "outputId": "ac912ba8-2134-4da5-e609-d59bda42f3f0"
      },
      "source": [
        "# using if inside for loop\n",
        "for year in selected_years:\n",
        "    if year<2008:\n",
        "        print(str(year)+\" is\"+\" < 2008\")\n",
        "    elif year==2008:\n",
        "        print(str(year)+\" is\"+\" = 2008\")\n",
        "    else:\n",
        "        print(str(year)+\" is\"+\" > 2008\")"
      ],
      "execution_count": 97,
      "outputs": [
        {
          "output_type": "stream",
          "text": [
            "2016 is > 2008\n",
            "2008 is = 2008\n",
            "2003 is < 2008\n",
            "2001 is < 2008\n"
          ],
          "name": "stdout"
        }
      ]
    },
    {
      "cell_type": "code",
      "metadata": {
        "id": "akAcCaglam5p",
        "colab_type": "code",
        "colab": {
          "base_uri": "https://localhost:8080/",
          "height": 34
        },
        "outputId": "fff0fc3a-12ab-4bb7-9e1e-ed896fee1fb4"
      },
      "source": [
        "# using if else independently\n",
        "year = 2020\n",
        "\n",
        "if year<2008:\n",
        "    print(str(year)+\" is\"+\" < 2008\")\n",
        "elif year==2008:\n",
        "    print(str(year)+\" is\"+\" = 2008\")\n",
        "else:\n",
        "    print(str(year)+\" is\"+\" > 2008\")"
      ],
      "execution_count": 98,
      "outputs": [
        {
          "output_type": "stream",
          "text": [
            "2020 is > 2008\n"
          ],
          "name": "stdout"
        }
      ]
    },
    {
      "cell_type": "markdown",
      "metadata": {
        "id": "tIKPLh3Iam5u",
        "colab_type": "text"
      },
      "source": [
        "## Functions\n",
        "#set a statements which are given some input, they do computation and give output.\n",
        "#a function is defined with def keyword and applied to a pandas DataFrame using df.apply()\n",
        "#alternatively,anonymous(without name) function can be defined using lambda keyword"
      ]
    },
    {
      "cell_type": "code",
      "metadata": {
        "id": "4XkUR9O1am55",
        "colab_type": "code",
        "colab": {
          "base_uri": "https://localhost:8080/",
          "height": 34
        },
        "outputId": "048ee3ae-13a5-4f32-8674-54da6fadd661"
      },
      "source": [
        "#defining a simple function\n",
        "def year_status(year):\n",
        "    print(year)\n",
        "\n",
        "year_status(2020)"
      ],
      "execution_count": 99,
      "outputs": [
        {
          "output_type": "stream",
          "text": [
            "2020\n"
          ],
          "name": "stdout"
        }
      ]
    },
    {
      "cell_type": "code",
      "metadata": {
        "id": "Q-xAoYHgam5-",
        "colab_type": "code",
        "colab": {}
      },
      "source": [
        "#defining a conditional function\n",
        "def year_status(year):\n",
        "    if year<2008:\n",
        "        print(str(year)+\" is\"+\" < 2008\")\n",
        "    elif year==2008:\n",
        "        print(str(year)+\" is\"+\" = 2008\")\n",
        "    else:\n",
        "        print(str(year)+\" is\"+\" > 2008\")"
      ],
      "execution_count": 0,
      "outputs": []
    },
    {
      "cell_type": "code",
      "metadata": {
        "id": "X60LqNXsam6H",
        "colab_type": "code",
        "colab": {
          "base_uri": "https://localhost:8080/",
          "height": 68
        },
        "outputId": "e9dadff5-92e8-462c-a952-3f9dfd69bb81"
      },
      "source": [
        "#checking its functionality\n",
        "year_status(2020)\n",
        "year_status(2001)\n",
        "year_status(2008)"
      ],
      "execution_count": 101,
      "outputs": [
        {
          "output_type": "stream",
          "text": [
            "2020 is > 2008\n",
            "2001 is < 2008\n",
            "2008 is = 2008\n"
          ],
          "name": "stdout"
        }
      ]
    },
    {
      "cell_type": "code",
      "metadata": {
        "id": "bITBRIhvam6Q",
        "colab_type": "code",
        "colab": {
          "base_uri": "https://localhost:8080/",
          "height": 34
        },
        "outputId": "31a5fa0d-89f4-4ba1-8e31-fd82566fc791"
      },
      "source": [
        "def year_status(year):\n",
        "    if year<2008:\n",
        "        return \"<2008\"\n",
        "    elif year==2008:\n",
        "        return \"=2008\"\n",
        "    else:\n",
        "        return \">2008\"\n",
        "\n",
        "year_status(2008)"
      ],
      "execution_count": 102,
      "outputs": [
        {
          "output_type": "execute_result",
          "data": {
            "text/plain": [
              "'=2008'"
            ]
          },
          "metadata": {
            "tags": []
          },
          "execution_count": 102
        }
      ]
    },
    {
      "cell_type": "code",
      "metadata": {
        "id": "EdHYMl8Tam6V",
        "colab_type": "code",
        "colab": {
          "base_uri": "https://localhost:8080/",
          "height": 34
        },
        "outputId": "ae639b9a-e374-4c57-88fc-de6385413a0e"
      },
      "source": [
        "# putting a function inside a for loop\n",
        "for year in selected_years:\n",
        "    year_status(year)"
      ],
      "execution_count": 103,
      "outputs": [
        {
          "output_type": "execute_result",
          "data": {
            "text/plain": [
              "'>2008'"
            ]
          },
          "metadata": {
            "tags": []
          },
          "execution_count": 103
        },
        {
          "output_type": "execute_result",
          "data": {
            "text/plain": [
              "'=2008'"
            ]
          },
          "metadata": {
            "tags": []
          },
          "execution_count": 103
        },
        {
          "output_type": "execute_result",
          "data": {
            "text/plain": [
              "'<2008'"
            ]
          },
          "metadata": {
            "tags": []
          },
          "execution_count": 103
        },
        {
          "output_type": "execute_result",
          "data": {
            "text/plain": [
              "'<2008'"
            ]
          },
          "metadata": {
            "tags": []
          },
          "execution_count": 103
        }
      ]
    },
    {
      "cell_type": "code",
      "metadata": {
        "id": "9WE0OGB9am6h",
        "colab_type": "code",
        "colab": {
          "base_uri": "https://localhost:8080/",
          "height": 266
        },
        "outputId": "0ee89f1a-c403-4273-e1f8-a28c16454857"
      },
      "source": [
        "# subsetting into a smaller dataset\n",
        "movies_small=movies_subset.iloc[5:12,8:]\n",
        "movies_small"
      ],
      "execution_count": 104,
      "outputs": [
        {
          "output_type": "execute_result",
          "data": {
            "text/html": [
              "<div>\n",
              "<style scoped>\n",
              "    .dataframe tbody tr th:only-of-type {\n",
              "        vertical-align: middle;\n",
              "    }\n",
              "\n",
              "    .dataframe tbody tr th {\n",
              "        vertical-align: top;\n",
              "    }\n",
              "\n",
              "    .dataframe thead th {\n",
              "        text-align: right;\n",
              "    }\n",
              "</style>\n",
              "<table border=\"1\" class=\"dataframe\">\n",
              "  <thead>\n",
              "    <tr style=\"text-align: right;\">\n",
              "      <th></th>\n",
              "      <th>num_voted_users</th>\n",
              "      <th>num_user_for_reviews</th>\n",
              "      <th>language</th>\n",
              "      <th>country</th>\n",
              "      <th>content_rating</th>\n",
              "      <th>budget</th>\n",
              "      <th>title_year</th>\n",
              "      <th>imdb_score</th>\n",
              "    </tr>\n",
              "  </thead>\n",
              "  <tbody>\n",
              "    <tr>\n",
              "      <th>5</th>\n",
              "      <td>212204</td>\n",
              "      <td>738.0</td>\n",
              "      <td>English</td>\n",
              "      <td>USA</td>\n",
              "      <td>PG-13</td>\n",
              "      <td>263700000.0</td>\n",
              "      <td>2012.0</td>\n",
              "      <td>6.6</td>\n",
              "    </tr>\n",
              "    <tr>\n",
              "      <th>6</th>\n",
              "      <td>383056</td>\n",
              "      <td>1902.0</td>\n",
              "      <td>English</td>\n",
              "      <td>USA</td>\n",
              "      <td>PG-13</td>\n",
              "      <td>258000000.0</td>\n",
              "      <td>2007.0</td>\n",
              "      <td>6.2</td>\n",
              "    </tr>\n",
              "    <tr>\n",
              "      <th>7</th>\n",
              "      <td>294810</td>\n",
              "      <td>387.0</td>\n",
              "      <td>English</td>\n",
              "      <td>USA</td>\n",
              "      <td>PG</td>\n",
              "      <td>260000000.0</td>\n",
              "      <td>2010.0</td>\n",
              "      <td>7.8</td>\n",
              "    </tr>\n",
              "    <tr>\n",
              "      <th>8</th>\n",
              "      <td>462669</td>\n",
              "      <td>1117.0</td>\n",
              "      <td>English</td>\n",
              "      <td>USA</td>\n",
              "      <td>PG-13</td>\n",
              "      <td>250000000.0</td>\n",
              "      <td>2015.0</td>\n",
              "      <td>7.5</td>\n",
              "    </tr>\n",
              "    <tr>\n",
              "      <th>9</th>\n",
              "      <td>321795</td>\n",
              "      <td>973.0</td>\n",
              "      <td>English</td>\n",
              "      <td>UK</td>\n",
              "      <td>PG</td>\n",
              "      <td>250000000.0</td>\n",
              "      <td>2009.0</td>\n",
              "      <td>7.5</td>\n",
              "    </tr>\n",
              "    <tr>\n",
              "      <th>10</th>\n",
              "      <td>371639</td>\n",
              "      <td>3018.0</td>\n",
              "      <td>English</td>\n",
              "      <td>USA</td>\n",
              "      <td>PG-13</td>\n",
              "      <td>250000000.0</td>\n",
              "      <td>2016.0</td>\n",
              "      <td>6.9</td>\n",
              "    </tr>\n",
              "    <tr>\n",
              "      <th>11</th>\n",
              "      <td>240396</td>\n",
              "      <td>2367.0</td>\n",
              "      <td>English</td>\n",
              "      <td>USA</td>\n",
              "      <td>PG-13</td>\n",
              "      <td>209000000.0</td>\n",
              "      <td>2006.0</td>\n",
              "      <td>6.1</td>\n",
              "    </tr>\n",
              "  </tbody>\n",
              "</table>\n",
              "</div>"
            ],
            "text/plain": [
              "    num_voted_users  num_user_for_reviews language country content_rating  \\\n",
              "5            212204                 738.0  English     USA          PG-13   \n",
              "6            383056                1902.0  English     USA          PG-13   \n",
              "7            294810                 387.0  English     USA             PG   \n",
              "8            462669                1117.0  English     USA          PG-13   \n",
              "9            321795                 973.0  English      UK             PG   \n",
              "10           371639                3018.0  English     USA          PG-13   \n",
              "11           240396                2367.0  English     USA          PG-13   \n",
              "\n",
              "         budget  title_year  imdb_score  \n",
              "5   263700000.0      2012.0         6.6  \n",
              "6   258000000.0      2007.0         6.2  \n",
              "7   260000000.0      2010.0         7.8  \n",
              "8   250000000.0      2015.0         7.5  \n",
              "9   250000000.0      2009.0         7.5  \n",
              "10  250000000.0      2016.0         6.9  \n",
              "11  209000000.0      2006.0         6.1  "
            ]
          },
          "metadata": {
            "tags": []
          },
          "execution_count": 104
        }
      ]
    },
    {
      "cell_type": "code",
      "metadata": {
        "id": "DHtv-HVNam6l",
        "colab_type": "code",
        "colab": {
          "base_uri": "https://localhost:8080/",
          "height": 153
        },
        "outputId": "71295668-30c4-4b0c-e2ef-6bc1213273f0"
      },
      "source": [
        "# Checking the function on new small dataset\n",
        "movies_small['title_year'].apply(year_status)"
      ],
      "execution_count": 105,
      "outputs": [
        {
          "output_type": "execute_result",
          "data": {
            "text/plain": [
              "5     >2008\n",
              "6     <2008\n",
              "7     >2008\n",
              "8     >2008\n",
              "9     >2008\n",
              "10    >2008\n",
              "11    <2008\n",
              "Name: title_year, dtype: object"
            ]
          },
          "metadata": {
            "tags": []
          },
          "execution_count": 105
        }
      ]
    },
    {
      "cell_type": "code",
      "metadata": {
        "id": "cxyhMGYtam6r",
        "colab_type": "code",
        "colab": {
          "base_uri": "https://localhost:8080/",
          "height": 153
        },
        "outputId": "1ae0b00f-e90f-4d8d-9997-b77e7639f460"
      },
      "source": [
        "# alternate method to write a function on a pandas DataFrame\n",
        "movies_small['title_year'].apply(lambda x: \"<2008\" if x < 2008\n",
        "                                 else (\"=2008\" if x==2008 else \">2008\"))"
      ],
      "execution_count": 106,
      "outputs": [
        {
          "output_type": "execute_result",
          "data": {
            "text/plain": [
              "5     >2008\n",
              "6     <2008\n",
              "7     >2008\n",
              "8     >2008\n",
              "9     >2008\n",
              "10    >2008\n",
              "11    <2008\n",
              "Name: title_year, dtype: object"
            ]
          },
          "metadata": {
            "tags": []
          },
          "execution_count": 106
        }
      ]
    },
    {
      "cell_type": "code",
      "metadata": {
        "id": "kYN4EQAgam6w",
        "colab_type": "code",
        "colab": {
          "base_uri": "https://localhost:8080/",
          "height": 266
        },
        "outputId": "170e2267-2aea-4d47-b899-f499f8edb30f"
      },
      "source": [
        "# Create a new column using function\n",
        "movies_small['year_flag'] = movies_small['title_year'].apply(year_status)\n",
        "movies_small"
      ],
      "execution_count": 107,
      "outputs": [
        {
          "output_type": "execute_result",
          "data": {
            "text/html": [
              "<div>\n",
              "<style scoped>\n",
              "    .dataframe tbody tr th:only-of-type {\n",
              "        vertical-align: middle;\n",
              "    }\n",
              "\n",
              "    .dataframe tbody tr th {\n",
              "        vertical-align: top;\n",
              "    }\n",
              "\n",
              "    .dataframe thead th {\n",
              "        text-align: right;\n",
              "    }\n",
              "</style>\n",
              "<table border=\"1\" class=\"dataframe\">\n",
              "  <thead>\n",
              "    <tr style=\"text-align: right;\">\n",
              "      <th></th>\n",
              "      <th>num_voted_users</th>\n",
              "      <th>num_user_for_reviews</th>\n",
              "      <th>language</th>\n",
              "      <th>country</th>\n",
              "      <th>content_rating</th>\n",
              "      <th>budget</th>\n",
              "      <th>title_year</th>\n",
              "      <th>imdb_score</th>\n",
              "      <th>year_flag</th>\n",
              "    </tr>\n",
              "  </thead>\n",
              "  <tbody>\n",
              "    <tr>\n",
              "      <th>5</th>\n",
              "      <td>212204</td>\n",
              "      <td>738.0</td>\n",
              "      <td>English</td>\n",
              "      <td>USA</td>\n",
              "      <td>PG-13</td>\n",
              "      <td>263700000.0</td>\n",
              "      <td>2012.0</td>\n",
              "      <td>6.6</td>\n",
              "      <td>&gt;2008</td>\n",
              "    </tr>\n",
              "    <tr>\n",
              "      <th>6</th>\n",
              "      <td>383056</td>\n",
              "      <td>1902.0</td>\n",
              "      <td>English</td>\n",
              "      <td>USA</td>\n",
              "      <td>PG-13</td>\n",
              "      <td>258000000.0</td>\n",
              "      <td>2007.0</td>\n",
              "      <td>6.2</td>\n",
              "      <td>&lt;2008</td>\n",
              "    </tr>\n",
              "    <tr>\n",
              "      <th>7</th>\n",
              "      <td>294810</td>\n",
              "      <td>387.0</td>\n",
              "      <td>English</td>\n",
              "      <td>USA</td>\n",
              "      <td>PG</td>\n",
              "      <td>260000000.0</td>\n",
              "      <td>2010.0</td>\n",
              "      <td>7.8</td>\n",
              "      <td>&gt;2008</td>\n",
              "    </tr>\n",
              "    <tr>\n",
              "      <th>8</th>\n",
              "      <td>462669</td>\n",
              "      <td>1117.0</td>\n",
              "      <td>English</td>\n",
              "      <td>USA</td>\n",
              "      <td>PG-13</td>\n",
              "      <td>250000000.0</td>\n",
              "      <td>2015.0</td>\n",
              "      <td>7.5</td>\n",
              "      <td>&gt;2008</td>\n",
              "    </tr>\n",
              "    <tr>\n",
              "      <th>9</th>\n",
              "      <td>321795</td>\n",
              "      <td>973.0</td>\n",
              "      <td>English</td>\n",
              "      <td>UK</td>\n",
              "      <td>PG</td>\n",
              "      <td>250000000.0</td>\n",
              "      <td>2009.0</td>\n",
              "      <td>7.5</td>\n",
              "      <td>&gt;2008</td>\n",
              "    </tr>\n",
              "    <tr>\n",
              "      <th>10</th>\n",
              "      <td>371639</td>\n",
              "      <td>3018.0</td>\n",
              "      <td>English</td>\n",
              "      <td>USA</td>\n",
              "      <td>PG-13</td>\n",
              "      <td>250000000.0</td>\n",
              "      <td>2016.0</td>\n",
              "      <td>6.9</td>\n",
              "      <td>&gt;2008</td>\n",
              "    </tr>\n",
              "    <tr>\n",
              "      <th>11</th>\n",
              "      <td>240396</td>\n",
              "      <td>2367.0</td>\n",
              "      <td>English</td>\n",
              "      <td>USA</td>\n",
              "      <td>PG-13</td>\n",
              "      <td>209000000.0</td>\n",
              "      <td>2006.0</td>\n",
              "      <td>6.1</td>\n",
              "      <td>&lt;2008</td>\n",
              "    </tr>\n",
              "  </tbody>\n",
              "</table>\n",
              "</div>"
            ],
            "text/plain": [
              "    num_voted_users  num_user_for_reviews language country content_rating  \\\n",
              "5            212204                 738.0  English     USA          PG-13   \n",
              "6            383056                1902.0  English     USA          PG-13   \n",
              "7            294810                 387.0  English     USA             PG   \n",
              "8            462669                1117.0  English     USA          PG-13   \n",
              "9            321795                 973.0  English      UK             PG   \n",
              "10           371639                3018.0  English     USA          PG-13   \n",
              "11           240396                2367.0  English     USA          PG-13   \n",
              "\n",
              "         budget  title_year  imdb_score year_flag  \n",
              "5   263700000.0      2012.0         6.6     >2008  \n",
              "6   258000000.0      2007.0         6.2     <2008  \n",
              "7   260000000.0      2010.0         7.8     >2008  \n",
              "8   250000000.0      2015.0         7.5     >2008  \n",
              "9   250000000.0      2009.0         7.5     >2008  \n",
              "10  250000000.0      2016.0         6.9     >2008  \n",
              "11  209000000.0      2006.0         6.1     <2008  "
            ]
          },
          "metadata": {
            "tags": []
          },
          "execution_count": 107
        }
      ]
    },
    {
      "cell_type": "code",
      "metadata": {
        "id": "Xtz1_nf2am61",
        "colab_type": "code",
        "colab": {}
      },
      "source": [
        "# Defining a function with more than 1 argument\n",
        "def total_imdb(votes, imdb):\n",
        "    return votes*imdb"
      ],
      "execution_count": 0,
      "outputs": []
    },
    {
      "cell_type": "code",
      "metadata": {
        "id": "JY3qNDfcam66",
        "colab_type": "code",
        "colab": {
          "base_uri": "https://localhost:8080/",
          "height": 34
        },
        "outputId": "8f9b3cd9-fbb7-4001-dedb-054465505889"
      },
      "source": [
        "# checking the function on some values\n",
        "total_imdb(300,7)"
      ],
      "execution_count": 109,
      "outputs": [
        {
          "output_type": "execute_result",
          "data": {
            "text/plain": [
              "2100"
            ]
          },
          "metadata": {
            "tags": []
          },
          "execution_count": 109
        }
      ]
    },
    {
      "cell_type": "code",
      "metadata": {
        "id": "pwqJjbMxam7B",
        "colab_type": "code",
        "colab": {
          "base_uri": "https://localhost:8080/",
          "height": 266
        },
        "outputId": "741067e3-6b22-487d-bdd5-250f9f1db601"
      },
      "source": [
        "# applying the function on our dataset. axis = 1 used for columns. axis = 0 for rows\n",
        "movies_small['imdb_tot'] = movies_small.apply(lambda x: total_imdb(x['num_voted_users'], x['imdb_score']), axis=1)\n",
        "movies_small"
      ],
      "execution_count": 110,
      "outputs": [
        {
          "output_type": "execute_result",
          "data": {
            "text/html": [
              "<div>\n",
              "<style scoped>\n",
              "    .dataframe tbody tr th:only-of-type {\n",
              "        vertical-align: middle;\n",
              "    }\n",
              "\n",
              "    .dataframe tbody tr th {\n",
              "        vertical-align: top;\n",
              "    }\n",
              "\n",
              "    .dataframe thead th {\n",
              "        text-align: right;\n",
              "    }\n",
              "</style>\n",
              "<table border=\"1\" class=\"dataframe\">\n",
              "  <thead>\n",
              "    <tr style=\"text-align: right;\">\n",
              "      <th></th>\n",
              "      <th>num_voted_users</th>\n",
              "      <th>num_user_for_reviews</th>\n",
              "      <th>language</th>\n",
              "      <th>country</th>\n",
              "      <th>content_rating</th>\n",
              "      <th>budget</th>\n",
              "      <th>title_year</th>\n",
              "      <th>imdb_score</th>\n",
              "      <th>year_flag</th>\n",
              "      <th>imdb_tot</th>\n",
              "    </tr>\n",
              "  </thead>\n",
              "  <tbody>\n",
              "    <tr>\n",
              "      <th>5</th>\n",
              "      <td>212204</td>\n",
              "      <td>738.0</td>\n",
              "      <td>English</td>\n",
              "      <td>USA</td>\n",
              "      <td>PG-13</td>\n",
              "      <td>263700000.0</td>\n",
              "      <td>2012.0</td>\n",
              "      <td>6.6</td>\n",
              "      <td>&gt;2008</td>\n",
              "      <td>1400546.4</td>\n",
              "    </tr>\n",
              "    <tr>\n",
              "      <th>6</th>\n",
              "      <td>383056</td>\n",
              "      <td>1902.0</td>\n",
              "      <td>English</td>\n",
              "      <td>USA</td>\n",
              "      <td>PG-13</td>\n",
              "      <td>258000000.0</td>\n",
              "      <td>2007.0</td>\n",
              "      <td>6.2</td>\n",
              "      <td>&lt;2008</td>\n",
              "      <td>2374947.2</td>\n",
              "    </tr>\n",
              "    <tr>\n",
              "      <th>7</th>\n",
              "      <td>294810</td>\n",
              "      <td>387.0</td>\n",
              "      <td>English</td>\n",
              "      <td>USA</td>\n",
              "      <td>PG</td>\n",
              "      <td>260000000.0</td>\n",
              "      <td>2010.0</td>\n",
              "      <td>7.8</td>\n",
              "      <td>&gt;2008</td>\n",
              "      <td>2299518.0</td>\n",
              "    </tr>\n",
              "    <tr>\n",
              "      <th>8</th>\n",
              "      <td>462669</td>\n",
              "      <td>1117.0</td>\n",
              "      <td>English</td>\n",
              "      <td>USA</td>\n",
              "      <td>PG-13</td>\n",
              "      <td>250000000.0</td>\n",
              "      <td>2015.0</td>\n",
              "      <td>7.5</td>\n",
              "      <td>&gt;2008</td>\n",
              "      <td>3470017.5</td>\n",
              "    </tr>\n",
              "    <tr>\n",
              "      <th>9</th>\n",
              "      <td>321795</td>\n",
              "      <td>973.0</td>\n",
              "      <td>English</td>\n",
              "      <td>UK</td>\n",
              "      <td>PG</td>\n",
              "      <td>250000000.0</td>\n",
              "      <td>2009.0</td>\n",
              "      <td>7.5</td>\n",
              "      <td>&gt;2008</td>\n",
              "      <td>2413462.5</td>\n",
              "    </tr>\n",
              "    <tr>\n",
              "      <th>10</th>\n",
              "      <td>371639</td>\n",
              "      <td>3018.0</td>\n",
              "      <td>English</td>\n",
              "      <td>USA</td>\n",
              "      <td>PG-13</td>\n",
              "      <td>250000000.0</td>\n",
              "      <td>2016.0</td>\n",
              "      <td>6.9</td>\n",
              "      <td>&gt;2008</td>\n",
              "      <td>2564309.1</td>\n",
              "    </tr>\n",
              "    <tr>\n",
              "      <th>11</th>\n",
              "      <td>240396</td>\n",
              "      <td>2367.0</td>\n",
              "      <td>English</td>\n",
              "      <td>USA</td>\n",
              "      <td>PG-13</td>\n",
              "      <td>209000000.0</td>\n",
              "      <td>2006.0</td>\n",
              "      <td>6.1</td>\n",
              "      <td>&lt;2008</td>\n",
              "      <td>1466415.6</td>\n",
              "    </tr>\n",
              "  </tbody>\n",
              "</table>\n",
              "</div>"
            ],
            "text/plain": [
              "    num_voted_users  num_user_for_reviews language country content_rating  \\\n",
              "5            212204                 738.0  English     USA          PG-13   \n",
              "6            383056                1902.0  English     USA          PG-13   \n",
              "7            294810                 387.0  English     USA             PG   \n",
              "8            462669                1117.0  English     USA          PG-13   \n",
              "9            321795                 973.0  English      UK             PG   \n",
              "10           371639                3018.0  English     USA          PG-13   \n",
              "11           240396                2367.0  English     USA          PG-13   \n",
              "\n",
              "         budget  title_year  imdb_score year_flag   imdb_tot  \n",
              "5   263700000.0      2012.0         6.6     >2008  1400546.4  \n",
              "6   258000000.0      2007.0         6.2     <2008  2374947.2  \n",
              "7   260000000.0      2010.0         7.8     >2008  2299518.0  \n",
              "8   250000000.0      2015.0         7.5     >2008  3470017.5  \n",
              "9   250000000.0      2009.0         7.5     >2008  2413462.5  \n",
              "10  250000000.0      2016.0         6.9     >2008  2564309.1  \n",
              "11  209000000.0      2006.0         6.1     <2008  1466415.6  "
            ]
          },
          "metadata": {
            "tags": []
          },
          "execution_count": 110
        }
      ]
    },
    {
      "cell_type": "markdown",
      "metadata": {
        "id": "CtsApFMvam7G",
        "colab_type": "text"
      },
      "source": [
        "### End"
      ]
    },
    {
      "cell_type": "code",
      "metadata": {
        "id": "qc0dt3hzoT3E",
        "colab_type": "code",
        "colab": {}
      },
      "source": [
        "High_vote_rating = pd.DataFrame({'director_name': ['Frank Darabont','Francis Ford Coppola','Christopher Nolan','Peter Jackson','Quentin Tarantino','Christopher Nolan'],\n",
        "                   'imdb_rating': [9.3, 9.2, 9.0, 8.9, 8.9, 8.8],\n",
        "                   'year': [1994.0,1972.0,2008.0,2003.0,1994.0,2010.0], \n",
        "                   'movie_name': ['The Shawshank Redemption','The Godfather','The Dark Knight','The Lord of the Rings: The Return of the King','Pulp Fiction','Inception']})"
      ],
      "execution_count": 0,
      "outputs": []
    },
    {
      "cell_type": "code",
      "metadata": {
        "id": "LrU_wWiIoUsi",
        "colab_type": "code",
        "colab": {
          "base_uri": "https://localhost:8080/",
          "height": 34
        },
        "outputId": "95ddbb75-6f41-44b4-f82b-182762b20c77"
      },
      "source": [
        "High_vote_rating.director_name.nunique()"
      ],
      "execution_count": 113,
      "outputs": [
        {
          "output_type": "execute_result",
          "data": {
            "text/plain": [
              "5"
            ]
          },
          "metadata": {
            "tags": []
          },
          "execution_count": 113
        }
      ]
    },
    {
      "cell_type": "code",
      "metadata": {
        "id": "hIxak92Qocwm",
        "colab_type": "code",
        "colab": {
          "base_uri": "https://localhost:8080/",
          "height": 235
        },
        "outputId": "7d40bd4b-9490-4003-e045-b6cbc4cc8dcb"
      },
      "source": [
        "High_vote_rating"
      ],
      "execution_count": 114,
      "outputs": [
        {
          "output_type": "execute_result",
          "data": {
            "text/html": [
              "<div>\n",
              "<style scoped>\n",
              "    .dataframe tbody tr th:only-of-type {\n",
              "        vertical-align: middle;\n",
              "    }\n",
              "\n",
              "    .dataframe tbody tr th {\n",
              "        vertical-align: top;\n",
              "    }\n",
              "\n",
              "    .dataframe thead th {\n",
              "        text-align: right;\n",
              "    }\n",
              "</style>\n",
              "<table border=\"1\" class=\"dataframe\">\n",
              "  <thead>\n",
              "    <tr style=\"text-align: right;\">\n",
              "      <th></th>\n",
              "      <th>director_name</th>\n",
              "      <th>imdb_rating</th>\n",
              "      <th>year</th>\n",
              "      <th>movie_name</th>\n",
              "    </tr>\n",
              "  </thead>\n",
              "  <tbody>\n",
              "    <tr>\n",
              "      <th>0</th>\n",
              "      <td>Frank Darabont</td>\n",
              "      <td>9.3</td>\n",
              "      <td>1994.0</td>\n",
              "      <td>The Shawshank Redemption</td>\n",
              "    </tr>\n",
              "    <tr>\n",
              "      <th>1</th>\n",
              "      <td>Francis Ford Coppola</td>\n",
              "      <td>9.2</td>\n",
              "      <td>1972.0</td>\n",
              "      <td>The Godfather</td>\n",
              "    </tr>\n",
              "    <tr>\n",
              "      <th>2</th>\n",
              "      <td>Christopher Nolan</td>\n",
              "      <td>9.0</td>\n",
              "      <td>2008.0</td>\n",
              "      <td>The Dark Knight</td>\n",
              "    </tr>\n",
              "    <tr>\n",
              "      <th>3</th>\n",
              "      <td>Peter Jackson</td>\n",
              "      <td>8.9</td>\n",
              "      <td>2003.0</td>\n",
              "      <td>The Lord of the Rings: The Return of the King</td>\n",
              "    </tr>\n",
              "    <tr>\n",
              "      <th>4</th>\n",
              "      <td>Quentin Tarantino</td>\n",
              "      <td>8.9</td>\n",
              "      <td>1994.0</td>\n",
              "      <td>Pulp Fiction</td>\n",
              "    </tr>\n",
              "    <tr>\n",
              "      <th>5</th>\n",
              "      <td>Christopher Nolan</td>\n",
              "      <td>8.8</td>\n",
              "      <td>2010.0</td>\n",
              "      <td>Inception</td>\n",
              "    </tr>\n",
              "  </tbody>\n",
              "</table>\n",
              "</div>"
            ],
            "text/plain": [
              "          director_name  imdb_rating    year  \\\n",
              "0        Frank Darabont          9.3  1994.0   \n",
              "1  Francis Ford Coppola          9.2  1972.0   \n",
              "2     Christopher Nolan          9.0  2008.0   \n",
              "3         Peter Jackson          8.9  2003.0   \n",
              "4     Quentin Tarantino          8.9  1994.0   \n",
              "5     Christopher Nolan          8.8  2010.0   \n",
              "\n",
              "                                      movie_name  \n",
              "0                       The Shawshank Redemption  \n",
              "1                                  The Godfather  \n",
              "2                                The Dark Knight  \n",
              "3  The Lord of the Rings: The Return of the King  \n",
              "4                                   Pulp Fiction  \n",
              "5                                      Inception  "
            ]
          },
          "metadata": {
            "tags": []
          },
          "execution_count": 114
        }
      ]
    },
    {
      "cell_type": "code",
      "metadata": {
        "id": "FqXwQ8Klopv-",
        "colab_type": "code",
        "colab": {
          "base_uri": "https://localhost:8080/",
          "height": 280
        },
        "outputId": "f1854ad5-859a-4cf9-af38-de2ab1089d50"
      },
      "source": [
        "imdb_vs_year = High_vote_rating.plot.scatter(x='imdb_rating',y='year')"
      ],
      "execution_count": 128,
      "outputs": [
        {
          "output_type": "display_data",
          "data": {
            "image/png": "[encoded data removed]",
            "text/plain": [
              "<Figure size 432x288 with 1 Axes>"
            ]
          },
          "metadata": {
            "tags": [],
            "needs_background": "light"
          }
        }
      ]
    },
    {
      "cell_type": "code",
      "metadata": {
        "id": "AyU0mD9_o7R3",
        "colab_type": "code",
        "colab": {
          "base_uri": "https://localhost:8080/",
          "height": 315
        },
        "outputId": "2e8a896b-167a-42e9-9443-83369d2c58b3"
      },
      "source": [
        "High_vote_rating.hist(column='imdb_rating')"
      ],
      "execution_count": 120,
      "outputs": [
        {
          "output_type": "execute_result",
          "data": {
            "text/plain": [
              "array([[<matplotlib.axes._subplots.AxesSubplot object at 0x7fcac3932b38>]],\n",
              "      dtype=object)"
            ]
          },
          "metadata": {
            "tags": []
          },
          "execution_count": 120
        },
        {
          "output_type": "display_data",
          "data": {
            "image/png": "[encoded data removed]",
            "text/plain": [
              "<Figure size 432x288 with 1 Axes>"
            ]
          },
          "metadata": {
            "tags": [],
            "needs_background": "light"
          }
        }
      ]
    },
    {
      "cell_type": "code",
      "metadata": {
        "id": "RnyvegrEpw0U",
        "colab_type": "code",
        "colab": {
          "base_uri": "https://localhost:8080/",
          "height": 68
        },
        "outputId": "41fa1010-4494-4994-98a6-aa2a4feed7a8"
      },
      "source": [
        "for i in High_vote_rating['year']:\n",
        "  yearlist=High_vote_rating['year'] + 1\n",
        "yearlist[-5:-3]"
      ],
      "execution_count": 124,
      "outputs": [
        {
          "output_type": "execute_result",
          "data": {
            "text/plain": [
              "1    1973.0\n",
              "2    2009.0\n",
              "Name: year, dtype: float64"
            ]
          },
          "metadata": {
            "tags": []
          },
          "execution_count": 124
        }
      ]
    },
    {
      "cell_type": "code",
      "metadata": {
        "id": "4ZA3vbeGqVDE",
        "colab_type": "code",
        "colab": {
          "base_uri": "https://localhost:8080/",
          "height": 266
        },
        "outputId": "f2f4393b-2b33-4c59-be3d-f78a18c72fde"
      },
      "source": [
        "High_vote_rating.describe(percentiles=[0.81])\n"
      ],
      "execution_count": 127,
      "outputs": [
        {
          "output_type": "execute_result",
          "data": {
            "text/html": [
              "<div>\n",
              "<style scoped>\n",
              "    .dataframe tbody tr th:only-of-type {\n",
              "        vertical-align: middle;\n",
              "    }\n",
              "\n",
              "    .dataframe tbody tr th {\n",
              "        vertical-align: top;\n",
              "    }\n",
              "\n",
              "    .dataframe thead th {\n",
              "        text-align: right;\n",
              "    }\n",
              "</style>\n",
              "<table border=\"1\" class=\"dataframe\">\n",
              "  <thead>\n",
              "    <tr style=\"text-align: right;\">\n",
              "      <th></th>\n",
              "      <th>imdb_rating</th>\n",
              "      <th>year</th>\n",
              "    </tr>\n",
              "  </thead>\n",
              "  <tbody>\n",
              "    <tr>\n",
              "      <th>count</th>\n",
              "      <td>6.000000</td>\n",
              "      <td>6.000000</td>\n",
              "    </tr>\n",
              "    <tr>\n",
              "      <th>mean</th>\n",
              "      <td>9.016667</td>\n",
              "      <td>1996.833333</td>\n",
              "    </tr>\n",
              "    <tr>\n",
              "      <th>std</th>\n",
              "      <td>0.194079</td>\n",
              "      <td>13.920010</td>\n",
              "    </tr>\n",
              "    <tr>\n",
              "      <th>min</th>\n",
              "      <td>8.800000</td>\n",
              "      <td>1972.000000</td>\n",
              "    </tr>\n",
              "    <tr>\n",
              "      <th>50%</th>\n",
              "      <td>8.950000</td>\n",
              "      <td>1998.500000</td>\n",
              "    </tr>\n",
              "    <tr>\n",
              "      <th>81%</th>\n",
              "      <td>9.205000</td>\n",
              "      <td>2008.100000</td>\n",
              "    </tr>\n",
              "    <tr>\n",
              "      <th>max</th>\n",
              "      <td>9.300000</td>\n",
              "      <td>2010.000000</td>\n",
              "    </tr>\n",
              "  </tbody>\n",
              "</table>\n",
              "</div>"
            ],
            "text/plain": [
              "       imdb_rating         year\n",
              "count     6.000000     6.000000\n",
              "mean      9.016667  1996.833333\n",
              "std       0.194079    13.920010\n",
              "min       8.800000  1972.000000\n",
              "50%       8.950000  1998.500000\n",
              "81%       9.205000  2008.100000\n",
              "max       9.300000  2010.000000"
            ]
          },
          "metadata": {
            "tags": []
          },
          "execution_count": 127
        }
      ]
    },
    {
      "cell_type": "code",
      "metadata": {
        "id": "8NjgVGxZrQo0",
        "colab_type": "code",
        "colab": {}
      },
      "source": [
        ""
      ],
      "execution_count": 0,
      "outputs": []
    }
  ]
}