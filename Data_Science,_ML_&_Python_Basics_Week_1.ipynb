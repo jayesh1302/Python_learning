{
  "nbformat": 4,
  "nbformat_minor": 0,
  "metadata": {
    "kernelspec": {
      "display_name": "Python 3",
      "language": "python",
      "name": "python3"
    },
    "language_info": {
      "codemirror_mode": {
        "name": "ipython",
        "version": 3
      },
      "file_extension": ".py",
      "mimetype": "text/x-python",
      "name": "python",
      "nbconvert_exporter": "python",
      "pygments_lexer": "ipython3",
      "version": "3.6.3"
    },
    "colab": {
      "name": "Data Science, ML & Python Basics Week 1.ipynb",
      "provenance": []
    }
  },
  "cells": [
    {
      "cell_type": "markdown",
      "metadata": {
        "id": "Mgax7oOkhAs6",
        "colab_type": "text"
      },
      "source": [
        "# Week 1: Intro to Python for Data Science (Data Types, Data Structures)"
      ]
    },
    {
      "cell_type": "code",
      "metadata": {
        "id": "uo1JIa1FhAtD",
        "colab_type": "code",
        "colab": {
          "base_uri": "https://localhost:8080/",
          "height": 34
        },
        "outputId": "0cba19dd-9752-497a-86dc-cb4546319ccd"
      },
      "source": [
        "#First Program\n",
        "print(\"learning python for data science\")"
      ],
      "execution_count": 1,
      "outputs": [
        {
          "output_type": "stream",
          "text": [
            "learning python for data science\n"
          ],
          "name": "stdout"
        }
      ]
    },
    {
      "cell_type": "markdown",
      "metadata": {
        "id": "LPHZ6pLZhAta",
        "colab_type": "text"
      },
      "source": [
        "## data types in python"
      ]
    },
    {
      "cell_type": "code",
      "metadata": {
        "id": "7z9rPFfIhAte",
        "colab_type": "code",
        "colab": {}
      },
      "source": [
        "# 1: (int for Integer)\n",
        "# 2.34: (float for Real number)\n",
        "# \"hello\": (Str for String)\n",
        "# TRUE/FALSE: (bool for Boolean)"
      ],
      "execution_count": 0,
      "outputs": []
    },
    {
      "cell_type": "code",
      "metadata": {
        "id": "iR4Ud9ZBhAts",
        "colab_type": "code",
        "colab": {
          "base_uri": "https://localhost:8080/",
          "height": 34
        },
        "outputId": "1e982420-cea3-4168-d51c-aa14dea0fef6"
      },
      "source": [
        "type(\"Hello\")\n",
        "type(3.44)"
      ],
      "execution_count": 3,
      "outputs": [
        {
          "output_type": "execute_result",
          "data": {
            "text/plain": [
              "float"
            ]
          },
          "metadata": {
            "tags": []
          },
          "execution_count": 3
        }
      ]
    },
    {
      "cell_type": "code",
      "metadata": {
        "id": "eWxfBXu0hAt3",
        "colab_type": "code",
        "colab": {}
      },
      "source": [
        "# code for getting multiple outputs from a jupyter cell\n",
        "from IPython.core.interactiveshell import InteractiveShell\n",
        "InteractiveShell.ast_node_interactivity = \"all\""
      ],
      "execution_count": 0,
      "outputs": []
    },
    {
      "cell_type": "code",
      "metadata": {
        "id": "xTqGJh7ShAuH",
        "colab_type": "code",
        "colab": {
          "base_uri": "https://localhost:8080/",
          "height": 34
        },
        "outputId": "cacd7243-f25e-42ef-a246-fcd39ffb0268"
      },
      "source": [
        "type(\"Hello\")\n",
        "type(3.44)"
      ],
      "execution_count": 5,
      "outputs": [
        {
          "output_type": "execute_result",
          "data": {
            "text/plain": [
              "str"
            ]
          },
          "metadata": {
            "tags": []
          },
          "execution_count": 5
        },
        {
          "output_type": "execute_result",
          "data": {
            "text/plain": [
              "float"
            ]
          },
          "metadata": {
            "tags": []
          },
          "execution_count": 5
        }
      ]
    },
    {
      "cell_type": "code",
      "metadata": {
        "id": "V6qNhXWihAuf",
        "colab_type": "code",
        "colab": {
          "base_uri": "https://localhost:8080/",
          "height": 34
        },
        "outputId": "73276f49-0611-45c5-c1ba-04e68a59c7e4"
      },
      "source": [
        "type(3)"
      ],
      "execution_count": 6,
      "outputs": [
        {
          "output_type": "execute_result",
          "data": {
            "text/plain": [
              "int"
            ]
          },
          "metadata": {
            "tags": []
          },
          "execution_count": 6
        }
      ]
    },
    {
      "cell_type": "code",
      "metadata": {
        "id": "joCna8HlhAuo",
        "colab_type": "code",
        "colab": {
          "base_uri": "https://localhost:8080/",
          "height": 34
        },
        "outputId": "500406fe-b243-4c04-d7ac-9b9b8e05a399"
      },
      "source": [
        "type(True)"
      ],
      "execution_count": 7,
      "outputs": [
        {
          "output_type": "execute_result",
          "data": {
            "text/plain": [
              "bool"
            ]
          },
          "metadata": {
            "tags": []
          },
          "execution_count": 7
        }
      ]
    },
    {
      "cell_type": "markdown",
      "metadata": {
        "id": "GgYQU38IhAu3",
        "colab_type": "text"
      },
      "source": [
        "### Operations and Variables"
      ]
    },
    {
      "cell_type": "markdown",
      "metadata": {
        "id": "kLckUrWYhAu5",
        "colab_type": "text"
      },
      "source": [
        "#### Operations\n",
        "#Basic mathematical operations can be used as it is in Python"
      ]
    },
    {
      "cell_type": "code",
      "metadata": {
        "id": "W6TbDGDDhAu7",
        "colab_type": "code",
        "colab": {
          "base_uri": "https://localhost:8080/",
          "height": 34
        },
        "outputId": "b87630ef-4400-4452-fb9f-94edcafcba39"
      },
      "source": [
        "30+44+12"
      ],
      "execution_count": 8,
      "outputs": [
        {
          "output_type": "execute_result",
          "data": {
            "text/plain": [
              "86"
            ]
          },
          "metadata": {
            "tags": []
          },
          "execution_count": 8
        }
      ]
    },
    {
      "cell_type": "code",
      "metadata": {
        "scrolled": true,
        "id": "d3FvJvyRhAvH",
        "colab_type": "code",
        "colab": {
          "base_uri": "https://localhost:8080/",
          "height": 34
        },
        "outputId": "90432d78-a0d0-4ca8-d78d-fb868be41ed3"
      },
      "source": [
        "12-33"
      ],
      "execution_count": 9,
      "outputs": [
        {
          "output_type": "execute_result",
          "data": {
            "text/plain": [
              "-21"
            ]
          },
          "metadata": {
            "tags": []
          },
          "execution_count": 9
        }
      ]
    },
    {
      "cell_type": "code",
      "metadata": {
        "id": "zfll45nIhAvT",
        "colab_type": "code",
        "colab": {
          "base_uri": "https://localhost:8080/",
          "height": 34
        },
        "outputId": "b3ec1a93-8bb7-4553-b19e-d15f6d1da685"
      },
      "source": [
        "8*2"
      ],
      "execution_count": 10,
      "outputs": [
        {
          "output_type": "execute_result",
          "data": {
            "text/plain": [
              "16"
            ]
          },
          "metadata": {
            "tags": []
          },
          "execution_count": 10
        }
      ]
    },
    {
      "cell_type": "code",
      "metadata": {
        "id": "-Gzk1HjMhAvo",
        "colab_type": "code",
        "colab": {
          "base_uri": "https://localhost:8080/",
          "height": 34
        },
        "outputId": "f613da25-6817-4bcb-f101-dd38487dc587"
      },
      "source": [
        "4/3"
      ],
      "execution_count": 11,
      "outputs": [
        {
          "output_type": "execute_result",
          "data": {
            "text/plain": [
              "1.3333333333333333"
            ]
          },
          "metadata": {
            "tags": []
          },
          "execution_count": 11
        }
      ]
    },
    {
      "cell_type": "markdown",
      "metadata": {
        "id": "I00p9-pRhAv_",
        "colab_type": "text"
      },
      "source": [
        "#### Variables\n",
        "#Variable is a memory location in python to store values"
      ]
    },
    {
      "cell_type": "code",
      "metadata": {
        "id": "S3dD0cHhhAwB",
        "colab_type": "code",
        "colab": {
          "base_uri": "https://localhost:8080/",
          "height": 34
        },
        "outputId": "52080fc5-4b94-4f77-cc39-709038a68f02"
      },
      "source": [
        "var = 38\n",
        "print(var)"
      ],
      "execution_count": 12,
      "outputs": [
        {
          "output_type": "stream",
          "text": [
            "38\n"
          ],
          "name": "stdout"
        }
      ]
    },
    {
      "cell_type": "code",
      "metadata": {
        "id": "bR6TkjYUhAwL",
        "colab_type": "code",
        "colab": {
          "base_uri": "https://localhost:8080/",
          "height": 34
        },
        "outputId": "3329cfe0-929e-4a1e-ec19-08a4f981750d"
      },
      "source": [
        "time_in_mins = 233\n",
        "time_in_hours = time_in_mins/60\n",
        "print(time_in_hours)"
      ],
      "execution_count": 13,
      "outputs": [
        {
          "output_type": "stream",
          "text": [
            "3.8833333333333333\n"
          ],
          "name": "stdout"
        }
      ]
    },
    {
      "cell_type": "code",
      "metadata": {
        "id": "3oNUHoGihAwV",
        "colab_type": "code",
        "colab": {
          "base_uri": "https://localhost:8080/",
          "height": 34
        },
        "outputId": "0d0f6be3-896d-4e24-b89b-15d7f401f417"
      },
      "source": [
        "x = 3 \n",
        "y = 6\n",
        "z = y/x\n",
        "print(z)"
      ],
      "execution_count": 14,
      "outputs": [
        {
          "output_type": "stream",
          "text": [
            "2.0\n"
          ],
          "name": "stdout"
        }
      ]
    },
    {
      "cell_type": "markdown",
      "metadata": {
        "id": "Pto9uUDJhAwn",
        "colab_type": "text"
      },
      "source": [
        "### String operations"
      ]
    },
    {
      "cell_type": "code",
      "metadata": {
        "id": "-MmhMNDdhAwp",
        "colab_type": "code",
        "colab": {
          "base_uri": "https://localhost:8080/",
          "height": 34
        },
        "outputId": "f01db924-40bc-4fc6-c8ca-aa5ea5be8564"
      },
      "source": [
        "# Define a string and assign its value to a variable named Place\n",
        "Place = \"UnitedStates\"\n",
        "print(Place)"
      ],
      "execution_count": 15,
      "outputs": [
        {
          "output_type": "stream",
          "text": [
            "UnitedStates\n"
          ],
          "name": "stdout"
        }
      ]
    },
    {
      "cell_type": "code",
      "metadata": {
        "id": "kDpb67P7hAw0",
        "colab_type": "code",
        "colab": {
          "base_uri": "https://localhost:8080/",
          "height": 34
        },
        "outputId": "c34cf3c7-5846-47fc-ccc6-af56d331f170"
      },
      "source": [
        "# Indexing in Python starts from 0. \n",
        "# Reason : Index n signifies a memory location that is n-elements away from the starting element.\n",
        "\n",
        "print(Place[0])"
      ],
      "execution_count": 16,
      "outputs": [
        {
          "output_type": "stream",
          "text": [
            "U\n"
          ],
          "name": "stdout"
        }
      ]
    },
    {
      "cell_type": "code",
      "metadata": {
        "scrolled": true,
        "id": "bQryHjsdhAw8",
        "colab_type": "code",
        "colab": {
          "base_uri": "https://localhost:8080/",
          "height": 248
        },
        "outputId": "6bc2d7d1-82fb-4f97-cd8a-fda63c03a984"
      },
      "source": [
        "# Negative indexing (counting backwards)\n",
        "print(Place[-1])\n",
        "print(Place[-7:-1])\n",
        "print(Place[-9])\n",
        "print(Place[-13])"
      ],
      "execution_count": 17,
      "outputs": [
        {
          "output_type": "stream",
          "text": [
            "s\n",
            "dState\n",
            "t\n"
          ],
          "name": "stdout"
        },
        {
          "output_type": "error",
          "ename": "IndexError",
          "evalue": "ignored",
          "traceback": [
            "\u001b[0;31m---------------------------------------------------------------------------\u001b[0m",
            "\u001b[0;31mIndexError\u001b[0m                                Traceback (most recent call last)",
            "\u001b[0;32m<ipython-input-17-415e704a9747>\u001b[0m in \u001b[0;36m<module>\u001b[0;34m()\u001b[0m\n\u001b[1;32m      3\u001b[0m \u001b[0mprint\u001b[0m\u001b[0;34m(\u001b[0m\u001b[0mPlace\u001b[0m\u001b[0;34m[\u001b[0m\u001b[0;34m-\u001b[0m\u001b[0;36m7\u001b[0m\u001b[0;34m:\u001b[0m\u001b[0;34m-\u001b[0m\u001b[0;36m1\u001b[0m\u001b[0;34m]\u001b[0m\u001b[0;34m)\u001b[0m\u001b[0;34m\u001b[0m\u001b[0;34m\u001b[0m\u001b[0m\n\u001b[1;32m      4\u001b[0m \u001b[0mprint\u001b[0m\u001b[0;34m(\u001b[0m\u001b[0mPlace\u001b[0m\u001b[0;34m[\u001b[0m\u001b[0;34m-\u001b[0m\u001b[0;36m9\u001b[0m\u001b[0;34m]\u001b[0m\u001b[0;34m)\u001b[0m\u001b[0;34m\u001b[0m\u001b[0;34m\u001b[0m\u001b[0m\n\u001b[0;32m----> 5\u001b[0;31m \u001b[0mprint\u001b[0m\u001b[0;34m(\u001b[0m\u001b[0mPlace\u001b[0m\u001b[0;34m[\u001b[0m\u001b[0;34m-\u001b[0m\u001b[0;36m13\u001b[0m\u001b[0;34m]\u001b[0m\u001b[0;34m)\u001b[0m\u001b[0;34m\u001b[0m\u001b[0;34m\u001b[0m\u001b[0m\n\u001b[0m",
            "\u001b[0;31mIndexError\u001b[0m: string index out of range"
          ]
        }
      ]
    },
    {
      "cell_type": "code",
      "metadata": {
        "scrolled": true,
        "id": "t69TUJLHhAxQ",
        "colab_type": "code",
        "colab": {
          "base_uri": "https://localhost:8080/",
          "height": 34
        },
        "outputId": "2e7dd315-3f0b-4584-b78c-98e843d7312f"
      },
      "source": [
        "len(Place)"
      ],
      "execution_count": 18,
      "outputs": [
        {
          "output_type": "execute_result",
          "data": {
            "text/plain": [
              "12"
            ]
          },
          "metadata": {
            "tags": []
          },
          "execution_count": 18
        }
      ]
    },
    {
      "cell_type": "code",
      "metadata": {
        "id": "ZTIZ27IUhAxc",
        "colab_type": "code",
        "colab": {
          "base_uri": "https://localhost:8080/",
          "height": 34
        },
        "outputId": "acdbca65-f540-4c86-d7a7-173d2849e953"
      },
      "source": [
        "Place[0:3]"
      ],
      "execution_count": 19,
      "outputs": [
        {
          "output_type": "execute_result",
          "data": {
            "text/plain": [
              "'Uni'"
            ]
          },
          "metadata": {
            "tags": []
          },
          "execution_count": 19
        }
      ]
    },
    {
      "cell_type": "code",
      "metadata": {
        "id": "ZEw783bhhAxo",
        "colab_type": "code",
        "colab": {
          "base_uri": "https://localhost:8080/",
          "height": 34
        },
        "outputId": "f29e65cc-4ab7-444e-e183-5e2d111092da"
      },
      "source": [
        "Place[4:6]"
      ],
      "execution_count": 20,
      "outputs": [
        {
          "output_type": "execute_result",
          "data": {
            "text/plain": [
              "'ed'"
            ]
          },
          "metadata": {
            "tags": []
          },
          "execution_count": 20
        }
      ]
    },
    {
      "cell_type": "code",
      "metadata": {
        "id": "V85oz9lvhAxy",
        "colab_type": "code",
        "colab": {
          "base_uri": "https://localhost:8080/",
          "height": 34
        },
        "outputId": "2cb7ade5-5410-41a6-8ed4-4e67c248bf49"
      },
      "source": [
        "fact = Place + \" America\"\n",
        "fact"
      ],
      "execution_count": 21,
      "outputs": [
        {
          "output_type": "execute_result",
          "data": {
            "text/plain": [
              "'UnitedStates America'"
            ]
          },
          "metadata": {
            "tags": []
          },
          "execution_count": 21
        }
      ]
    },
    {
      "cell_type": "code",
      "metadata": {
        "id": "6PFLxl1MhAx_",
        "colab_type": "code",
        "colab": {
          "base_uri": "https://localhost:8080/",
          "height": 51
        },
        "outputId": "4235352b-76b3-4fb0-b698-28baa5cd7c98"
      },
      "source": [
        "X=fact\n",
        "print(\"before upper:\",X)\n",
        "Y= X.upper()\n",
        "print(\"After upper:\",Y)"
      ],
      "execution_count": 22,
      "outputs": [
        {
          "output_type": "stream",
          "text": [
            "before upper: UnitedStates America\n",
            "After upper: UNITEDSTATES AMERICA\n"
          ],
          "name": "stdout"
        }
      ]
    },
    {
      "cell_type": "code",
      "metadata": {
        "scrolled": true,
        "id": "oC-8WWxehAyI",
        "colab_type": "code",
        "colab": {
          "base_uri": "https://localhost:8080/",
          "height": 34
        },
        "outputId": "75b45061-08ec-4310-d116-4b9eb0ecc70a"
      },
      "source": [
        "X"
      ],
      "execution_count": 23,
      "outputs": [
        {
          "output_type": "execute_result",
          "data": {
            "text/plain": [
              "'UnitedStates America'"
            ]
          },
          "metadata": {
            "tags": []
          },
          "execution_count": 23
        }
      ]
    },
    {
      "cell_type": "code",
      "metadata": {
        "scrolled": true,
        "id": "quZ8sTIAhAyU",
        "colab_type": "code",
        "colab": {
          "base_uri": "https://localhost:8080/",
          "height": 34
        },
        "outputId": "ebbd7acf-8a5c-435d-98e0-4b16cbf68ea4"
      },
      "source": [
        "Y=X.replace('UnitedStates ', 'Z')\n",
        "Y"
      ],
      "execution_count": 24,
      "outputs": [
        {
          "output_type": "execute_result",
          "data": {
            "text/plain": [
              "'ZAmerica'"
            ]
          },
          "metadata": {
            "tags": []
          },
          "execution_count": 24
        }
      ]
    },
    {
      "cell_type": "code",
      "metadata": {
        "id": "Psv6_cpbhAyd",
        "colab_type": "code",
        "colab": {}
      },
      "source": [
        "Y = Y.replace('i',\"\")"
      ],
      "execution_count": 0,
      "outputs": []
    },
    {
      "cell_type": "code",
      "metadata": {
        "id": "nSJurqmhhAyl",
        "colab_type": "code",
        "colab": {
          "base_uri": "https://localhost:8080/",
          "height": 34
        },
        "outputId": "1ad24483-b1e6-468e-e19d-de99b653ea22"
      },
      "source": [
        "print(Y)"
      ],
      "execution_count": 27,
      "outputs": [
        {
          "output_type": "stream",
          "text": [
            "ZAmerca\n"
          ],
          "name": "stdout"
        }
      ]
    },
    {
      "cell_type": "code",
      "metadata": {
        "id": "EuTBdvZMhAyv",
        "colab_type": "code",
        "colab": {
          "base_uri": "https://localhost:8080/",
          "height": 34
        },
        "outputId": "72c4142a-1b22-4074-d98d-febb15585c31"
      },
      "source": [
        "len(X)"
      ],
      "execution_count": 28,
      "outputs": [
        {
          "output_type": "execute_result",
          "data": {
            "text/plain": [
              "20"
            ]
          },
          "metadata": {
            "tags": []
          },
          "execution_count": 28
        }
      ]
    },
    {
      "cell_type": "code",
      "metadata": {
        "scrolled": true,
        "id": "Hn3EQOFnhAzG",
        "colab_type": "code",
        "colab": {
          "base_uri": "https://localhost:8080/",
          "height": 34
        },
        "outputId": "fdf02a51-275e-4960-fe4d-2520a645351d"
      },
      "source": [
        "X"
      ],
      "execution_count": 29,
      "outputs": [
        {
          "output_type": "execute_result",
          "data": {
            "text/plain": [
              "'UnitedStates America'"
            ]
          },
          "metadata": {
            "tags": []
          },
          "execution_count": 29
        }
      ]
    },
    {
      "cell_type": "code",
      "metadata": {
        "scrolled": false,
        "id": "sWtQynsFhAzO",
        "colab_type": "code",
        "colab": {
          "base_uri": "https://localhost:8080/",
          "height": 34
        },
        "outputId": "f3ee7109-0753-4c5b-c590-03ec4029450b"
      },
      "source": [
        "X.find('America')"
      ],
      "execution_count": 30,
      "outputs": [
        {
          "output_type": "execute_result",
          "data": {
            "text/plain": [
              "13"
            ]
          },
          "metadata": {
            "tags": []
          },
          "execution_count": 30
        }
      ]
    },
    {
      "cell_type": "code",
      "metadata": {
        "id": "0uLbb1jqhAzX",
        "colab_type": "code",
        "colab": {
          "base_uri": "https://localhost:8080/",
          "height": 34
        },
        "outputId": "b1be8332-6c2f-4832-ab7f-b41ce9bfc599"
      },
      "source": [
        "X[-1]"
      ],
      "execution_count": 31,
      "outputs": [
        {
          "output_type": "execute_result",
          "data": {
            "text/plain": [
              "'a'"
            ]
          },
          "metadata": {
            "tags": []
          },
          "execution_count": 31
        }
      ]
    },
    {
      "cell_type": "markdown",
      "metadata": {
        "id": "GxDwyACXhAzm",
        "colab_type": "text"
      },
      "source": [
        "## Python : Data Structures\n",
        "\n",
        "#In python, everything is an object. An object is collection of data points / variables.\n",
        "#Data structures for organizing, manipulating, storing data\n",
        "#4 major data structures : list, dictionaries, tuples, sets"
      ]
    },
    {
      "cell_type": "markdown",
      "metadata": {
        "id": "9tpJLOTohAzo",
        "colab_type": "text"
      },
      "source": [
        "### Lists \n",
        "#In list order stays same and item can be accessed using its position."
      ]
    },
    {
      "cell_type": "code",
      "metadata": {
        "id": "Ou3V0s8JhAzp",
        "colab_type": "code",
        "colab": {}
      },
      "source": [
        "metros = ['Bengaluru','Mumbai','Delhi']"
      ],
      "execution_count": 0,
      "outputs": []
    },
    {
      "cell_type": "code",
      "metadata": {
        "id": "rNU7xRVThAzx",
        "colab_type": "code",
        "colab": {
          "base_uri": "https://localhost:8080/",
          "height": 34
        },
        "outputId": "8eb916bd-bfc6-4e3b-b964-60232fa74654"
      },
      "source": [
        "metros[1]"
      ],
      "execution_count": 33,
      "outputs": [
        {
          "output_type": "execute_result",
          "data": {
            "text/plain": [
              "'Mumbai'"
            ]
          },
          "metadata": {
            "tags": []
          },
          "execution_count": 33
        }
      ]
    },
    {
      "cell_type": "code",
      "metadata": {
        "scrolled": true,
        "id": "bpDvbjv_hAz-",
        "colab_type": "code",
        "colab": {
          "base_uri": "https://localhost:8080/",
          "height": 34
        },
        "outputId": "c43d4d05-0ba7-4b34-c0cd-88c4d820a538"
      },
      "source": [
        "type(metros)"
      ],
      "execution_count": 34,
      "outputs": [
        {
          "output_type": "execute_result",
          "data": {
            "text/plain": [
              "list"
            ]
          },
          "metadata": {
            "tags": []
          },
          "execution_count": 34
        }
      ]
    },
    {
      "cell_type": "code",
      "metadata": {
        "id": "yySMFdr1hA0F",
        "colab_type": "code",
        "colab": {
          "base_uri": "https://localhost:8080/",
          "height": 34
        },
        "outputId": "c3a6211e-4ae0-4783-9594-188f845ece6e"
      },
      "source": [
        "len(metros)"
      ],
      "execution_count": 35,
      "outputs": [
        {
          "output_type": "execute_result",
          "data": {
            "text/plain": [
              "3"
            ]
          },
          "metadata": {
            "tags": []
          },
          "execution_count": 35
        }
      ]
    },
    {
      "cell_type": "code",
      "metadata": {
        "id": "pkqfYiRmhA0N",
        "colab_type": "code",
        "colab": {
          "base_uri": "https://localhost:8080/",
          "height": 34
        },
        "outputId": "1baa26c7-0867-4ff6-cf4f-ea661216601e"
      },
      "source": [
        "metros.append(\"Pune\")\n",
        "metros"
      ],
      "execution_count": 36,
      "outputs": [
        {
          "output_type": "execute_result",
          "data": {
            "text/plain": [
              "['Bengaluru', 'Mumbai', 'Delhi', 'Pune']"
            ]
          },
          "metadata": {
            "tags": []
          },
          "execution_count": 36
        }
      ]
    },
    {
      "cell_type": "code",
      "metadata": {
        "id": "0OK6bsIEhA0X",
        "colab_type": "code",
        "colab": {
          "base_uri": "https://localhost:8080/",
          "height": 34
        },
        "outputId": "0044c635-efb2-402f-8836-12e2ea34cb9a"
      },
      "source": [
        "metros.pop(1)"
      ],
      "execution_count": 37,
      "outputs": [
        {
          "output_type": "execute_result",
          "data": {
            "text/plain": [
              "'Mumbai'"
            ]
          },
          "metadata": {
            "tags": []
          },
          "execution_count": 37
        }
      ]
    },
    {
      "cell_type": "code",
      "metadata": {
        "id": "oqBWLnK4hA0f",
        "colab_type": "code",
        "colab": {
          "base_uri": "https://localhost:8080/",
          "height": 34
        },
        "outputId": "6ccc94c5-f93c-45ad-bb14-f431bef8aefc"
      },
      "source": [
        "metros"
      ],
      "execution_count": 38,
      "outputs": [
        {
          "output_type": "execute_result",
          "data": {
            "text/plain": [
              "['Bengaluru', 'Delhi', 'Pune']"
            ]
          },
          "metadata": {
            "tags": []
          },
          "execution_count": 38
        }
      ]
    },
    {
      "cell_type": "markdown",
      "metadata": {
        "id": "bMUM5uuehA0o",
        "colab_type": "text"
      },
      "source": [
        "### Dictionaries\n",
        "#Unordered and values are accessed by keys. Dictionaries have key-value pairs"
      ]
    },
    {
      "cell_type": "code",
      "metadata": {
        "id": "x0wPdzkyhA0q",
        "colab_type": "code",
        "colab": {}
      },
      "source": [
        "Planet_locations = { \n",
        "  'Mars': 4, # a key-value pair\n",
        "  'Earth': 3,\n",
        "  'Venus': 2,\n",
        "}"
      ],
      "execution_count": 0,
      "outputs": []
    },
    {
      "cell_type": "code",
      "metadata": {
        "id": "QVb_tWUqhA0z",
        "colab_type": "code",
        "colab": {
          "base_uri": "https://localhost:8080/",
          "height": 34
        },
        "outputId": "38f7c127-84ae-4127-b885-f73f3269a5ca"
      },
      "source": [
        "Planet_locations.keys()"
      ],
      "execution_count": 40,
      "outputs": [
        {
          "output_type": "execute_result",
          "data": {
            "text/plain": [
              "dict_keys(['Mars', 'Earth', 'Venus'])"
            ]
          },
          "metadata": {
            "tags": []
          },
          "execution_count": 40
        }
      ]
    },
    {
      "cell_type": "code",
      "metadata": {
        "id": "mhYnzrCkhA1M",
        "colab_type": "code",
        "colab": {
          "base_uri": "https://localhost:8080/",
          "height": 34
        },
        "outputId": "6a5df091-0dac-412f-8596-97be1b28856f"
      },
      "source": [
        "# getting the dta type of dictionary\n",
        "type(Planet_locations)"
      ],
      "execution_count": 41,
      "outputs": [
        {
          "output_type": "execute_result",
          "data": {
            "text/plain": [
              "dict"
            ]
          },
          "metadata": {
            "tags": []
          },
          "execution_count": 41
        }
      ]
    },
    {
      "cell_type": "code",
      "metadata": {
        "id": "0_FEnEMhhA1W",
        "colab_type": "code",
        "colab": {
          "base_uri": "https://localhost:8080/",
          "height": 34
        },
        "outputId": "5ce04e2b-dd2b-4885-b1af-421e785494be"
      },
      "source": [
        "Planet_locations.values()"
      ],
      "execution_count": 42,
      "outputs": [
        {
          "output_type": "execute_result",
          "data": {
            "text/plain": [
              "dict_values([4, 3, 2])"
            ]
          },
          "metadata": {
            "tags": []
          },
          "execution_count": 42
        }
      ]
    },
    {
      "cell_type": "code",
      "metadata": {
        "id": "VjmDsG_ghA1f",
        "colab_type": "code",
        "colab": {
          "base_uri": "https://localhost:8080/",
          "height": 34
        },
        "outputId": "b4b0f80f-897c-4b3b-c3e5-585cba56aaf7"
      },
      "source": [
        "type(Planet_locations.keys())"
      ],
      "execution_count": 43,
      "outputs": [
        {
          "output_type": "execute_result",
          "data": {
            "text/plain": [
              "dict_keys"
            ]
          },
          "metadata": {
            "tags": []
          },
          "execution_count": 43
        }
      ]
    },
    {
      "cell_type": "markdown",
      "metadata": {
        "id": "1ZmZGPKChA1o",
        "colab_type": "text"
      },
      "source": [
        "### Tuples\n",
        "#work like lists except they are immutable which means they can’t be changed in place."
      ]
    },
    {
      "cell_type": "code",
      "metadata": {
        "id": "v4ajr7u6hA1q",
        "colab_type": "code",
        "colab": {
          "base_uri": "https://localhost:8080/",
          "height": 34
        },
        "outputId": "b76aabf9-9cc4-409f-e73d-f2d27c08f18c"
      },
      "source": [
        "p = (1, ) \n",
        "q = ('t', 4, 3, 2) \n",
        "r = ('A', ('B', 'C'))   #Nested Tuple\n",
        "len(p) "
      ],
      "execution_count": 44,
      "outputs": [
        {
          "output_type": "execute_result",
          "data": {
            "text/plain": [
              "1"
            ]
          },
          "metadata": {
            "tags": []
          },
          "execution_count": 44
        }
      ]
    },
    {
      "cell_type": "code",
      "metadata": {
        "id": "MZ_XRqvlhA14",
        "colab_type": "code",
        "colab": {
          "base_uri": "https://localhost:8080/",
          "height": 34
        },
        "outputId": "d8ce7710-a8d4-4652-e75d-1364544450e7"
      },
      "source": [
        "type(p)"
      ],
      "execution_count": 45,
      "outputs": [
        {
          "output_type": "execute_result",
          "data": {
            "text/plain": [
              "tuple"
            ]
          },
          "metadata": {
            "tags": []
          },
          "execution_count": 45
        }
      ]
    },
    {
      "cell_type": "code",
      "metadata": {
        "scrolled": true,
        "id": "BrMsEb-yhA2V",
        "colab_type": "code",
        "colab": {
          "base_uri": "https://localhost:8080/",
          "height": 34
        },
        "outputId": "08be6bf7-9139-4d50-fd7d-5226f8cb4e5a"
      },
      "source": [
        "r[1]\n",
        "r[1][0]"
      ],
      "execution_count": 46,
      "outputs": [
        {
          "output_type": "execute_result",
          "data": {
            "text/plain": [
              "('B', 'C')"
            ]
          },
          "metadata": {
            "tags": []
          },
          "execution_count": 46
        },
        {
          "output_type": "execute_result",
          "data": {
            "text/plain": [
              "'B'"
            ]
          },
          "metadata": {
            "tags": []
          },
          "execution_count": 46
        }
      ]
    },
    {
      "cell_type": "markdown",
      "metadata": {
        "id": "EFxot6K7hA2r",
        "colab_type": "text"
      },
      "source": [
        "### Sets\n",
        "#Collection of unique items in an unordered and unindexed manner. \n",
        "#Set operations like union, intersection work on them"
      ]
    },
    {
      "cell_type": "code",
      "metadata": {
        "id": "xaPhmGhWhA2s",
        "colab_type": "code",
        "colab": {
          "base_uri": "https://localhost:8080/",
          "height": 34
        },
        "outputId": "85d3723d-613e-41c2-b5d2-3eeebf45744d"
      },
      "source": [
        "# Defining 2 sets\n",
        "Planets = {'venus','Earth','Mars'}\n",
        "locations = {2,3,4}\n",
        "Planet_locations = Planets.union(locations)\n",
        "Planets\n",
        "locations\n",
        "Planet_locations"
      ],
      "execution_count": 47,
      "outputs": [
        {
          "output_type": "execute_result",
          "data": {
            "text/plain": [
              "{'Earth', 'Mars', 'venus'}"
            ]
          },
          "metadata": {
            "tags": []
          },
          "execution_count": 47
        },
        {
          "output_type": "execute_result",
          "data": {
            "text/plain": [
              "{2, 3, 4}"
            ]
          },
          "metadata": {
            "tags": []
          },
          "execution_count": 47
        },
        {
          "output_type": "execute_result",
          "data": {
            "text/plain": [
              "{2, 3, 4, 'Earth', 'Mars', 'venus'}"
            ]
          },
          "metadata": {
            "tags": []
          },
          "execution_count": 47
        }
      ]
    },
    {
      "cell_type": "markdown",
      "metadata": {
        "id": "GN7LvUO5hA21",
        "colab_type": "text"
      },
      "source": [
        "## NumPy and pandas libraries"
      ]
    },
    {
      "cell_type": "code",
      "metadata": {
        "id": "7t0Kl8MvhA22",
        "colab_type": "code",
        "colab": {}
      },
      "source": [
        "#Numpy(Numerical Python) is a mathematical library and its helpful as its allow to use arrays in python."
      ],
      "execution_count": 0,
      "outputs": []
    },
    {
      "cell_type": "code",
      "metadata": {
        "id": "zwv9fevQhA3B",
        "colab_type": "code",
        "colab": {
          "base_uri": "https://localhost:8080/",
          "height": 34
        },
        "outputId": "89f37c20-761c-4a1b-df47-83baadc7f0cd"
      },
      "source": [
        "import numpy as np\n",
        "b = np.array([1,2,3,4,5])\n",
        "b"
      ],
      "execution_count": 49,
      "outputs": [
        {
          "output_type": "execute_result",
          "data": {
            "text/plain": [
              "array([1, 2, 3, 4, 5])"
            ]
          },
          "metadata": {
            "tags": []
          },
          "execution_count": 49
        }
      ]
    },
    {
      "cell_type": "code",
      "metadata": {
        "collapsed": true,
        "id": "DoCoyLJ6hA3I",
        "colab_type": "code",
        "colab": {
          "base_uri": "https://localhost:8080/",
          "height": 867
        },
        "outputId": "31296eff-ec83-468c-d6e3-e5af8167220d"
      },
      "source": [
        "a = np.random.randint(0,50,size=(50, 5))\n",
        "a"
      ],
      "execution_count": 50,
      "outputs": [
        {
          "output_type": "execute_result",
          "data": {
            "text/plain": [
              "array([[16, 49, 27,  4, 48],\n",
              "       [22,  2, 40, 38, 46],\n",
              "       [49,  4, 13, 36, 33],\n",
              "       [26, 14, 43, 12, 22],\n",
              "       [31, 17,  2, 48, 16],\n",
              "       [ 1, 34, 19, 45,  5],\n",
              "       [43, 35, 38, 45, 25],\n",
              "       [ 5, 23, 24,  9, 20],\n",
              "       [ 5,  3, 19, 38, 37],\n",
              "       [43, 18,  9, 21, 15],\n",
              "       [10, 35, 49, 30, 19],\n",
              "       [42, 10, 21,  2, 29],\n",
              "       [49, 41, 47, 11, 48],\n",
              "       [24, 32, 10, 23, 17],\n",
              "       [30, 13,  2, 13, 28],\n",
              "       [39, 38, 13, 39, 16],\n",
              "       [10, 16, 47, 35, 13],\n",
              "       [47, 40, 14, 35, 41],\n",
              "       [49, 25, 14,  3,  1],\n",
              "       [13, 23, 46,  8, 38],\n",
              "       [34, 34, 45, 10, 34],\n",
              "       [14, 23, 47, 39, 41],\n",
              "       [47, 21, 41,  5, 22],\n",
              "       [38, 16, 25,  5, 45],\n",
              "       [ 6, 41, 41, 40, 26],\n",
              "       [22, 30, 11, 19, 36],\n",
              "       [49, 41, 31, 16, 13],\n",
              "       [37, 38, 46, 12, 32],\n",
              "       [30, 15, 46, 42, 12],\n",
              "       [10, 28, 36,  2, 24],\n",
              "       [20, 23, 24, 17, 43],\n",
              "       [23, 24,  2, 15, 28],\n",
              "       [ 5,  8, 31, 43, 39],\n",
              "       [36, 36, 11, 35, 46],\n",
              "       [19,  6, 15, 14, 32],\n",
              "       [ 2, 42, 38, 27, 40],\n",
              "       [26, 39, 26, 22,  6],\n",
              "       [39, 17, 14, 19,  8],\n",
              "       [26, 29, 19, 24, 44],\n",
              "       [28, 12, 35, 17, 34],\n",
              "       [37, 16, 17, 31, 36],\n",
              "       [11, 36, 35, 29, 17],\n",
              "       [10, 20,  9,  3, 28],\n",
              "       [42, 21, 37, 22, 48],\n",
              "       [39, 49,  4,  1, 25],\n",
              "       [26, 23, 38, 33, 12],\n",
              "       [ 0, 29, 49, 19, 38],\n",
              "       [24, 23, 43, 25, 46],\n",
              "       [27,  4,  6, 20,  8],\n",
              "       [12, 49, 14, 11,  3]])"
            ]
          },
          "metadata": {
            "tags": []
          },
          "execution_count": 50
        }
      ]
    },
    {
      "cell_type": "markdown",
      "metadata": {
        "id": "jgqkYHqXhA3R",
        "colab_type": "text"
      },
      "source": [
        "### pandas DataFrame\n",
        "#pandas is a python library mainly used for data manipulation. DataFrame is its key data structure. \n",
        "#Its similar to data table, database, spreadsheet "
      ]
    },
    {
      "cell_type": "code",
      "metadata": {
        "collapsed": true,
        "id": "Nx_EwPDBhA3f",
        "colab_type": "code",
        "colab": {
          "base_uri": "https://localhost:8080/",
          "height": 1000
        },
        "outputId": "7649759c-5023-474c-e4b4-14cbd0556583"
      },
      "source": [
        "import pandas as pd \n",
        "\n",
        "# Create the pandas DataFrame \n",
        "\n",
        "df = pd.DataFrame(a, columns=list('PQRST'))\n",
        "df"
      ],
      "execution_count": 51,
      "outputs": [
        {
          "output_type": "execute_result",
          "data": {
            "text/html": [
              "<div>\n",
              "<style scoped>\n",
              "    .dataframe tbody tr th:only-of-type {\n",
              "        vertical-align: middle;\n",
              "    }\n",
              "\n",
              "    .dataframe tbody tr th {\n",
              "        vertical-align: top;\n",
              "    }\n",
              "\n",
              "    .dataframe thead th {\n",
              "        text-align: right;\n",
              "    }\n",
              "</style>\n",
              "<table border=\"1\" class=\"dataframe\">\n",
              "  <thead>\n",
              "    <tr style=\"text-align: right;\">\n",
              "      <th></th>\n",
              "      <th>P</th>\n",
              "      <th>Q</th>\n",
              "      <th>R</th>\n",
              "      <th>S</th>\n",
              "      <th>T</th>\n",
              "    </tr>\n",
              "  </thead>\n",
              "  <tbody>\n",
              "    <tr>\n",
              "      <th>0</th>\n",
              "      <td>16</td>\n",
              "      <td>49</td>\n",
              "      <td>27</td>\n",
              "      <td>4</td>\n",
              "      <td>48</td>\n",
              "    </tr>\n",
              "    <tr>\n",
              "      <th>1</th>\n",
              "      <td>22</td>\n",
              "      <td>2</td>\n",
              "      <td>40</td>\n",
              "      <td>38</td>\n",
              "      <td>46</td>\n",
              "    </tr>\n",
              "    <tr>\n",
              "      <th>2</th>\n",
              "      <td>49</td>\n",
              "      <td>4</td>\n",
              "      <td>13</td>\n",
              "      <td>36</td>\n",
              "      <td>33</td>\n",
              "    </tr>\n",
              "    <tr>\n",
              "      <th>3</th>\n",
              "      <td>26</td>\n",
              "      <td>14</td>\n",
              "      <td>43</td>\n",
              "      <td>12</td>\n",
              "      <td>22</td>\n",
              "    </tr>\n",
              "    <tr>\n",
              "      <th>4</th>\n",
              "      <td>31</td>\n",
              "      <td>17</td>\n",
              "      <td>2</td>\n",
              "      <td>48</td>\n",
              "      <td>16</td>\n",
              "    </tr>\n",
              "    <tr>\n",
              "      <th>5</th>\n",
              "      <td>1</td>\n",
              "      <td>34</td>\n",
              "      <td>19</td>\n",
              "      <td>45</td>\n",
              "      <td>5</td>\n",
              "    </tr>\n",
              "    <tr>\n",
              "      <th>6</th>\n",
              "      <td>43</td>\n",
              "      <td>35</td>\n",
              "      <td>38</td>\n",
              "      <td>45</td>\n",
              "      <td>25</td>\n",
              "    </tr>\n",
              "    <tr>\n",
              "      <th>7</th>\n",
              "      <td>5</td>\n",
              "      <td>23</td>\n",
              "      <td>24</td>\n",
              "      <td>9</td>\n",
              "      <td>20</td>\n",
              "    </tr>\n",
              "    <tr>\n",
              "      <th>8</th>\n",
              "      <td>5</td>\n",
              "      <td>3</td>\n",
              "      <td>19</td>\n",
              "      <td>38</td>\n",
              "      <td>37</td>\n",
              "    </tr>\n",
              "    <tr>\n",
              "      <th>9</th>\n",
              "      <td>43</td>\n",
              "      <td>18</td>\n",
              "      <td>9</td>\n",
              "      <td>21</td>\n",
              "      <td>15</td>\n",
              "    </tr>\n",
              "    <tr>\n",
              "      <th>10</th>\n",
              "      <td>10</td>\n",
              "      <td>35</td>\n",
              "      <td>49</td>\n",
              "      <td>30</td>\n",
              "      <td>19</td>\n",
              "    </tr>\n",
              "    <tr>\n",
              "      <th>11</th>\n",
              "      <td>42</td>\n",
              "      <td>10</td>\n",
              "      <td>21</td>\n",
              "      <td>2</td>\n",
              "      <td>29</td>\n",
              "    </tr>\n",
              "    <tr>\n",
              "      <th>12</th>\n",
              "      <td>49</td>\n",
              "      <td>41</td>\n",
              "      <td>47</td>\n",
              "      <td>11</td>\n",
              "      <td>48</td>\n",
              "    </tr>\n",
              "    <tr>\n",
              "      <th>13</th>\n",
              "      <td>24</td>\n",
              "      <td>32</td>\n",
              "      <td>10</td>\n",
              "      <td>23</td>\n",
              "      <td>17</td>\n",
              "    </tr>\n",
              "    <tr>\n",
              "      <th>14</th>\n",
              "      <td>30</td>\n",
              "      <td>13</td>\n",
              "      <td>2</td>\n",
              "      <td>13</td>\n",
              "      <td>28</td>\n",
              "    </tr>\n",
              "    <tr>\n",
              "      <th>15</th>\n",
              "      <td>39</td>\n",
              "      <td>38</td>\n",
              "      <td>13</td>\n",
              "      <td>39</td>\n",
              "      <td>16</td>\n",
              "    </tr>\n",
              "    <tr>\n",
              "      <th>16</th>\n",
              "      <td>10</td>\n",
              "      <td>16</td>\n",
              "      <td>47</td>\n",
              "      <td>35</td>\n",
              "      <td>13</td>\n",
              "    </tr>\n",
              "    <tr>\n",
              "      <th>17</th>\n",
              "      <td>47</td>\n",
              "      <td>40</td>\n",
              "      <td>14</td>\n",
              "      <td>35</td>\n",
              "      <td>41</td>\n",
              "    </tr>\n",
              "    <tr>\n",
              "      <th>18</th>\n",
              "      <td>49</td>\n",
              "      <td>25</td>\n",
              "      <td>14</td>\n",
              "      <td>3</td>\n",
              "      <td>1</td>\n",
              "    </tr>\n",
              "    <tr>\n",
              "      <th>19</th>\n",
              "      <td>13</td>\n",
              "      <td>23</td>\n",
              "      <td>46</td>\n",
              "      <td>8</td>\n",
              "      <td>38</td>\n",
              "    </tr>\n",
              "    <tr>\n",
              "      <th>20</th>\n",
              "      <td>34</td>\n",
              "      <td>34</td>\n",
              "      <td>45</td>\n",
              "      <td>10</td>\n",
              "      <td>34</td>\n",
              "    </tr>\n",
              "    <tr>\n",
              "      <th>21</th>\n",
              "      <td>14</td>\n",
              "      <td>23</td>\n",
              "      <td>47</td>\n",
              "      <td>39</td>\n",
              "      <td>41</td>\n",
              "    </tr>\n",
              "    <tr>\n",
              "      <th>22</th>\n",
              "      <td>47</td>\n",
              "      <td>21</td>\n",
              "      <td>41</td>\n",
              "      <td>5</td>\n",
              "      <td>22</td>\n",
              "    </tr>\n",
              "    <tr>\n",
              "      <th>23</th>\n",
              "      <td>38</td>\n",
              "      <td>16</td>\n",
              "      <td>25</td>\n",
              "      <td>5</td>\n",
              "      <td>45</td>\n",
              "    </tr>\n",
              "    <tr>\n",
              "      <th>24</th>\n",
              "      <td>6</td>\n",
              "      <td>41</td>\n",
              "      <td>41</td>\n",
              "      <td>40</td>\n",
              "      <td>26</td>\n",
              "    </tr>\n",
              "    <tr>\n",
              "      <th>25</th>\n",
              "      <td>22</td>\n",
              "      <td>30</td>\n",
              "      <td>11</td>\n",
              "      <td>19</td>\n",
              "      <td>36</td>\n",
              "    </tr>\n",
              "    <tr>\n",
              "      <th>26</th>\n",
              "      <td>49</td>\n",
              "      <td>41</td>\n",
              "      <td>31</td>\n",
              "      <td>16</td>\n",
              "      <td>13</td>\n",
              "    </tr>\n",
              "    <tr>\n",
              "      <th>27</th>\n",
              "      <td>37</td>\n",
              "      <td>38</td>\n",
              "      <td>46</td>\n",
              "      <td>12</td>\n",
              "      <td>32</td>\n",
              "    </tr>\n",
              "    <tr>\n",
              "      <th>28</th>\n",
              "      <td>30</td>\n",
              "      <td>15</td>\n",
              "      <td>46</td>\n",
              "      <td>42</td>\n",
              "      <td>12</td>\n",
              "    </tr>\n",
              "    <tr>\n",
              "      <th>29</th>\n",
              "      <td>10</td>\n",
              "      <td>28</td>\n",
              "      <td>36</td>\n",
              "      <td>2</td>\n",
              "      <td>24</td>\n",
              "    </tr>\n",
              "    <tr>\n",
              "      <th>30</th>\n",
              "      <td>20</td>\n",
              "      <td>23</td>\n",
              "      <td>24</td>\n",
              "      <td>17</td>\n",
              "      <td>43</td>\n",
              "    </tr>\n",
              "    <tr>\n",
              "      <th>31</th>\n",
              "      <td>23</td>\n",
              "      <td>24</td>\n",
              "      <td>2</td>\n",
              "      <td>15</td>\n",
              "      <td>28</td>\n",
              "    </tr>\n",
              "    <tr>\n",
              "      <th>32</th>\n",
              "      <td>5</td>\n",
              "      <td>8</td>\n",
              "      <td>31</td>\n",
              "      <td>43</td>\n",
              "      <td>39</td>\n",
              "    </tr>\n",
              "    <tr>\n",
              "      <th>33</th>\n",
              "      <td>36</td>\n",
              "      <td>36</td>\n",
              "      <td>11</td>\n",
              "      <td>35</td>\n",
              "      <td>46</td>\n",
              "    </tr>\n",
              "    <tr>\n",
              "      <th>34</th>\n",
              "      <td>19</td>\n",
              "      <td>6</td>\n",
              "      <td>15</td>\n",
              "      <td>14</td>\n",
              "      <td>32</td>\n",
              "    </tr>\n",
              "    <tr>\n",
              "      <th>35</th>\n",
              "      <td>2</td>\n",
              "      <td>42</td>\n",
              "      <td>38</td>\n",
              "      <td>27</td>\n",
              "      <td>40</td>\n",
              "    </tr>\n",
              "    <tr>\n",
              "      <th>36</th>\n",
              "      <td>26</td>\n",
              "      <td>39</td>\n",
              "      <td>26</td>\n",
              "      <td>22</td>\n",
              "      <td>6</td>\n",
              "    </tr>\n",
              "    <tr>\n",
              "      <th>37</th>\n",
              "      <td>39</td>\n",
              "      <td>17</td>\n",
              "      <td>14</td>\n",
              "      <td>19</td>\n",
              "      <td>8</td>\n",
              "    </tr>\n",
              "    <tr>\n",
              "      <th>38</th>\n",
              "      <td>26</td>\n",
              "      <td>29</td>\n",
              "      <td>19</td>\n",
              "      <td>24</td>\n",
              "      <td>44</td>\n",
              "    </tr>\n",
              "    <tr>\n",
              "      <th>39</th>\n",
              "      <td>28</td>\n",
              "      <td>12</td>\n",
              "      <td>35</td>\n",
              "      <td>17</td>\n",
              "      <td>34</td>\n",
              "    </tr>\n",
              "    <tr>\n",
              "      <th>40</th>\n",
              "      <td>37</td>\n",
              "      <td>16</td>\n",
              "      <td>17</td>\n",
              "      <td>31</td>\n",
              "      <td>36</td>\n",
              "    </tr>\n",
              "    <tr>\n",
              "      <th>41</th>\n",
              "      <td>11</td>\n",
              "      <td>36</td>\n",
              "      <td>35</td>\n",
              "      <td>29</td>\n",
              "      <td>17</td>\n",
              "    </tr>\n",
              "    <tr>\n",
              "      <th>42</th>\n",
              "      <td>10</td>\n",
              "      <td>20</td>\n",
              "      <td>9</td>\n",
              "      <td>3</td>\n",
              "      <td>28</td>\n",
              "    </tr>\n",
              "    <tr>\n",
              "      <th>43</th>\n",
              "      <td>42</td>\n",
              "      <td>21</td>\n",
              "      <td>37</td>\n",
              "      <td>22</td>\n",
              "      <td>48</td>\n",
              "    </tr>\n",
              "    <tr>\n",
              "      <th>44</th>\n",
              "      <td>39</td>\n",
              "      <td>49</td>\n",
              "      <td>4</td>\n",
              "      <td>1</td>\n",
              "      <td>25</td>\n",
              "    </tr>\n",
              "    <tr>\n",
              "      <th>45</th>\n",
              "      <td>26</td>\n",
              "      <td>23</td>\n",
              "      <td>38</td>\n",
              "      <td>33</td>\n",
              "      <td>12</td>\n",
              "    </tr>\n",
              "    <tr>\n",
              "      <th>46</th>\n",
              "      <td>0</td>\n",
              "      <td>29</td>\n",
              "      <td>49</td>\n",
              "      <td>19</td>\n",
              "      <td>38</td>\n",
              "    </tr>\n",
              "    <tr>\n",
              "      <th>47</th>\n",
              "      <td>24</td>\n",
              "      <td>23</td>\n",
              "      <td>43</td>\n",
              "      <td>25</td>\n",
              "      <td>46</td>\n",
              "    </tr>\n",
              "    <tr>\n",
              "      <th>48</th>\n",
              "      <td>27</td>\n",
              "      <td>4</td>\n",
              "      <td>6</td>\n",
              "      <td>20</td>\n",
              "      <td>8</td>\n",
              "    </tr>\n",
              "    <tr>\n",
              "      <th>49</th>\n",
              "      <td>12</td>\n",
              "      <td>49</td>\n",
              "      <td>14</td>\n",
              "      <td>11</td>\n",
              "      <td>3</td>\n",
              "    </tr>\n",
              "  </tbody>\n",
              "</table>\n",
              "</div>"
            ],
            "text/plain": [
              "     P   Q   R   S   T\n",
              "0   16  49  27   4  48\n",
              "1   22   2  40  38  46\n",
              "2   49   4  13  36  33\n",
              "3   26  14  43  12  22\n",
              "4   31  17   2  48  16\n",
              "5    1  34  19  45   5\n",
              "6   43  35  38  45  25\n",
              "7    5  23  24   9  20\n",
              "8    5   3  19  38  37\n",
              "9   43  18   9  21  15\n",
              "10  10  35  49  30  19\n",
              "11  42  10  21   2  29\n",
              "12  49  41  47  11  48\n",
              "13  24  32  10  23  17\n",
              "14  30  13   2  13  28\n",
              "15  39  38  13  39  16\n",
              "16  10  16  47  35  13\n",
              "17  47  40  14  35  41\n",
              "18  49  25  14   3   1\n",
              "19  13  23  46   8  38\n",
              "20  34  34  45  10  34\n",
              "21  14  23  47  39  41\n",
              "22  47  21  41   5  22\n",
              "23  38  16  25   5  45\n",
              "24   6  41  41  40  26\n",
              "25  22  30  11  19  36\n",
              "26  49  41  31  16  13\n",
              "27  37  38  46  12  32\n",
              "28  30  15  46  42  12\n",
              "29  10  28  36   2  24\n",
              "30  20  23  24  17  43\n",
              "31  23  24   2  15  28\n",
              "32   5   8  31  43  39\n",
              "33  36  36  11  35  46\n",
              "34  19   6  15  14  32\n",
              "35   2  42  38  27  40\n",
              "36  26  39  26  22   6\n",
              "37  39  17  14  19   8\n",
              "38  26  29  19  24  44\n",
              "39  28  12  35  17  34\n",
              "40  37  16  17  31  36\n",
              "41  11  36  35  29  17\n",
              "42  10  20   9   3  28\n",
              "43  42  21  37  22  48\n",
              "44  39  49   4   1  25\n",
              "45  26  23  38  33  12\n",
              "46   0  29  49  19  38\n",
              "47  24  23  43  25  46\n",
              "48  27   4   6  20   8\n",
              "49  12  49  14  11   3"
            ]
          },
          "metadata": {
            "tags": []
          },
          "execution_count": 51
        }
      ]
    },
    {
      "cell_type": "code",
      "metadata": {
        "id": "8l7WWcRUhA3p",
        "colab_type": "code",
        "colab": {
          "base_uri": "https://localhost:8080/",
          "height": 391
        },
        "outputId": "e2a889c2-7f12-41b4-c8bf-0418e3be8de2"
      },
      "source": [
        "df.head()\n",
        "df.tail()"
      ],
      "execution_count": 52,
      "outputs": [
        {
          "output_type": "execute_result",
          "data": {
            "text/html": [
              "<div>\n",
              "<style scoped>\n",
              "    .dataframe tbody tr th:only-of-type {\n",
              "        vertical-align: middle;\n",
              "    }\n",
              "\n",
              "    .dataframe tbody tr th {\n",
              "        vertical-align: top;\n",
              "    }\n",
              "\n",
              "    .dataframe thead th {\n",
              "        text-align: right;\n",
              "    }\n",
              "</style>\n",
              "<table border=\"1\" class=\"dataframe\">\n",
              "  <thead>\n",
              "    <tr style=\"text-align: right;\">\n",
              "      <th></th>\n",
              "      <th>P</th>\n",
              "      <th>Q</th>\n",
              "      <th>R</th>\n",
              "      <th>S</th>\n",
              "      <th>T</th>\n",
              "    </tr>\n",
              "  </thead>\n",
              "  <tbody>\n",
              "    <tr>\n",
              "      <th>0</th>\n",
              "      <td>16</td>\n",
              "      <td>49</td>\n",
              "      <td>27</td>\n",
              "      <td>4</td>\n",
              "      <td>48</td>\n",
              "    </tr>\n",
              "    <tr>\n",
              "      <th>1</th>\n",
              "      <td>22</td>\n",
              "      <td>2</td>\n",
              "      <td>40</td>\n",
              "      <td>38</td>\n",
              "      <td>46</td>\n",
              "    </tr>\n",
              "    <tr>\n",
              "      <th>2</th>\n",
              "      <td>49</td>\n",
              "      <td>4</td>\n",
              "      <td>13</td>\n",
              "      <td>36</td>\n",
              "      <td>33</td>\n",
              "    </tr>\n",
              "    <tr>\n",
              "      <th>3</th>\n",
              "      <td>26</td>\n",
              "      <td>14</td>\n",
              "      <td>43</td>\n",
              "      <td>12</td>\n",
              "      <td>22</td>\n",
              "    </tr>\n",
              "    <tr>\n",
              "      <th>4</th>\n",
              "      <td>31</td>\n",
              "      <td>17</td>\n",
              "      <td>2</td>\n",
              "      <td>48</td>\n",
              "      <td>16</td>\n",
              "    </tr>\n",
              "  </tbody>\n",
              "</table>\n",
              "</div>"
            ],
            "text/plain": [
              "    P   Q   R   S   T\n",
              "0  16  49  27   4  48\n",
              "1  22   2  40  38  46\n",
              "2  49   4  13  36  33\n",
              "3  26  14  43  12  22\n",
              "4  31  17   2  48  16"
            ]
          },
          "metadata": {
            "tags": []
          },
          "execution_count": 52
        },
        {
          "output_type": "execute_result",
          "data": {
            "text/html": [
              "<div>\n",
              "<style scoped>\n",
              "    .dataframe tbody tr th:only-of-type {\n",
              "        vertical-align: middle;\n",
              "    }\n",
              "\n",
              "    .dataframe tbody tr th {\n",
              "        vertical-align: top;\n",
              "    }\n",
              "\n",
              "    .dataframe thead th {\n",
              "        text-align: right;\n",
              "    }\n",
              "</style>\n",
              "<table border=\"1\" class=\"dataframe\">\n",
              "  <thead>\n",
              "    <tr style=\"text-align: right;\">\n",
              "      <th></th>\n",
              "      <th>P</th>\n",
              "      <th>Q</th>\n",
              "      <th>R</th>\n",
              "      <th>S</th>\n",
              "      <th>T</th>\n",
              "    </tr>\n",
              "  </thead>\n",
              "  <tbody>\n",
              "    <tr>\n",
              "      <th>45</th>\n",
              "      <td>26</td>\n",
              "      <td>23</td>\n",
              "      <td>38</td>\n",
              "      <td>33</td>\n",
              "      <td>12</td>\n",
              "    </tr>\n",
              "    <tr>\n",
              "      <th>46</th>\n",
              "      <td>0</td>\n",
              "      <td>29</td>\n",
              "      <td>49</td>\n",
              "      <td>19</td>\n",
              "      <td>38</td>\n",
              "    </tr>\n",
              "    <tr>\n",
              "      <th>47</th>\n",
              "      <td>24</td>\n",
              "      <td>23</td>\n",
              "      <td>43</td>\n",
              "      <td>25</td>\n",
              "      <td>46</td>\n",
              "    </tr>\n",
              "    <tr>\n",
              "      <th>48</th>\n",
              "      <td>27</td>\n",
              "      <td>4</td>\n",
              "      <td>6</td>\n",
              "      <td>20</td>\n",
              "      <td>8</td>\n",
              "    </tr>\n",
              "    <tr>\n",
              "      <th>49</th>\n",
              "      <td>12</td>\n",
              "      <td>49</td>\n",
              "      <td>14</td>\n",
              "      <td>11</td>\n",
              "      <td>3</td>\n",
              "    </tr>\n",
              "  </tbody>\n",
              "</table>\n",
              "</div>"
            ],
            "text/plain": [
              "     P   Q   R   S   T\n",
              "45  26  23  38  33  12\n",
              "46   0  29  49  19  38\n",
              "47  24  23  43  25  46\n",
              "48  27   4   6  20   8\n",
              "49  12  49  14  11   3"
            ]
          },
          "metadata": {
            "tags": []
          },
          "execution_count": 52
        }
      ]
    },
    {
      "cell_type": "code",
      "metadata": {
        "id": "nE36q6L5hA39",
        "colab_type": "code",
        "colab": {
          "base_uri": "https://localhost:8080/",
          "height": 34
        },
        "outputId": "564137fa-32d8-46f6-a6b4-b0ce9d257145"
      },
      "source": [
        "type(df)"
      ],
      "execution_count": 53,
      "outputs": [
        {
          "output_type": "execute_result",
          "data": {
            "text/plain": [
              "pandas.core.frame.DataFrame"
            ]
          },
          "metadata": {
            "tags": []
          },
          "execution_count": 53
        }
      ]
    },
    {
      "cell_type": "code",
      "metadata": {
        "scrolled": true,
        "id": "o0pSMf5mhA4e",
        "colab_type": "code",
        "colab": {
          "base_uri": "https://localhost:8080/",
          "height": 34
        },
        "outputId": "ca0a3ed3-68bc-4e71-fae3-96d4851ca281"
      },
      "source": [
        "df.columns"
      ],
      "execution_count": 54,
      "outputs": [
        {
          "output_type": "execute_result",
          "data": {
            "text/plain": [
              "Index(['P', 'Q', 'R', 'S', 'T'], dtype='object')"
            ]
          },
          "metadata": {
            "tags": []
          },
          "execution_count": 54
        }
      ]
    },
    {
      "cell_type": "code",
      "metadata": {
        "scrolled": true,
        "id": "tfEK8LEAhA4m",
        "colab_type": "code",
        "colab": {
          "base_uri": "https://localhost:8080/",
          "height": 34
        },
        "outputId": "4341b3a9-7a1b-4f3a-9b78-0fadd0f98398"
      },
      "source": [
        "# (rows,columns)\n",
        "df.shape"
      ],
      "execution_count": 55,
      "outputs": [
        {
          "output_type": "execute_result",
          "data": {
            "text/plain": [
              "(50, 5)"
            ]
          },
          "metadata": {
            "tags": []
          },
          "execution_count": 55
        }
      ]
    },
    {
      "cell_type": "code",
      "metadata": {
        "id": "QsdxA5dOhA4y",
        "colab_type": "code",
        "colab": {
          "base_uri": "https://localhost:8080/",
          "height": 221
        },
        "outputId": "9c41dfc7-c41c-4345-f7a5-5aaef96c0511"
      },
      "source": [
        "df.info()"
      ],
      "execution_count": 56,
      "outputs": [
        {
          "output_type": "stream",
          "text": [
            "<class 'pandas.core.frame.DataFrame'>\n",
            "RangeIndex: 50 entries, 0 to 49\n",
            "Data columns (total 5 columns):\n",
            " #   Column  Non-Null Count  Dtype\n",
            "---  ------  --------------  -----\n",
            " 0   P       50 non-null     int64\n",
            " 1   Q       50 non-null     int64\n",
            " 2   R       50 non-null     int64\n",
            " 3   S       50 non-null     int64\n",
            " 4   T       50 non-null     int64\n",
            "dtypes: int64(5)\n",
            "memory usage: 2.1 KB\n"
          ],
          "name": "stdout"
        }
      ]
    },
    {
      "cell_type": "code",
      "metadata": {
        "collapsed": true,
        "id": "5KLVkyochA5N",
        "colab_type": "code",
        "colab": {
          "base_uri": "https://localhost:8080/",
          "height": 577
        },
        "outputId": "bc439e61-5996-411b-b2e1-1b6560004ea9"
      },
      "source": [
        "# statistical summary of numeric columns\n",
        "df.describe()\n",
        "df.describe(percentiles=[0.44,0.99])"
      ],
      "execution_count": 57,
      "outputs": [
        {
          "output_type": "execute_result",
          "data": {
            "text/html": [
              "<div>\n",
              "<style scoped>\n",
              "    .dataframe tbody tr th:only-of-type {\n",
              "        vertical-align: middle;\n",
              "    }\n",
              "\n",
              "    .dataframe tbody tr th {\n",
              "        vertical-align: top;\n",
              "    }\n",
              "\n",
              "    .dataframe thead th {\n",
              "        text-align: right;\n",
              "    }\n",
              "</style>\n",
              "<table border=\"1\" class=\"dataframe\">\n",
              "  <thead>\n",
              "    <tr style=\"text-align: right;\">\n",
              "      <th></th>\n",
              "      <th>P</th>\n",
              "      <th>Q</th>\n",
              "      <th>R</th>\n",
              "      <th>S</th>\n",
              "      <th>T</th>\n",
              "    </tr>\n",
              "  </thead>\n",
              "  <tbody>\n",
              "    <tr>\n",
              "      <th>count</th>\n",
              "      <td>50.000000</td>\n",
              "      <td>50.000000</td>\n",
              "      <td>50.000000</td>\n",
              "      <td>50.000000</td>\n",
              "      <td>50.000000</td>\n",
              "    </tr>\n",
              "    <tr>\n",
              "      <th>mean</th>\n",
              "      <td>25.860000</td>\n",
              "      <td>25.300000</td>\n",
              "      <td>26.660000</td>\n",
              "      <td>22.240000</td>\n",
              "      <td>27.660000</td>\n",
              "    </tr>\n",
              "    <tr>\n",
              "      <th>std</th>\n",
              "      <td>14.844789</td>\n",
              "      <td>12.828937</td>\n",
              "      <td>15.120752</td>\n",
              "      <td>13.680852</td>\n",
              "      <td>13.673466</td>\n",
              "    </tr>\n",
              "    <tr>\n",
              "      <th>min</th>\n",
              "      <td>0.000000</td>\n",
              "      <td>2.000000</td>\n",
              "      <td>2.000000</td>\n",
              "      <td>1.000000</td>\n",
              "      <td>1.000000</td>\n",
              "    </tr>\n",
              "    <tr>\n",
              "      <th>25%</th>\n",
              "      <td>12.250000</td>\n",
              "      <td>16.000000</td>\n",
              "      <td>14.000000</td>\n",
              "      <td>11.250000</td>\n",
              "      <td>16.250000</td>\n",
              "    </tr>\n",
              "    <tr>\n",
              "      <th>50%</th>\n",
              "      <td>26.000000</td>\n",
              "      <td>23.000000</td>\n",
              "      <td>25.500000</td>\n",
              "      <td>20.500000</td>\n",
              "      <td>28.000000</td>\n",
              "    </tr>\n",
              "    <tr>\n",
              "      <th>75%</th>\n",
              "      <td>38.750000</td>\n",
              "      <td>35.750000</td>\n",
              "      <td>40.750000</td>\n",
              "      <td>35.000000</td>\n",
              "      <td>38.750000</td>\n",
              "    </tr>\n",
              "    <tr>\n",
              "      <th>max</th>\n",
              "      <td>49.000000</td>\n",
              "      <td>49.000000</td>\n",
              "      <td>49.000000</td>\n",
              "      <td>48.000000</td>\n",
              "      <td>48.000000</td>\n",
              "    </tr>\n",
              "  </tbody>\n",
              "</table>\n",
              "</div>"
            ],
            "text/plain": [
              "               P          Q          R          S          T\n",
              "count  50.000000  50.000000  50.000000  50.000000  50.000000\n",
              "mean   25.860000  25.300000  26.660000  22.240000  27.660000\n",
              "std    14.844789  12.828937  15.120752  13.680852  13.673466\n",
              "min     0.000000   2.000000   2.000000   1.000000   1.000000\n",
              "25%    12.250000  16.000000  14.000000  11.250000  16.250000\n",
              "50%    26.000000  23.000000  25.500000  20.500000  28.000000\n",
              "75%    38.750000  35.750000  40.750000  35.000000  38.750000\n",
              "max    49.000000  49.000000  49.000000  48.000000  48.000000"
            ]
          },
          "metadata": {
            "tags": []
          },
          "execution_count": 57
        },
        {
          "output_type": "execute_result",
          "data": {
            "text/html": [
              "<div>\n",
              "<style scoped>\n",
              "    .dataframe tbody tr th:only-of-type {\n",
              "        vertical-align: middle;\n",
              "    }\n",
              "\n",
              "    .dataframe tbody tr th {\n",
              "        vertical-align: top;\n",
              "    }\n",
              "\n",
              "    .dataframe thead th {\n",
              "        text-align: right;\n",
              "    }\n",
              "</style>\n",
              "<table border=\"1\" class=\"dataframe\">\n",
              "  <thead>\n",
              "    <tr style=\"text-align: right;\">\n",
              "      <th></th>\n",
              "      <th>P</th>\n",
              "      <th>Q</th>\n",
              "      <th>R</th>\n",
              "      <th>S</th>\n",
              "      <th>T</th>\n",
              "    </tr>\n",
              "  </thead>\n",
              "  <tbody>\n",
              "    <tr>\n",
              "      <th>count</th>\n",
              "      <td>50.000000</td>\n",
              "      <td>50.000000</td>\n",
              "      <td>50.000000</td>\n",
              "      <td>50.000000</td>\n",
              "      <td>50.000000</td>\n",
              "    </tr>\n",
              "    <tr>\n",
              "      <th>mean</th>\n",
              "      <td>25.860000</td>\n",
              "      <td>25.300000</td>\n",
              "      <td>26.660000</td>\n",
              "      <td>22.240000</td>\n",
              "      <td>27.660000</td>\n",
              "    </tr>\n",
              "    <tr>\n",
              "      <th>std</th>\n",
              "      <td>14.844789</td>\n",
              "      <td>12.828937</td>\n",
              "      <td>15.120752</td>\n",
              "      <td>13.680852</td>\n",
              "      <td>13.673466</td>\n",
              "    </tr>\n",
              "    <tr>\n",
              "      <th>min</th>\n",
              "      <td>0.000000</td>\n",
              "      <td>2.000000</td>\n",
              "      <td>2.000000</td>\n",
              "      <td>1.000000</td>\n",
              "      <td>1.000000</td>\n",
              "    </tr>\n",
              "    <tr>\n",
              "      <th>44%</th>\n",
              "      <td>24.000000</td>\n",
              "      <td>23.000000</td>\n",
              "      <td>22.680000</td>\n",
              "      <td>19.000000</td>\n",
              "      <td>25.560000</td>\n",
              "    </tr>\n",
              "    <tr>\n",
              "      <th>50%</th>\n",
              "      <td>26.000000</td>\n",
              "      <td>23.000000</td>\n",
              "      <td>25.500000</td>\n",
              "      <td>20.500000</td>\n",
              "      <td>28.000000</td>\n",
              "    </tr>\n",
              "    <tr>\n",
              "      <th>99%</th>\n",
              "      <td>49.000000</td>\n",
              "      <td>49.000000</td>\n",
              "      <td>49.000000</td>\n",
              "      <td>46.530000</td>\n",
              "      <td>48.000000</td>\n",
              "    </tr>\n",
              "    <tr>\n",
              "      <th>max</th>\n",
              "      <td>49.000000</td>\n",
              "      <td>49.000000</td>\n",
              "      <td>49.000000</td>\n",
              "      <td>48.000000</td>\n",
              "      <td>48.000000</td>\n",
              "    </tr>\n",
              "  </tbody>\n",
              "</table>\n",
              "</div>"
            ],
            "text/plain": [
              "               P          Q          R          S          T\n",
              "count  50.000000  50.000000  50.000000  50.000000  50.000000\n",
              "mean   25.860000  25.300000  26.660000  22.240000  27.660000\n",
              "std    14.844789  12.828937  15.120752  13.680852  13.673466\n",
              "min     0.000000   2.000000   2.000000   1.000000   1.000000\n",
              "44%    24.000000  23.000000  22.680000  19.000000  25.560000\n",
              "50%    26.000000  23.000000  25.500000  20.500000  28.000000\n",
              "99%    49.000000  49.000000  49.000000  46.530000  48.000000\n",
              "max    49.000000  49.000000  49.000000  48.000000  48.000000"
            ]
          },
          "metadata": {
            "tags": []
          },
          "execution_count": 57
        }
      ]
    },
    {
      "cell_type": "code",
      "metadata": {
        "collapsed": true,
        "id": "M8bc0tEZhA5W",
        "colab_type": "code",
        "colab": {
          "base_uri": "https://localhost:8080/",
          "height": 544
        },
        "outputId": "fb96344a-c8ce-414d-a2e7-9427257b714b"
      },
      "source": [
        "df.P.value_counts()"
      ],
      "execution_count": 58,
      "outputs": [
        {
          "output_type": "execute_result",
          "data": {
            "text/plain": [
              "49    4\n",
              "26    4\n",
              "10    4\n",
              "39    3\n",
              "5     3\n",
              "43    2\n",
              "42    2\n",
              "37    2\n",
              "22    2\n",
              "47    2\n",
              "30    2\n",
              "24    2\n",
              "12    1\n",
              "6     1\n",
              "11    1\n",
              "14    1\n",
              "2     1\n",
              "1     1\n",
              "13    1\n",
              "23    1\n",
              "16    1\n",
              "19    1\n",
              "20    1\n",
              "27    1\n",
              "28    1\n",
              "31    1\n",
              "34    1\n",
              "36    1\n",
              "38    1\n",
              "0     1\n",
              "Name: P, dtype: int64"
            ]
          },
          "metadata": {
            "tags": []
          },
          "execution_count": 58
        }
      ]
    },
    {
      "cell_type": "code",
      "metadata": {
        "id": "dWccvY1LhA5l",
        "colab_type": "code",
        "colab": {
          "base_uri": "https://localhost:8080/",
          "height": 51
        },
        "outputId": "69ee8000-104e-4c7b-a526-e402822f6c90"
      },
      "source": [
        "df.P.unique()\n",
        "df.P.nunique()"
      ],
      "execution_count": 59,
      "outputs": [
        {
          "output_type": "execute_result",
          "data": {
            "text/plain": [
              "array([16, 22, 49, 26, 31,  1, 43,  5, 10, 42, 24, 30, 39, 47, 13, 34, 14,\n",
              "       38,  6, 37, 20, 23, 36, 19,  2, 28, 11,  0, 27, 12])"
            ]
          },
          "metadata": {
            "tags": []
          },
          "execution_count": 59
        },
        {
          "output_type": "execute_result",
          "data": {
            "text/plain": [
              "30"
            ]
          },
          "metadata": {
            "tags": []
          },
          "execution_count": 59
        }
      ]
    },
    {
      "cell_type": "code",
      "metadata": {
        "scrolled": true,
        "id": "SmleTxefhA5s",
        "colab_type": "code",
        "colab": {
          "base_uri": "https://localhost:8080/",
          "height": 34
        },
        "outputId": "4450e1d7-89ed-4a7a-cd5b-32e08bcfdeb1"
      },
      "source": [
        "df.Q.nunique()"
      ],
      "execution_count": 60,
      "outputs": [
        {
          "output_type": "execute_result",
          "data": {
            "text/plain": [
              "31"
            ]
          },
          "metadata": {
            "tags": []
          },
          "execution_count": 60
        }
      ]
    },
    {
      "cell_type": "code",
      "metadata": {
        "id": "sYPp73xcl1JQ",
        "colab_type": "code",
        "colab": {}
      },
      "source": [
        ""
      ],
      "execution_count": 0,
      "outputs": []
    }
  ]
}